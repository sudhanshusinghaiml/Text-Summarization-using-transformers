{
 "cells": [
  {
   "cell_type": "markdown",
   "id": "VsVoEZf20j79",
   "metadata": {
    "id": "VsVoEZf20j79"
   },
   "source": [
    "## Text Summarization using fine tuned facebook/bart-base model\n",
    "---\n",
    "\n"
   ]
  },
  {
   "cell_type": "markdown",
   "id": "Q55hNTwjYyZx",
   "metadata": {
    "id": "Q55hNTwjYyZx"
   },
   "source": [
    "***Install necessary Libraries***"
   ]
  },
  {
   "cell_type": "code",
   "execution_count": 2,
   "id": "3j4B9TxwYxuZ",
   "metadata": {
    "colab": {
     "base_uri": "https://localhost:8080/"
    },
    "executionInfo": {
     "elapsed": 6523,
     "status": "ok",
     "timestamp": 1713433781870,
     "user": {
      "displayName": "Sudhanshu Singh",
      "userId": "08271345580702489067"
     },
     "user_tz": -330
    },
    "id": "3j4B9TxwYxuZ",
    "outputId": "a3e3d849-50e4-4067-dec3-c84b2c5fc677"
   },
   "outputs": [
    {
     "name": "stdout",
     "output_type": "stream",
     "text": [
      "Requirement already satisfied: datasets in /usr/local/lib/python3.10/dist-packages (2.18.0)\n",
      "Requirement already satisfied: evaluate in /usr/local/lib/python3.10/dist-packages (0.4.1)\n",
      "Requirement already satisfied: transformers in /usr/local/lib/python3.10/dist-packages (4.38.2)\n",
      "Requirement already satisfied: rouge-score in /usr/local/lib/python3.10/dist-packages (0.1.2)\n",
      "Requirement already satisfied: nltk in /usr/local/lib/python3.10/dist-packages (3.8.1)\n",
      "Requirement already satisfied: filelock in /usr/local/lib/python3.10/dist-packages (from datasets) (3.13.4)\n",
      "Requirement already satisfied: numpy>=1.17 in /usr/local/lib/python3.10/dist-packages (from datasets) (1.25.2)\n",
      "Requirement already satisfied: pyarrow>=12.0.0 in /usr/local/lib/python3.10/dist-packages (from datasets) (14.0.2)\n",
      "Requirement already satisfied: pyarrow-hotfix in /usr/local/lib/python3.10/dist-packages (from datasets) (0.6)\n",
      "Requirement already satisfied: dill<0.3.9,>=0.3.0 in /usr/local/lib/python3.10/dist-packages (from datasets) (0.3.8)\n",
      "Requirement already satisfied: pandas in /usr/local/lib/python3.10/dist-packages (from datasets) (2.0.3)\n",
      "Requirement already satisfied: requests>=2.19.0 in /usr/local/lib/python3.10/dist-packages (from datasets) (2.31.0)\n",
      "Requirement already satisfied: tqdm>=4.62.1 in /usr/local/lib/python3.10/dist-packages (from datasets) (4.66.2)\n",
      "Requirement already satisfied: xxhash in /usr/local/lib/python3.10/dist-packages (from datasets) (3.4.1)\n",
      "Requirement already satisfied: multiprocess in /usr/local/lib/python3.10/dist-packages (from datasets) (0.70.16)\n",
      "Requirement already satisfied: fsspec[http]<=2024.2.0,>=2023.1.0 in /usr/local/lib/python3.10/dist-packages (from datasets) (2023.6.0)\n",
      "Requirement already satisfied: aiohttp in /usr/local/lib/python3.10/dist-packages (from datasets) (3.9.3)\n",
      "Requirement already satisfied: huggingface-hub>=0.19.4 in /usr/local/lib/python3.10/dist-packages (from datasets) (0.20.3)\n",
      "Requirement already satisfied: packaging in /usr/local/lib/python3.10/dist-packages (from datasets) (24.0)\n",
      "Requirement already satisfied: pyyaml>=5.1 in /usr/local/lib/python3.10/dist-packages (from datasets) (6.0.1)\n",
      "Requirement already satisfied: responses<0.19 in /usr/local/lib/python3.10/dist-packages (from evaluate) (0.18.0)\n",
      "Requirement already satisfied: regex!=2019.12.17 in /usr/local/lib/python3.10/dist-packages (from transformers) (2023.12.25)\n",
      "Requirement already satisfied: tokenizers<0.19,>=0.14 in /usr/local/lib/python3.10/dist-packages (from transformers) (0.15.2)\n",
      "Requirement already satisfied: safetensors>=0.4.1 in /usr/local/lib/python3.10/dist-packages (from transformers) (0.4.2)\n",
      "Requirement already satisfied: absl-py in /usr/local/lib/python3.10/dist-packages (from rouge-score) (1.4.0)\n",
      "Requirement already satisfied: six>=1.14.0 in /usr/local/lib/python3.10/dist-packages (from rouge-score) (1.16.0)\n",
      "Requirement already satisfied: click in /usr/local/lib/python3.10/dist-packages (from nltk) (8.1.7)\n",
      "Requirement already satisfied: joblib in /usr/local/lib/python3.10/dist-packages (from nltk) (1.4.0)\n",
      "Requirement already satisfied: aiosignal>=1.1.2 in /usr/local/lib/python3.10/dist-packages (from aiohttp->datasets) (1.3.1)\n",
      "Requirement already satisfied: attrs>=17.3.0 in /usr/local/lib/python3.10/dist-packages (from aiohttp->datasets) (23.2.0)\n",
      "Requirement already satisfied: frozenlist>=1.1.1 in /usr/local/lib/python3.10/dist-packages (from aiohttp->datasets) (1.4.1)\n",
      "Requirement already satisfied: multidict<7.0,>=4.5 in /usr/local/lib/python3.10/dist-packages (from aiohttp->datasets) (6.0.5)\n",
      "Requirement already satisfied: yarl<2.0,>=1.0 in /usr/local/lib/python3.10/dist-packages (from aiohttp->datasets) (1.9.4)\n",
      "Requirement already satisfied: async-timeout<5.0,>=4.0 in /usr/local/lib/python3.10/dist-packages (from aiohttp->datasets) (4.0.3)\n",
      "Requirement already satisfied: typing-extensions>=3.7.4.3 in /usr/local/lib/python3.10/dist-packages (from huggingface-hub>=0.19.4->datasets) (4.11.0)\n",
      "Requirement already satisfied: charset-normalizer<4,>=2 in /usr/local/lib/python3.10/dist-packages (from requests>=2.19.0->datasets) (3.3.2)\n",
      "Requirement already satisfied: idna<4,>=2.5 in /usr/local/lib/python3.10/dist-packages (from requests>=2.19.0->datasets) (3.6)\n",
      "Requirement already satisfied: urllib3<3,>=1.21.1 in /usr/local/lib/python3.10/dist-packages (from requests>=2.19.0->datasets) (2.0.7)\n",
      "Requirement already satisfied: certifi>=2017.4.17 in /usr/local/lib/python3.10/dist-packages (from requests>=2.19.0->datasets) (2024.2.2)\n",
      "Requirement already satisfied: python-dateutil>=2.8.2 in /usr/local/lib/python3.10/dist-packages (from pandas->datasets) (2.8.2)\n",
      "Requirement already satisfied: pytz>=2020.1 in /usr/local/lib/python3.10/dist-packages (from pandas->datasets) (2023.4)\n",
      "Requirement already satisfied: tzdata>=2022.1 in /usr/local/lib/python3.10/dist-packages (from pandas->datasets) (2024.1)\n"
     ]
    }
   ],
   "source": [
    "!pip install datasets evaluate transformers rouge-score nltk"
   ]
  },
  {
   "cell_type": "code",
   "execution_count": 3,
   "id": "u9q0_cnBhJBo",
   "metadata": {
    "colab": {
     "base_uri": "https://localhost:8080/"
    },
    "executionInfo": {
     "elapsed": 6769,
     "status": "ok",
     "timestamp": 1713433788634,
     "user": {
      "displayName": "Sudhanshu Singh",
      "userId": "08271345580702489067"
     },
     "user_tz": -330
    },
    "id": "u9q0_cnBhJBo",
    "outputId": "36079d8f-3b06-4a60-a601-3c34ce315564"
   },
   "outputs": [
    {
     "name": "stdout",
     "output_type": "stream",
     "text": [
      "Requirement already satisfied: transformers[torch] in /usr/local/lib/python3.10/dist-packages (4.38.2)\n",
      "Requirement already satisfied: filelock in /usr/local/lib/python3.10/dist-packages (from transformers[torch]) (3.13.4)\n",
      "Requirement already satisfied: huggingface-hub<1.0,>=0.19.3 in /usr/local/lib/python3.10/dist-packages (from transformers[torch]) (0.20.3)\n",
      "Requirement already satisfied: numpy>=1.17 in /usr/local/lib/python3.10/dist-packages (from transformers[torch]) (1.25.2)\n",
      "Requirement already satisfied: packaging>=20.0 in /usr/local/lib/python3.10/dist-packages (from transformers[torch]) (24.0)\n",
      "Requirement already satisfied: pyyaml>=5.1 in /usr/local/lib/python3.10/dist-packages (from transformers[torch]) (6.0.1)\n",
      "Requirement already satisfied: regex!=2019.12.17 in /usr/local/lib/python3.10/dist-packages (from transformers[torch]) (2023.12.25)\n",
      "Requirement already satisfied: requests in /usr/local/lib/python3.10/dist-packages (from transformers[torch]) (2.31.0)\n",
      "Requirement already satisfied: tokenizers<0.19,>=0.14 in /usr/local/lib/python3.10/dist-packages (from transformers[torch]) (0.15.2)\n",
      "Requirement already satisfied: safetensors>=0.4.1 in /usr/local/lib/python3.10/dist-packages (from transformers[torch]) (0.4.2)\n",
      "Requirement already satisfied: tqdm>=4.27 in /usr/local/lib/python3.10/dist-packages (from transformers[torch]) (4.66.2)\n",
      "Requirement already satisfied: torch in /usr/local/lib/python3.10/dist-packages (from transformers[torch]) (2.2.1+cu121)\n",
      "Requirement already satisfied: accelerate>=0.21.0 in /usr/local/lib/python3.10/dist-packages (from transformers[torch]) (0.29.3)\n",
      "Requirement already satisfied: psutil in /usr/local/lib/python3.10/dist-packages (from accelerate>=0.21.0->transformers[torch]) (5.9.5)\n",
      "Requirement already satisfied: fsspec>=2023.5.0 in /usr/local/lib/python3.10/dist-packages (from huggingface-hub<1.0,>=0.19.3->transformers[torch]) (2023.6.0)\n",
      "Requirement already satisfied: typing-extensions>=3.7.4.3 in /usr/local/lib/python3.10/dist-packages (from huggingface-hub<1.0,>=0.19.3->transformers[torch]) (4.11.0)\n",
      "Requirement already satisfied: sympy in /usr/local/lib/python3.10/dist-packages (from torch->transformers[torch]) (1.12)\n",
      "Requirement already satisfied: networkx in /usr/local/lib/python3.10/dist-packages (from torch->transformers[torch]) (3.3)\n",
      "Requirement already satisfied: jinja2 in /usr/local/lib/python3.10/dist-packages (from torch->transformers[torch]) (3.1.3)\n",
      "Requirement already satisfied: nvidia-cuda-nvrtc-cu12==12.1.105 in /usr/local/lib/python3.10/dist-packages (from torch->transformers[torch]) (12.1.105)\n",
      "Requirement already satisfied: nvidia-cuda-runtime-cu12==12.1.105 in /usr/local/lib/python3.10/dist-packages (from torch->transformers[torch]) (12.1.105)\n",
      "Requirement already satisfied: nvidia-cuda-cupti-cu12==12.1.105 in /usr/local/lib/python3.10/dist-packages (from torch->transformers[torch]) (12.1.105)\n",
      "Requirement already satisfied: nvidia-cudnn-cu12==8.9.2.26 in /usr/local/lib/python3.10/dist-packages (from torch->transformers[torch]) (8.9.2.26)\n",
      "Requirement already satisfied: nvidia-cublas-cu12==12.1.3.1 in /usr/local/lib/python3.10/dist-packages (from torch->transformers[torch]) (12.1.3.1)\n",
      "Requirement already satisfied: nvidia-cufft-cu12==11.0.2.54 in /usr/local/lib/python3.10/dist-packages (from torch->transformers[torch]) (11.0.2.54)\n",
      "Requirement already satisfied: nvidia-curand-cu12==10.3.2.106 in /usr/local/lib/python3.10/dist-packages (from torch->transformers[torch]) (10.3.2.106)\n",
      "Requirement already satisfied: nvidia-cusolver-cu12==11.4.5.107 in /usr/local/lib/python3.10/dist-packages (from torch->transformers[torch]) (11.4.5.107)\n",
      "Requirement already satisfied: nvidia-cusparse-cu12==12.1.0.106 in /usr/local/lib/python3.10/dist-packages (from torch->transformers[torch]) (12.1.0.106)\n",
      "Requirement already satisfied: nvidia-nccl-cu12==2.19.3 in /usr/local/lib/python3.10/dist-packages (from torch->transformers[torch]) (2.19.3)\n",
      "Requirement already satisfied: nvidia-nvtx-cu12==12.1.105 in /usr/local/lib/python3.10/dist-packages (from torch->transformers[torch]) (12.1.105)\n",
      "Requirement already satisfied: triton==2.2.0 in /usr/local/lib/python3.10/dist-packages (from torch->transformers[torch]) (2.2.0)\n",
      "Requirement already satisfied: nvidia-nvjitlink-cu12 in /usr/local/lib/python3.10/dist-packages (from nvidia-cusolver-cu12==11.4.5.107->torch->transformers[torch]) (12.4.127)\n",
      "Requirement already satisfied: charset-normalizer<4,>=2 in /usr/local/lib/python3.10/dist-packages (from requests->transformers[torch]) (3.3.2)\n",
      "Requirement already satisfied: idna<4,>=2.5 in /usr/local/lib/python3.10/dist-packages (from requests->transformers[torch]) (3.6)\n",
      "Requirement already satisfied: urllib3<3,>=1.21.1 in /usr/local/lib/python3.10/dist-packages (from requests->transformers[torch]) (2.0.7)\n",
      "Requirement already satisfied: certifi>=2017.4.17 in /usr/local/lib/python3.10/dist-packages (from requests->transformers[torch]) (2024.2.2)\n",
      "Requirement already satisfied: MarkupSafe>=2.0 in /usr/local/lib/python3.10/dist-packages (from jinja2->torch->transformers[torch]) (2.1.5)\n",
      "Requirement already satisfied: mpmath>=0.19 in /usr/local/lib/python3.10/dist-packages (from sympy->torch->transformers[torch]) (1.3.0)\n"
     ]
    }
   ],
   "source": [
    "!pip install transformers[torch]"
   ]
  },
  {
   "cell_type": "code",
   "execution_count": 90,
   "id": "3gPgxCjpyhpj",
   "metadata": {
    "colab": {
     "base_uri": "https://localhost:8080/"
    },
    "executionInfo": {
     "elapsed": 10897,
     "status": "ok",
     "timestamp": 1713436776189,
     "user": {
      "displayName": "Sudhanshu Singh",
      "userId": "08271345580702489067"
     },
     "user_tz": -330
    },
    "id": "3gPgxCjpyhpj",
    "outputId": "31089943-922e-4649-c15b-2ed37a228c41"
   },
   "outputs": [
    {
     "name": "stdout",
     "output_type": "stream",
     "text": [
      "Requirement already satisfied: nltk in /usr/local/lib/python3.10/dist-packages (3.8.1)\n",
      "Requirement already satisfied: click in /usr/local/lib/python3.10/dist-packages (from nltk) (8.1.7)\n",
      "Requirement already satisfied: joblib in /usr/local/lib/python3.10/dist-packages (from nltk) (1.4.0)\n",
      "Requirement already satisfied: regex>=2021.8.3 in /usr/local/lib/python3.10/dist-packages (from nltk) (2023.12.25)\n",
      "Requirement already satisfied: tqdm in /usr/local/lib/python3.10/dist-packages (from nltk) (4.66.2)\n"
     ]
    }
   ],
   "source": [
    "!pip install nltk"
   ]
  },
  {
   "cell_type": "markdown",
   "id": "zvlApKyYaxM1",
   "metadata": {
    "id": "zvlApKyYaxM1"
   },
   "source": [
    "***Login to Huggingfacehub***"
   ]
  },
  {
   "cell_type": "code",
   "execution_count": 4,
   "id": "BcNoH07fawiq",
   "metadata": {
    "colab": {
     "base_uri": "https://localhost:8080/",
     "height": 145,
     "referenced_widgets": [
      "257fc91eb34741f2a1486c2cba409ed6",
      "24ffb09817454f968ba5db3b1b10d12b",
      "5ce52286d0f843b9a271d7bf5927ecbf",
      "3c84fdb37019404ea3cba8c30e0ce9a5",
      "a66f4ef10ad2454d8b98762e080cbbe4",
      "961875de06444a4a93b459dddd66c507",
      "0e7e071cddea4fdf946997e5ae474ba4",
      "0705c6bd06b744c89a2f219d9af7771a",
      "9f0a1751d84645e18a5b93d5f154f915",
      "6000c1cf05a74735a151cbe2c85856cc",
      "3777606e6bbe48df84f61572bd665cc8",
      "6c50c45f2e8e4bff84d1da20114199e1",
      "e426f249bcca49c8b328ed7b1d4337eb",
      "e711a41b1fb44e9a9b1507a972e753c1",
      "ab2e4abdb7e742c6b509e9e449c5d7cd",
      "c3d8b58223954e488cb69bb8854338c0",
      "9cb8d318735e463f80a15a84fd24138a",
      "30a9f59ba15b40fd95c635ca7f61d16b",
      "7502190765a94069997c8d2c5fca1373",
      "6c9ee97d6ba34b0e8123484c4c14db13",
      "7ff18894be604ef2ba404e7ce07ecd1b",
      "951cfe7cdc524ec2877356e57a3fdda3",
      "23052f00fa4947a6abc696050c1ea8fa",
      "98071d363b4b44f5a013ab97ca0e9829",
      "413388f37d2b4becbf09ced0ceac0137",
      "8cb2b5ca7c8b4247a408fd8d6bb6e947",
      "2a43cb2844bb46a6902c6dad329a8425",
      "41c2b9f8f79246d5b9e6e1a2528cb9e4",
      "95d9fd555e6c400eb75ed1a4f5fe0feb",
      "87a6b58d6d884dfe8954a4f7b824d0d1",
      "8c5e12a7f2a8421c8b3f1c29b0b5fed7",
      "d6c7bca91a054164833f7f445e326750"
     ]
    },
    "executionInfo": {
     "elapsed": 16,
     "status": "ok",
     "timestamp": 1713433788635,
     "user": {
      "displayName": "Sudhanshu Singh",
      "userId": "08271345580702489067"
     },
     "user_tz": -330
    },
    "id": "BcNoH07fawiq",
    "outputId": "b7ec629b-7e76-407d-baa8-318475c1e2a1"
   },
   "outputs": [
    {
     "data": {
      "application/vnd.jupyter.widget-view+json": {
       "model_id": "257fc91eb34741f2a1486c2cba409ed6",
       "version_major": 2,
       "version_minor": 0
      },
      "text/plain": [
       "VBox(children=(HTML(value='<center> <img\\nsrc=https://huggingface.co/front/assets/huggingface_logo-noborder.sv…"
      ]
     },
     "metadata": {},
     "output_type": "display_data"
    }
   ],
   "source": [
    "from huggingface_hub import notebook_login\n",
    "\n",
    "notebook_login()"
   ]
  },
  {
   "cell_type": "markdown",
   "id": "FgoG9QXCbIKl",
   "metadata": {
    "id": "FgoG9QXCbIKl"
   },
   "source": [
    "***Installing Git-lfs***"
   ]
  },
  {
   "cell_type": "code",
   "execution_count": 5,
   "id": "uJ85qW8hbEeT",
   "metadata": {
    "colab": {
     "base_uri": "https://localhost:8080/"
    },
    "executionInfo": {
     "elapsed": 2017,
     "status": "ok",
     "timestamp": 1713433790639,
     "user": {
      "displayName": "Sudhanshu Singh",
      "userId": "08271345580702489067"
     },
     "user_tz": -330
    },
    "id": "uJ85qW8hbEeT",
    "outputId": "c112eaf0-f26f-4be2-b1ca-1de146660afd"
   },
   "outputs": [
    {
     "name": "stdout",
     "output_type": "stream",
     "text": [
      "Reading package lists... Done\n",
      "Building dependency tree... Done\n",
      "Reading state information... Done\n",
      "git-lfs is already the newest version (3.0.2-1ubuntu0.2).\n",
      "0 upgraded, 0 newly installed, 0 to remove and 45 not upgraded.\n"
     ]
    }
   ],
   "source": [
    "!apt install git-lfs"
   ]
  },
  {
   "cell_type": "markdown",
   "id": "fDoxBfaLbS3L",
   "metadata": {
    "id": "fDoxBfaLbS3L"
   },
   "source": [
    "***Checking Transformer Version***"
   ]
  },
  {
   "cell_type": "code",
   "execution_count": 6,
   "id": "co3ow-9AbW4M",
   "metadata": {
    "colab": {
     "base_uri": "https://localhost:8080/"
    },
    "executionInfo": {
     "elapsed": 31,
     "status": "ok",
     "timestamp": 1713433790640,
     "user": {
      "displayName": "Sudhanshu Singh",
      "userId": "08271345580702489067"
     },
     "user_tz": -330
    },
    "id": "co3ow-9AbW4M",
    "outputId": "c40c799f-1572-4bda-e272-d4c00cec39ae"
   },
   "outputs": [
    {
     "name": "stdout",
     "output_type": "stream",
     "text": [
      "4.38.2\n"
     ]
    }
   ],
   "source": [
    "import transformers\n",
    "\n",
    "print(transformers.__version__)"
   ]
  },
  {
   "cell_type": "code",
   "execution_count": 7,
   "id": "7tlSP-KgH-tp",
   "metadata": {
    "executionInfo": {
     "elapsed": 28,
     "status": "ok",
     "timestamp": 1713433790640,
     "user": {
      "displayName": "Sudhanshu Singh",
      "userId": "08271345580702489067"
     },
     "user_tz": -330
    },
    "id": "7tlSP-KgH-tp"
   },
   "outputs": [],
   "source": [
    "import pandas as pd\n",
    "import numpy as np"
   ]
  },
  {
   "cell_type": "code",
   "execution_count": 91,
   "id": "gxsaOFWhyijL",
   "metadata": {
    "colab": {
     "base_uri": "https://localhost:8080/"
    },
    "executionInfo": {
     "elapsed": 597,
     "status": "ok",
     "timestamp": 1713436784976,
     "user": {
      "displayName": "Sudhanshu Singh",
      "userId": "08271345580702489067"
     },
     "user_tz": -330
    },
    "id": "gxsaOFWhyijL",
    "outputId": "86132e34-910a-48f5-a440-1f5a0e1f701a"
   },
   "outputs": [
    {
     "name": "stderr",
     "output_type": "stream",
     "text": [
      "[nltk_data] Downloading package punkt to /root/nltk_data...\n",
      "[nltk_data]   Unzipping tokenizers/punkt.zip.\n"
     ]
    },
    {
     "data": {
      "text/plain": [
       "True"
      ]
     },
     "execution_count": 91,
     "metadata": {},
     "output_type": "execute_result"
    }
   ],
   "source": [
    "import nltk\n",
    "nltk.download('punkt')"
   ]
  },
  {
   "cell_type": "markdown",
   "id": "6YgIPTEfUCwI",
   "metadata": {
    "id": "6YgIPTEfUCwI"
   },
   "source": [
    "### Read and PreProcess the dataset for Finetuning the base model"
   ]
  },
  {
   "cell_type": "code",
   "execution_count": 8,
   "id": "mIalcHe81ZQq",
   "metadata": {
    "colab": {
     "base_uri": "https://localhost:8080/",
     "height": 345
    },
    "executionInfo": {
     "elapsed": 28,
     "status": "ok",
     "timestamp": 1713433790641,
     "user": {
      "displayName": "Sudhanshu Singh",
      "userId": "08271345580702489067"
     },
     "user_tz": -330
    },
    "id": "mIalcHe81ZQq",
    "outputId": "5768b145-e01c-4bdf-d2d3-b73b381f13c2"
   },
   "outputs": [
    {
     "data": {
      "application/vnd.google.colaboratory.intrinsic+json": {
       "summary": "{\n  \"name\": \"input_df\",\n  \"rows\": 100,\n  \"fields\": [\n    {\n      \"column\": \"Unnamed: 0\",\n      \"properties\": {\n        \"dtype\": \"number\",\n        \"std\": 29,\n        \"min\": 0,\n        \"max\": 99,\n        \"num_unique_values\": 100,\n        \"samples\": [\n          83,\n          53,\n          70\n        ],\n        \"semantic_type\": \"\",\n        \"description\": \"\"\n      }\n    },\n    {\n      \"column\": \"title\",\n      \"properties\": {\n        \"dtype\": \"string\",\n        \"num_unique_values\": 95,\n        \"samples\": [\n          \"China estimates space lab Tiangong-1 will crash to Earth in March\",\n          \"Bitcoin technology set for big changes this year\",\n          \"Nuritas raises $16m for its AI-powered solutions to diabetes\"\n        ],\n        \"semantic_type\": \"\",\n        \"description\": \"\"\n      }\n    },\n    {\n      \"column\": \"summary\",\n      \"properties\": {\n        \"dtype\": \"string\",\n        \"num_unique_values\": 95,\n        \"samples\": [\n          \"China's space lab Tiangong-1 is estimated to crash to Earth in March, with the Aerospace Corporation predicting\\u00a0it\\u00a0will re-enter between the latitudes of 43\\u00b0N and 43\\u00b0S.\\u00a0Although\\u00a0the area is largely\\u00a0covered by ocean, the US, Brazil and China also traverse it. China said\\u00a0it will release updated forecasts of the craft's descent; the expectation\\u00a0is that\\u00a0some debris will hit Earth, while the rest will burn up on re-entry. As we previously noted, many believe\\u00a0China's space authority lost control of the 8.5-tonne lab and are\\u00a0allowing it to enter Earth's atmosphere \\\"naturally\\\".\\n\",\n          \"The technology underpinning bitcoin is set for major changes in 2018, with several projects scheduled. Among them is the wider adoption of the segwit upgrade, originally activated in August, thanks to the new bech32 address format, scheduled for a March release. Also expected is the launch of bitcoin's Lightning Network, offering secure, instant confirmations and near-free transfers, while privacy solutions ZeroLink and TumbleBit are set to make the network more secure. Activation of segwit will also make it easier to improve cryptographic signatures by facilitating the use of Schnorr signatures, which would reduce transaction costs and increase bitcoin's maximum capacity.\\n\",\n          \"A Dublin-based biotech firm has raised \\u20ac16m ($19.2m) in a series A funding round to support its work in discovering and making\\u00a0use of bioactive peptides to assist in the treatment of diseases. Nuritas, whose CEO is former Nestl\\u00e9 executive Emmet Browne, has now received a total of \\u20ac25m since its launch in 2014, including $3m\\u00a0from the European Union for a project that explores\\u00a0using\\u00a0artificial intelligence (AI) to\\u00a0help\\u00a0to\\u00a0prevent\\u00a0diabetes. Bioactive peptides play a role in managing the condition, and the AI technology used by Nuritas speeds up the process of identifying those which may help.\\u00a0\\n\"\n        ],\n        \"semantic_type\": \"\",\n        \"description\": \"\"\n      }\n    },\n    {\n      \"column\": \"url\",\n      \"properties\": {\n        \"dtype\": \"string\",\n        \"num_unique_values\": 100,\n        \"samples\": [\n          \"http://www.grubstreet.com/2018/01/research-says-chocolate-could-go-extinct-by-2050.html?utm_campaign=grub-street&utm_source=tw&utm_medium=s1\",\n          \"https://www.nytimes.com/2018/01/02/nyregion/starrett-city-sale-judge-rules.html\",\n          \"https://www.theguardian.com/environment/2017/dec/28/renewables-power-coal-2017-uk-figures\"\n        ],\n        \"semantic_type\": \"\",\n        \"description\": \"\"\n      }\n    },\n    {\n      \"column\": \"date\",\n      \"properties\": {\n        \"dtype\": \"string\",\n        \"num_unique_values\": 91,\n        \"samples\": [\n          \"16:37.7\",\n          \"05:40.1\",\n          \"36:59.3\"\n        ],\n        \"semantic_type\": \"\",\n        \"description\": \"\"\n      }\n    },\n    {\n      \"column\": \"article_content\",\n      \"properties\": {\n        \"dtype\": \"string\",\n        \"num_unique_values\": 99,\n        \"samples\": [\n          \"L'Oreal will expand a media ownership strategy it piloted in Mexico to other Spanish-speaking countries to generate first-party cookies from its customer base. The idea is similar to sponsored content, but instead of working with a brand-name media company on a story package, for the past year L\\u2019Oreal has developed fiufiu, a kind of pop-up media brand that turns out social media aggregated lists, influencer columns and work by the content generation startup Cultura Colectiva. Fiufiu has a website and a Facebook presence. During some months it generates unique visitor numbers on par with well-known beauty magazines, said L'Oreal Hispanic countries CMO Andres Amezquita. The company could generate page views and engagement if it paired social influencer campaigns with beauty magazine sponsored content deals, but with fiufiu L\\u2019Oreal gets first-party cookies and the opportunities to request email addresses that come with page ownership. \\u201cPart of our programmatic approach is to have a lot of data and understand our consumers,\\u201d Amezquita said. \\u201cThe idea is to be able to have a one-on-one conversation at the scale of mass communication, but to do that in the current environment, we need to capture cookies.\\u201d\\n\\nRecent policy changes at the government and operating system levels, such as GDPR in Europe and Apple\\u2019s Safari Intelligent Tracking Prevention, block access to cookie data for marketers.\\n\\nYounger customers, who make up most of the social-driven L\\u2019Oreal site, also respond better to in-article recommendations than the hard sell of ads on the page, Amezquita said. and every page is another chance to gather an email address or send someone to a L\\u2019Oreal product page.\\n\\nConsumer brands need first-party cookies to advance their online advertising. Since ad tech companies that do audience targeting or retargeting are losing access to first-party data, brands will need to bring their own data to continue running data-driven campaigns.\\n\\nFor instance, L\\u2019Oreal can use fiufiu to generate retargeting audiences and extrapolate its first-party data through lookalike models scaled for programmatic, Amezquita said.\\n\\n\\u201cIf you look at industry right now, it\\u2019s a moment where content, CRM and digital advertising are becoming one,\\u201d he said.\",\n          \"Send Us a Tip\\n\\nHave a scoop that you'd like GeekWire to cover? Let us know.\",\n          \"JPMorgan Chase has created an internal tool to make sure its ads don't end up next to unsavory content on YouTube.\\n\\nThe company's proprietary algorithm plugs into YouTube's API to select \\\"safe\\\" channels for it to advertise on.\\n\\nFrom more than 5 million channels the brand has winnowed the list down to 3,000 YouTube channels that its ads appear on.\\n\\n\\\"The model that Google has built to monetize YouTube may work for it, but it doesn't work for us,\\\" said Aaron Smolick, executive director of paid-media analytics and optimization at JPMorgan Chase.\\n\\n\\n\\nWhen some brands' ads ended up next to troubling videos on YouTube last March, JPMorgan Chase responded by pulling its ads from the platform.\\n\\nDissatisfied with YouTube's slow response, the bank decided to take matters into its own hands and create an internal tool to make sure that its ads don't end up next to unsavory content on YouTube, only going back to YouTube after testing the tool.\\n\\nThe company developed its own proprietary algorithm in-house, and it plugs into YouTube's application programming interface (API) to select \\\"safe\\\" channels for its ads to appear on at scale. The algorithm was built by its internal programmatic and media-buying teams.\\n\\n\\\"When news broke about ads finding their way next to horrific pieces of content, we paused our efforts and pulled our ads from YouTube,\\\" Jake Davidow, the executive director of media and channel strategy at JPMorgan Chase, told Business Insider. \\\"We wanted to figure out a scalable solution and make sure we got it right.\\\"\\n\\nThe technology consists of 17 layers or filters, which allow the bank to separate what it deems as good or safe YouTube channels from the bad or unsafe ones. One of the filters, for example, looks at the total video count on a channel, which automatically sifts out channels with one-off viral videos. The bank also looks at channels' subscriber counts, the general topics channels focus on, language, and even the comments on different channels' videos.\\n\\n\\\"The model that Google has built to monetize YouTube may work for it, but it doesn't work for us,\\\" said Aaron Smolick, executive director of paid-media analytics and optimization at JPMorgan Chase. \\\"The attention of protecting a brand has to fall on the actual people within the brand itself.\\\"\\n\\nThe move reflects an increasing skepticism among major marketers regarding digital advertising, with issues of ad fraud, transparency and brand safety coming to a head in 2017. With their ads ending up next to dicey videos or being viewed by bots instead of humans, many advertisers have begun taking charge themselves by bringing advertising in-house and slashing the number of sites and channels they advertise on.\\n\\nYouTube in particular has been a conundrum for advertisers. The platform came under fire in 2017 for a spate of incidents where ads ended up next to questionable videos, and brands were not exactly happy with its tackling of the problem. But YouTube is too big for most global advertisers to turn away from, even if they don\\u2019t have full confidence in it. Users watch an average of 40 minutes a day on YouTube globally.\\n\\nThe bank started white-listing \\u2014 or pre-approving sites that its ads run on \\u2014 in March, culling the number from 400,000 down to 5,000, and about 10,000 at present.\\n\\nIt began working on the YouTube algorithm in August and rolled it out in October. From over 5 million channels, it says that it has winnowed the list down to 3,000 channels on YouTube that its ads appear on. The bank says the algorithm has a success rate of 99.9%. The brand also continues to conduct regular manual checks on its channels as well as develop the tool further to make sure that it is foolproof.\\n\\n\\\"The biggest lesson for us was that we realized that it wasn't a black-and-white conversation with good guys or bad guys, but a gradient,\\\" Smolick said. \\\"It isn't necessarily about brand safety, but rather brand appropriateness. That's the next evolution of the debate, with each brand deciding what's appropriate for them and what's not.\\\"\"\n        ],\n        \"semantic_type\": \"\",\n        \"description\": \"\"\n      }\n    }\n  ]\n}",
       "type": "dataframe",
       "variable_name": "input_df"
      },
      "text/html": [
       "\n",
       "  <div id=\"df-73c02f61-451c-4a85-8a37-04286df5cc14\" class=\"colab-df-container\">\n",
       "    <div>\n",
       "<style scoped>\n",
       "    .dataframe tbody tr th:only-of-type {\n",
       "        vertical-align: middle;\n",
       "    }\n",
       "\n",
       "    .dataframe tbody tr th {\n",
       "        vertical-align: top;\n",
       "    }\n",
       "\n",
       "    .dataframe thead th {\n",
       "        text-align: right;\n",
       "    }\n",
       "</style>\n",
       "<table border=\"1\" class=\"dataframe\">\n",
       "  <thead>\n",
       "    <tr style=\"text-align: right;\">\n",
       "      <th></th>\n",
       "      <th>Unnamed: 0</th>\n",
       "      <th>title</th>\n",
       "      <th>summary</th>\n",
       "      <th>url</th>\n",
       "      <th>date</th>\n",
       "      <th>article_content</th>\n",
       "    </tr>\n",
       "  </thead>\n",
       "  <tbody>\n",
       "    <tr>\n",
       "      <th>0</th>\n",
       "      <td>0</td>\n",
       "      <td>Tencent gains approval to sell mutual funds to...</td>\n",
       "      <td>Tencent has been granted a licence from the Ch...</td>\n",
       "      <td>http://www.scmp.com/business/companies/article...</td>\n",
       "      <td>49:58.9</td>\n",
       "      <td>Traditional finance houses now being seriously...</td>\n",
       "    </tr>\n",
       "    <tr>\n",
       "      <th>1</th>\n",
       "      <td>1</td>\n",
       "      <td>India testing blockchains in education, health...</td>\n",
       "      <td>India is testing blockchain applications in ed...</td>\n",
       "      <td>https://www.vccircle.com/niti-aayog-explores-b...</td>\n",
       "      <td>33:08.3</td>\n",
       "      <td>The Indian government's policy think tank, Nit...</td>\n",
       "    </tr>\n",
       "    <tr>\n",
       "      <th>2</th>\n",
       "      <td>2</td>\n",
       "      <td>Higher living wage risks robot takeover of low...</td>\n",
       "      <td>The UK Institute for Fiscal Studies has warned...</td>\n",
       "      <td>https://news.sky.com/story/ifs-living-wage-inc...</td>\n",
       "      <td>32:10.2</td>\n",
       "      <td>Increases in minimum wage levels risk raising ...</td>\n",
       "    </tr>\n",
       "    <tr>\n",
       "      <th>3</th>\n",
       "      <td>3</td>\n",
       "      <td>Regus WeWork may seek stock-market flotation t...</td>\n",
       "      <td>Co-working start-up WeWork may go public this ...</td>\n",
       "      <td>https://www.fool.com/investing/2018/01/03/will...</td>\n",
       "      <td>31:59.6</td>\n",
       "      <td>Depending on whom you ask, WeWork is either a ...</td>\n",
       "    </tr>\n",
       "    <tr>\n",
       "      <th>4</th>\n",
       "      <td>4</td>\n",
       "      <td>AMD poised to gain market share as Intel pound...</td>\n",
       "      <td>Intel has seen more than $11bn wiped off its m...</td>\n",
       "      <td>https://www.cnbc.com/2018/01/05/amd-is-big-win...</td>\n",
       "      <td>17:13.3</td>\n",
       "      <td>AMD is big winner from chip flaw fiasco as mor...</td>\n",
       "    </tr>\n",
       "  </tbody>\n",
       "</table>\n",
       "</div>\n",
       "    <div class=\"colab-df-buttons\">\n",
       "\n",
       "  <div class=\"colab-df-container\">\n",
       "    <button class=\"colab-df-convert\" onclick=\"convertToInteractive('df-73c02f61-451c-4a85-8a37-04286df5cc14')\"\n",
       "            title=\"Convert this dataframe to an interactive table.\"\n",
       "            style=\"display:none;\">\n",
       "\n",
       "  <svg xmlns=\"http://www.w3.org/2000/svg\" height=\"24px\" viewBox=\"0 -960 960 960\">\n",
       "    <path d=\"M120-120v-720h720v720H120Zm60-500h600v-160H180v160Zm220 220h160v-160H400v160Zm0 220h160v-160H400v160ZM180-400h160v-160H180v160Zm440 0h160v-160H620v160ZM180-180h160v-160H180v160Zm440 0h160v-160H620v160Z\"/>\n",
       "  </svg>\n",
       "    </button>\n",
       "\n",
       "  <style>\n",
       "    .colab-df-container {\n",
       "      display:flex;\n",
       "      gap: 12px;\n",
       "    }\n",
       "\n",
       "    .colab-df-convert {\n",
       "      background-color: #E8F0FE;\n",
       "      border: none;\n",
       "      border-radius: 50%;\n",
       "      cursor: pointer;\n",
       "      display: none;\n",
       "      fill: #1967D2;\n",
       "      height: 32px;\n",
       "      padding: 0 0 0 0;\n",
       "      width: 32px;\n",
       "    }\n",
       "\n",
       "    .colab-df-convert:hover {\n",
       "      background-color: #E2EBFA;\n",
       "      box-shadow: 0px 1px 2px rgba(60, 64, 67, 0.3), 0px 1px 3px 1px rgba(60, 64, 67, 0.15);\n",
       "      fill: #174EA6;\n",
       "    }\n",
       "\n",
       "    .colab-df-buttons div {\n",
       "      margin-bottom: 4px;\n",
       "    }\n",
       "\n",
       "    [theme=dark] .colab-df-convert {\n",
       "      background-color: #3B4455;\n",
       "      fill: #D2E3FC;\n",
       "    }\n",
       "\n",
       "    [theme=dark] .colab-df-convert:hover {\n",
       "      background-color: #434B5C;\n",
       "      box-shadow: 0px 1px 3px 1px rgba(0, 0, 0, 0.15);\n",
       "      filter: drop-shadow(0px 1px 2px rgba(0, 0, 0, 0.3));\n",
       "      fill: #FFFFFF;\n",
       "    }\n",
       "  </style>\n",
       "\n",
       "    <script>\n",
       "      const buttonEl =\n",
       "        document.querySelector('#df-73c02f61-451c-4a85-8a37-04286df5cc14 button.colab-df-convert');\n",
       "      buttonEl.style.display =\n",
       "        google.colab.kernel.accessAllowed ? 'block' : 'none';\n",
       "\n",
       "      async function convertToInteractive(key) {\n",
       "        const element = document.querySelector('#df-73c02f61-451c-4a85-8a37-04286df5cc14');\n",
       "        const dataTable =\n",
       "          await google.colab.kernel.invokeFunction('convertToInteractive',\n",
       "                                                    [key], {});\n",
       "        if (!dataTable) return;\n",
       "\n",
       "        const docLinkHtml = 'Like what you see? Visit the ' +\n",
       "          '<a target=\"_blank\" href=https://colab.research.google.com/notebooks/data_table.ipynb>data table notebook</a>'\n",
       "          + ' to learn more about interactive tables.';\n",
       "        element.innerHTML = '';\n",
       "        dataTable['output_type'] = 'display_data';\n",
       "        await google.colab.output.renderOutput(dataTable, element);\n",
       "        const docLink = document.createElement('div');\n",
       "        docLink.innerHTML = docLinkHtml;\n",
       "        element.appendChild(docLink);\n",
       "      }\n",
       "    </script>\n",
       "  </div>\n",
       "\n",
       "\n",
       "<div id=\"df-3d4342f4-e5f8-4a43-8496-9159794cd51f\">\n",
       "  <button class=\"colab-df-quickchart\" onclick=\"quickchart('df-3d4342f4-e5f8-4a43-8496-9159794cd51f')\"\n",
       "            title=\"Suggest charts\"\n",
       "            style=\"display:none;\">\n",
       "\n",
       "<svg xmlns=\"http://www.w3.org/2000/svg\" height=\"24px\"viewBox=\"0 0 24 24\"\n",
       "     width=\"24px\">\n",
       "    <g>\n",
       "        <path d=\"M19 3H5c-1.1 0-2 .9-2 2v14c0 1.1.9 2 2 2h14c1.1 0 2-.9 2-2V5c0-1.1-.9-2-2-2zM9 17H7v-7h2v7zm4 0h-2V7h2v10zm4 0h-2v-4h2v4z\"/>\n",
       "    </g>\n",
       "</svg>\n",
       "  </button>\n",
       "\n",
       "<style>\n",
       "  .colab-df-quickchart {\n",
       "      --bg-color: #E8F0FE;\n",
       "      --fill-color: #1967D2;\n",
       "      --hover-bg-color: #E2EBFA;\n",
       "      --hover-fill-color: #174EA6;\n",
       "      --disabled-fill-color: #AAA;\n",
       "      --disabled-bg-color: #DDD;\n",
       "  }\n",
       "\n",
       "  [theme=dark] .colab-df-quickchart {\n",
       "      --bg-color: #3B4455;\n",
       "      --fill-color: #D2E3FC;\n",
       "      --hover-bg-color: #434B5C;\n",
       "      --hover-fill-color: #FFFFFF;\n",
       "      --disabled-bg-color: #3B4455;\n",
       "      --disabled-fill-color: #666;\n",
       "  }\n",
       "\n",
       "  .colab-df-quickchart {\n",
       "    background-color: var(--bg-color);\n",
       "    border: none;\n",
       "    border-radius: 50%;\n",
       "    cursor: pointer;\n",
       "    display: none;\n",
       "    fill: var(--fill-color);\n",
       "    height: 32px;\n",
       "    padding: 0;\n",
       "    width: 32px;\n",
       "  }\n",
       "\n",
       "  .colab-df-quickchart:hover {\n",
       "    background-color: var(--hover-bg-color);\n",
       "    box-shadow: 0 1px 2px rgba(60, 64, 67, 0.3), 0 1px 3px 1px rgba(60, 64, 67, 0.15);\n",
       "    fill: var(--button-hover-fill-color);\n",
       "  }\n",
       "\n",
       "  .colab-df-quickchart-complete:disabled,\n",
       "  .colab-df-quickchart-complete:disabled:hover {\n",
       "    background-color: var(--disabled-bg-color);\n",
       "    fill: var(--disabled-fill-color);\n",
       "    box-shadow: none;\n",
       "  }\n",
       "\n",
       "  .colab-df-spinner {\n",
       "    border: 2px solid var(--fill-color);\n",
       "    border-color: transparent;\n",
       "    border-bottom-color: var(--fill-color);\n",
       "    animation:\n",
       "      spin 1s steps(1) infinite;\n",
       "  }\n",
       "\n",
       "  @keyframes spin {\n",
       "    0% {\n",
       "      border-color: transparent;\n",
       "      border-bottom-color: var(--fill-color);\n",
       "      border-left-color: var(--fill-color);\n",
       "    }\n",
       "    20% {\n",
       "      border-color: transparent;\n",
       "      border-left-color: var(--fill-color);\n",
       "      border-top-color: var(--fill-color);\n",
       "    }\n",
       "    30% {\n",
       "      border-color: transparent;\n",
       "      border-left-color: var(--fill-color);\n",
       "      border-top-color: var(--fill-color);\n",
       "      border-right-color: var(--fill-color);\n",
       "    }\n",
       "    40% {\n",
       "      border-color: transparent;\n",
       "      border-right-color: var(--fill-color);\n",
       "      border-top-color: var(--fill-color);\n",
       "    }\n",
       "    60% {\n",
       "      border-color: transparent;\n",
       "      border-right-color: var(--fill-color);\n",
       "    }\n",
       "    80% {\n",
       "      border-color: transparent;\n",
       "      border-right-color: var(--fill-color);\n",
       "      border-bottom-color: var(--fill-color);\n",
       "    }\n",
       "    90% {\n",
       "      border-color: transparent;\n",
       "      border-bottom-color: var(--fill-color);\n",
       "    }\n",
       "  }\n",
       "</style>\n",
       "\n",
       "  <script>\n",
       "    async function quickchart(key) {\n",
       "      const quickchartButtonEl =\n",
       "        document.querySelector('#' + key + ' button');\n",
       "      quickchartButtonEl.disabled = true;  // To prevent multiple clicks.\n",
       "      quickchartButtonEl.classList.add('colab-df-spinner');\n",
       "      try {\n",
       "        const charts = await google.colab.kernel.invokeFunction(\n",
       "            'suggestCharts', [key], {});\n",
       "      } catch (error) {\n",
       "        console.error('Error during call to suggestCharts:', error);\n",
       "      }\n",
       "      quickchartButtonEl.classList.remove('colab-df-spinner');\n",
       "      quickchartButtonEl.classList.add('colab-df-quickchart-complete');\n",
       "    }\n",
       "    (() => {\n",
       "      let quickchartButtonEl =\n",
       "        document.querySelector('#df-3d4342f4-e5f8-4a43-8496-9159794cd51f button');\n",
       "      quickchartButtonEl.style.display =\n",
       "        google.colab.kernel.accessAllowed ? 'block' : 'none';\n",
       "    })();\n",
       "  </script>\n",
       "</div>\n",
       "\n",
       "    </div>\n",
       "  </div>\n"
      ],
      "text/plain": [
       "   Unnamed: 0                                              title  \\\n",
       "0           0  Tencent gains approval to sell mutual funds to...   \n",
       "1           1  India testing blockchains in education, health...   \n",
       "2           2  Higher living wage risks robot takeover of low...   \n",
       "3           3  Regus WeWork may seek stock-market flotation t...   \n",
       "4           4  AMD poised to gain market share as Intel pound...   \n",
       "\n",
       "                                             summary  \\\n",
       "0  Tencent has been granted a licence from the Ch...   \n",
       "1  India is testing blockchain applications in ed...   \n",
       "2  The UK Institute for Fiscal Studies has warned...   \n",
       "3  Co-working start-up WeWork may go public this ...   \n",
       "4  Intel has seen more than $11bn wiped off its m...   \n",
       "\n",
       "                                                 url     date  \\\n",
       "0  http://www.scmp.com/business/companies/article...  49:58.9   \n",
       "1  https://www.vccircle.com/niti-aayog-explores-b...  33:08.3   \n",
       "2  https://news.sky.com/story/ifs-living-wage-inc...  32:10.2   \n",
       "3  https://www.fool.com/investing/2018/01/03/will...  31:59.6   \n",
       "4  https://www.cnbc.com/2018/01/05/amd-is-big-win...  17:13.3   \n",
       "\n",
       "                                     article_content  \n",
       "0  Traditional finance houses now being seriously...  \n",
       "1  The Indian government's policy think tank, Nit...  \n",
       "2  Increases in minimum wage levels risk raising ...  \n",
       "3  Depending on whom you ask, WeWork is either a ...  \n",
       "4  AMD is big winner from chip flaw fiasco as mor...  "
      ]
     },
     "execution_count": 8,
     "metadata": {},
     "output_type": "execute_result"
    }
   ],
   "source": [
    "input_df = pd.read_csv('curated_data_subset.csv')\n",
    "input_df.head()"
   ]
  },
  {
   "cell_type": "code",
   "execution_count": 9,
   "id": "XyhkRfvLIhfM",
   "metadata": {
    "colab": {
     "base_uri": "https://localhost:8080/"
    },
    "executionInfo": {
     "elapsed": 27,
     "status": "ok",
     "timestamp": 1713433790641,
     "user": {
      "displayName": "Sudhanshu Singh",
      "userId": "08271345580702489067"
     },
     "user_tz": -330
    },
    "id": "XyhkRfvLIhfM",
    "outputId": "8fbf7708-bf51-4a86-daea-4cefd2cfdf87"
   },
   "outputs": [
    {
     "name": "stdout",
     "output_type": "stream",
     "text": [
      "<class 'pandas.core.frame.DataFrame'>\n",
      "RangeIndex: 100 entries, 0 to 99\n",
      "Data columns (total 6 columns):\n",
      " #   Column           Non-Null Count  Dtype \n",
      "---  ------           --------------  ----- \n",
      " 0   Unnamed: 0       100 non-null    int64 \n",
      " 1   title            100 non-null    object\n",
      " 2   summary          100 non-null    object\n",
      " 3   url              100 non-null    object\n",
      " 4   date             100 non-null    object\n",
      " 5   article_content  99 non-null     object\n",
      "dtypes: int64(1), object(5)\n",
      "memory usage: 4.8+ KB\n"
     ]
    }
   ],
   "source": [
    "input_df.info()"
   ]
  },
  {
   "cell_type": "code",
   "execution_count": 10,
   "id": "sDLsZLGMu_H6",
   "metadata": {
    "colab": {
     "base_uri": "https://localhost:8080/"
    },
    "executionInfo": {
     "elapsed": 25,
     "status": "ok",
     "timestamp": 1713433790641,
     "user": {
      "displayName": "Sudhanshu Singh",
      "userId": "08271345580702489067"
     },
     "user_tz": -330
    },
    "id": "sDLsZLGMu_H6",
    "outputId": "8857e161-a89a-44de-bf14-a949ab3a1b00"
   },
   "outputs": [
    {
     "data": {
      "text/plain": [
       "Unnamed: 0         0\n",
       "title              0\n",
       "summary            0\n",
       "url                0\n",
       "date               0\n",
       "article_content    1\n",
       "dtype: int64"
      ]
     },
     "execution_count": 10,
     "metadata": {},
     "output_type": "execute_result"
    }
   ],
   "source": [
    "input_df.isnull().sum()"
   ]
  },
  {
   "cell_type": "code",
   "execution_count": 11,
   "id": "h5yXGIFwJ7WH",
   "metadata": {
    "executionInfo": {
     "elapsed": 23,
     "status": "ok",
     "timestamp": 1713433790641,
     "user": {
      "displayName": "Sudhanshu Singh",
      "userId": "08271345580702489067"
     },
     "user_tz": -330
    },
    "id": "h5yXGIFwJ7WH"
   },
   "outputs": [],
   "source": [
    "input_df.dropna(inplace=True, ignore_index= True)"
   ]
  },
  {
   "cell_type": "code",
   "execution_count": 12,
   "id": "wgDyIFJLvN-J",
   "metadata": {
    "colab": {
     "base_uri": "https://localhost:8080/"
    },
    "executionInfo": {
     "elapsed": 23,
     "status": "ok",
     "timestamp": 1713433790641,
     "user": {
      "displayName": "Sudhanshu Singh",
      "userId": "08271345580702489067"
     },
     "user_tz": -330
    },
    "id": "wgDyIFJLvN-J",
    "outputId": "2328561b-a3ae-46ac-867d-f2da1f9e34fa"
   },
   "outputs": [
    {
     "data": {
      "text/plain": [
       "Unnamed: 0         0\n",
       "title              0\n",
       "summary            0\n",
       "url                0\n",
       "date               0\n",
       "article_content    0\n",
       "dtype: int64"
      ]
     },
     "execution_count": 12,
     "metadata": {},
     "output_type": "execute_result"
    }
   ],
   "source": [
    "input_df.isnull().sum()"
   ]
  },
  {
   "cell_type": "code",
   "execution_count": 13,
   "id": "lBZI8j6HvPcR",
   "metadata": {
    "colab": {
     "base_uri": "https://localhost:8080/"
    },
    "executionInfo": {
     "elapsed": 22,
     "status": "ok",
     "timestamp": 1713433790642,
     "user": {
      "displayName": "Sudhanshu Singh",
      "userId": "08271345580702489067"
     },
     "user_tz": -330
    },
    "id": "lBZI8j6HvPcR",
    "outputId": "34d425c6-f32c-443b-bf74-f805f3def7db"
   },
   "outputs": [
    {
     "data": {
      "text/plain": [
       "Unnamed: 0                                                        30\n",
       "title              Fluenta's new gauges measure gas at extreme te...\n",
       "summary            Fluenta has launched two ultrasonic flow trans...\n",
       "url                https://www.oilfieldtechnology.com/product-new...\n",
       "date                                                         20:05.4\n",
       "article_content    Fluenta has announced the launch of its new ra...\n",
       "Name: 29, dtype: object"
      ]
     },
     "execution_count": 13,
     "metadata": {},
     "output_type": "execute_result"
    }
   ],
   "source": [
    "input_df.loc[29, :]"
   ]
  },
  {
   "cell_type": "code",
   "execution_count": 14,
   "id": "110e2627",
   "metadata": {
    "executionInfo": {
     "elapsed": 19,
     "status": "ok",
     "timestamp": 1713433790642,
     "user": {
      "displayName": "Sudhanshu Singh",
      "userId": "08271345580702489067"
     },
     "user_tz": -330
    },
    "id": "110e2627"
   },
   "outputs": [],
   "source": [
    "input_df.rename(columns = {'article_content':'Text', 'summary':'Summary'}, inplace=True)"
   ]
  },
  {
   "cell_type": "code",
   "execution_count": 15,
   "id": "-WacWVx3IckS",
   "metadata": {
    "executionInfo": {
     "elapsed": 19,
     "status": "ok",
     "timestamp": 1713433790642,
     "user": {
      "displayName": "Sudhanshu Singh",
      "userId": "08271345580702489067"
     },
     "user_tz": -330
    },
    "id": "-WacWVx3IckS"
   },
   "outputs": [],
   "source": [
    "input_df = input_df[['Text', 'Summary']]"
   ]
  },
  {
   "cell_type": "code",
   "execution_count": 16,
   "id": "zLMvEOnv1xWl",
   "metadata": {
    "colab": {
     "base_uri": "https://localhost:8080/"
    },
    "executionInfo": {
     "elapsed": 20,
     "status": "ok",
     "timestamp": 1713433790643,
     "user": {
      "displayName": "Sudhanshu Singh",
      "userId": "08271345580702489067"
     },
     "user_tz": -330
    },
    "id": "zLMvEOnv1xWl",
    "outputId": "2eb5a432-03c7-48e7-caf4-f3c002146914"
   },
   "outputs": [
    {
     "name": "stdout",
     "output_type": "stream",
     "text": [
      "<class 'pandas.core.frame.DataFrame'>\n",
      "RangeIndex: 99 entries, 0 to 98\n",
      "Data columns (total 2 columns):\n",
      " #   Column   Non-Null Count  Dtype \n",
      "---  ------   --------------  ----- \n",
      " 0   Text     99 non-null     object\n",
      " 1   Summary  99 non-null     object\n",
      "dtypes: object(2)\n",
      "memory usage: 1.7+ KB\n"
     ]
    }
   ],
   "source": [
    "input_df.info()"
   ]
  },
  {
   "cell_type": "code",
   "execution_count": 17,
   "id": "tbLZa48u1xJi",
   "metadata": {
    "colab": {
     "base_uri": "https://localhost:8080/",
     "height": 363
    },
    "executionInfo": {
     "elapsed": 17,
     "status": "ok",
     "timestamp": 1713433790643,
     "user": {
      "displayName": "Sudhanshu Singh",
      "userId": "08271345580702489067"
     },
     "user_tz": -330
    },
    "id": "tbLZa48u1xJi",
    "outputId": "980186bb-a13c-4a1d-9b61-d051a612f336"
   },
   "outputs": [
    {
     "data": {
      "application/vnd.google.colaboratory.intrinsic+json": {
       "summary": "{\n  \"name\": \"input_df\",\n  \"rows\": 99,\n  \"fields\": [\n    {\n      \"column\": \"Text\",\n      \"properties\": {\n        \"dtype\": \"string\",\n        \"num_unique_values\": 99,\n        \"samples\": [\n          \"L'Oreal will expand a media ownership strategy it piloted in Mexico to other Spanish-speaking countries to generate first-party cookies from its customer base. The idea is similar to sponsored content, but instead of working with a brand-name media company on a story package, for the past year L\\u2019Oreal has developed fiufiu, a kind of pop-up media brand that turns out social media aggregated lists, influencer columns and work by the content generation startup Cultura Colectiva. Fiufiu has a website and a Facebook presence. During some months it generates unique visitor numbers on par with well-known beauty magazines, said L'Oreal Hispanic countries CMO Andres Amezquita. The company could generate page views and engagement if it paired social influencer campaigns with beauty magazine sponsored content deals, but with fiufiu L\\u2019Oreal gets first-party cookies and the opportunities to request email addresses that come with page ownership. \\u201cPart of our programmatic approach is to have a lot of data and understand our consumers,\\u201d Amezquita said. \\u201cThe idea is to be able to have a one-on-one conversation at the scale of mass communication, but to do that in the current environment, we need to capture cookies.\\u201d\\n\\nRecent policy changes at the government and operating system levels, such as GDPR in Europe and Apple\\u2019s Safari Intelligent Tracking Prevention, block access to cookie data for marketers.\\n\\nYounger customers, who make up most of the social-driven L\\u2019Oreal site, also respond better to in-article recommendations than the hard sell of ads on the page, Amezquita said. and every page is another chance to gather an email address or send someone to a L\\u2019Oreal product page.\\n\\nConsumer brands need first-party cookies to advance their online advertising. Since ad tech companies that do audience targeting or retargeting are losing access to first-party data, brands will need to bring their own data to continue running data-driven campaigns.\\n\\nFor instance, L\\u2019Oreal can use fiufiu to generate retargeting audiences and extrapolate its first-party data through lookalike models scaled for programmatic, Amezquita said.\\n\\n\\u201cIf you look at industry right now, it\\u2019s a moment where content, CRM and digital advertising are becoming one,\\u201d he said.\",\n          \"Send Us a Tip\\n\\nHave a scoop that you'd like GeekWire to cover? Let us know.\",\n          \"JPMorgan Chase has created an internal tool to make sure its ads don't end up next to unsavory content on YouTube.\\n\\nThe company's proprietary algorithm plugs into YouTube's API to select \\\"safe\\\" channels for it to advertise on.\\n\\nFrom more than 5 million channels the brand has winnowed the list down to 3,000 YouTube channels that its ads appear on.\\n\\n\\\"The model that Google has built to monetize YouTube may work for it, but it doesn't work for us,\\\" said Aaron Smolick, executive director of paid-media analytics and optimization at JPMorgan Chase.\\n\\n\\n\\nWhen some brands' ads ended up next to troubling videos on YouTube last March, JPMorgan Chase responded by pulling its ads from the platform.\\n\\nDissatisfied with YouTube's slow response, the bank decided to take matters into its own hands and create an internal tool to make sure that its ads don't end up next to unsavory content on YouTube, only going back to YouTube after testing the tool.\\n\\nThe company developed its own proprietary algorithm in-house, and it plugs into YouTube's application programming interface (API) to select \\\"safe\\\" channels for its ads to appear on at scale. The algorithm was built by its internal programmatic and media-buying teams.\\n\\n\\\"When news broke about ads finding their way next to horrific pieces of content, we paused our efforts and pulled our ads from YouTube,\\\" Jake Davidow, the executive director of media and channel strategy at JPMorgan Chase, told Business Insider. \\\"We wanted to figure out a scalable solution and make sure we got it right.\\\"\\n\\nThe technology consists of 17 layers or filters, which allow the bank to separate what it deems as good or safe YouTube channels from the bad or unsafe ones. One of the filters, for example, looks at the total video count on a channel, which automatically sifts out channels with one-off viral videos. The bank also looks at channels' subscriber counts, the general topics channels focus on, language, and even the comments on different channels' videos.\\n\\n\\\"The model that Google has built to monetize YouTube may work for it, but it doesn't work for us,\\\" said Aaron Smolick, executive director of paid-media analytics and optimization at JPMorgan Chase. \\\"The attention of protecting a brand has to fall on the actual people within the brand itself.\\\"\\n\\nThe move reflects an increasing skepticism among major marketers regarding digital advertising, with issues of ad fraud, transparency and brand safety coming to a head in 2017. With their ads ending up next to dicey videos or being viewed by bots instead of humans, many advertisers have begun taking charge themselves by bringing advertising in-house and slashing the number of sites and channels they advertise on.\\n\\nYouTube in particular has been a conundrum for advertisers. The platform came under fire in 2017 for a spate of incidents where ads ended up next to questionable videos, and brands were not exactly happy with its tackling of the problem. But YouTube is too big for most global advertisers to turn away from, even if they don\\u2019t have full confidence in it. Users watch an average of 40 minutes a day on YouTube globally.\\n\\nThe bank started white-listing \\u2014 or pre-approving sites that its ads run on \\u2014 in March, culling the number from 400,000 down to 5,000, and about 10,000 at present.\\n\\nIt began working on the YouTube algorithm in August and rolled it out in October. From over 5 million channels, it says that it has winnowed the list down to 3,000 channels on YouTube that its ads appear on. The bank says the algorithm has a success rate of 99.9%. The brand also continues to conduct regular manual checks on its channels as well as develop the tool further to make sure that it is foolproof.\\n\\n\\\"The biggest lesson for us was that we realized that it wasn't a black-and-white conversation with good guys or bad guys, but a gradient,\\\" Smolick said. \\\"It isn't necessarily about brand safety, but rather brand appropriateness. That's the next evolution of the debate, with each brand deciding what's appropriate for them and what's not.\\\"\"\n        ],\n        \"semantic_type\": \"\",\n        \"description\": \"\"\n      }\n    },\n    {\n      \"column\": \"Summary\",\n      \"properties\": {\n        \"dtype\": \"string\",\n        \"num_unique_values\": 94,\n        \"samples\": [\n          \"The oilseed nuts of the croton tree, a prevalent shrub in Kenya, could hold the key to cheap development of biofuels in the country. Croton oil was found to generate 78% less CO2 emissions than diesel, which is in widespread use in rural areas of the country. At present, Eco Fuels Kenya buys the nuts from 5,000 farmers across the African nation, and is looking to garner support for the alternative fuel.\",\n          \"The technology underpinning bitcoin is set for major changes in 2018, with several projects scheduled. Among them is the wider adoption of the segwit upgrade, originally activated in August, thanks to the new bech32 address format, scheduled for a March release. Also expected is the launch of bitcoin's Lightning Network, offering secure, instant confirmations and near-free transfers, while privacy solutions ZeroLink and TumbleBit are set to make the network more secure. Activation of segwit will also make it easier to improve cryptographic signatures by facilitating the use of Schnorr signatures, which would reduce transaction costs and increase bitcoin's maximum capacity.\\n\",\n          \"UK hybrid estate agency Purplebricks revealed a \\u00a33.2m ($4.3m) operating profit in its mid-December interim results, and has revised up its revenue guidance by 5% to \\u00a384m. However, the results did not include data on how many properties had been sold in the six months to October, prompting some to query the company's \\u00a34.16 share price and question if its up-front agent fee business model was sustainable. The firm's Australian arm was on target to achieve its full-year revenue guidance of \\u00a312m, despite incurring losses of \\u00a35.1m, the results showed.\\n\"\n        ],\n        \"semantic_type\": \"\",\n        \"description\": \"\"\n      }\n    }\n  ]\n}",
       "type": "dataframe",
       "variable_name": "input_df"
      },
      "text/html": [
       "\n",
       "  <div id=\"df-a7aba765-8d88-40a1-85f0-6851240e38fc\" class=\"colab-df-container\">\n",
       "    <div>\n",
       "<style scoped>\n",
       "    .dataframe tbody tr th:only-of-type {\n",
       "        vertical-align: middle;\n",
       "    }\n",
       "\n",
       "    .dataframe tbody tr th {\n",
       "        vertical-align: top;\n",
       "    }\n",
       "\n",
       "    .dataframe thead th {\n",
       "        text-align: right;\n",
       "    }\n",
       "</style>\n",
       "<table border=\"1\" class=\"dataframe\">\n",
       "  <thead>\n",
       "    <tr style=\"text-align: right;\">\n",
       "      <th></th>\n",
       "      <th>Text</th>\n",
       "      <th>Summary</th>\n",
       "    </tr>\n",
       "  </thead>\n",
       "  <tbody>\n",
       "    <tr>\n",
       "      <th>0</th>\n",
       "      <td>Traditional finance houses now being seriously...</td>\n",
       "      <td>Tencent has been granted a licence from the Ch...</td>\n",
       "    </tr>\n",
       "    <tr>\n",
       "      <th>1</th>\n",
       "      <td>The Indian government's policy think tank, Nit...</td>\n",
       "      <td>India is testing blockchain applications in ed...</td>\n",
       "    </tr>\n",
       "    <tr>\n",
       "      <th>2</th>\n",
       "      <td>Increases in minimum wage levels risk raising ...</td>\n",
       "      <td>The UK Institute for Fiscal Studies has warned...</td>\n",
       "    </tr>\n",
       "    <tr>\n",
       "      <th>3</th>\n",
       "      <td>Depending on whom you ask, WeWork is either a ...</td>\n",
       "      <td>Co-working start-up WeWork may go public this ...</td>\n",
       "    </tr>\n",
       "    <tr>\n",
       "      <th>4</th>\n",
       "      <td>AMD is big winner from chip flaw fiasco as mor...</td>\n",
       "      <td>Intel has seen more than $11bn wiped off its m...</td>\n",
       "    </tr>\n",
       "    <tr>\n",
       "      <th>5</th>\n",
       "      <td>MUMBAI: About 250 companies, including some of...</td>\n",
       "      <td>Demand for cyber insurance among Indian compan...</td>\n",
       "    </tr>\n",
       "    <tr>\n",
       "      <th>6</th>\n",
       "      <td>Public sector organisations have quadrupled th...</td>\n",
       "      <td>The UK's public sector has increased its spend...</td>\n",
       "    </tr>\n",
       "    <tr>\n",
       "      <th>7</th>\n",
       "      <td>A worker pulls carts full of customer orders a...</td>\n",
       "      <td>The average price for large industrial plots o...</td>\n",
       "    </tr>\n",
       "    <tr>\n",
       "      <th>8</th>\n",
       "      <td>Office take up in quarter four, 2017 in the ce...</td>\n",
       "      <td>Office take-up in Birmingham during 2017 broke...</td>\n",
       "    </tr>\n",
       "    <tr>\n",
       "      <th>9</th>\n",
       "      <td>Elevate your enterprise data technology and st...</td>\n",
       "      <td>Machine learning chatbots – such as Ada, which...</td>\n",
       "    </tr>\n",
       "  </tbody>\n",
       "</table>\n",
       "</div>\n",
       "    <div class=\"colab-df-buttons\">\n",
       "\n",
       "  <div class=\"colab-df-container\">\n",
       "    <button class=\"colab-df-convert\" onclick=\"convertToInteractive('df-a7aba765-8d88-40a1-85f0-6851240e38fc')\"\n",
       "            title=\"Convert this dataframe to an interactive table.\"\n",
       "            style=\"display:none;\">\n",
       "\n",
       "  <svg xmlns=\"http://www.w3.org/2000/svg\" height=\"24px\" viewBox=\"0 -960 960 960\">\n",
       "    <path d=\"M120-120v-720h720v720H120Zm60-500h600v-160H180v160Zm220 220h160v-160H400v160Zm0 220h160v-160H400v160ZM180-400h160v-160H180v160Zm440 0h160v-160H620v160ZM180-180h160v-160H180v160Zm440 0h160v-160H620v160Z\"/>\n",
       "  </svg>\n",
       "    </button>\n",
       "\n",
       "  <style>\n",
       "    .colab-df-container {\n",
       "      display:flex;\n",
       "      gap: 12px;\n",
       "    }\n",
       "\n",
       "    .colab-df-convert {\n",
       "      background-color: #E8F0FE;\n",
       "      border: none;\n",
       "      border-radius: 50%;\n",
       "      cursor: pointer;\n",
       "      display: none;\n",
       "      fill: #1967D2;\n",
       "      height: 32px;\n",
       "      padding: 0 0 0 0;\n",
       "      width: 32px;\n",
       "    }\n",
       "\n",
       "    .colab-df-convert:hover {\n",
       "      background-color: #E2EBFA;\n",
       "      box-shadow: 0px 1px 2px rgba(60, 64, 67, 0.3), 0px 1px 3px 1px rgba(60, 64, 67, 0.15);\n",
       "      fill: #174EA6;\n",
       "    }\n",
       "\n",
       "    .colab-df-buttons div {\n",
       "      margin-bottom: 4px;\n",
       "    }\n",
       "\n",
       "    [theme=dark] .colab-df-convert {\n",
       "      background-color: #3B4455;\n",
       "      fill: #D2E3FC;\n",
       "    }\n",
       "\n",
       "    [theme=dark] .colab-df-convert:hover {\n",
       "      background-color: #434B5C;\n",
       "      box-shadow: 0px 1px 3px 1px rgba(0, 0, 0, 0.15);\n",
       "      filter: drop-shadow(0px 1px 2px rgba(0, 0, 0, 0.3));\n",
       "      fill: #FFFFFF;\n",
       "    }\n",
       "  </style>\n",
       "\n",
       "    <script>\n",
       "      const buttonEl =\n",
       "        document.querySelector('#df-a7aba765-8d88-40a1-85f0-6851240e38fc button.colab-df-convert');\n",
       "      buttonEl.style.display =\n",
       "        google.colab.kernel.accessAllowed ? 'block' : 'none';\n",
       "\n",
       "      async function convertToInteractive(key) {\n",
       "        const element = document.querySelector('#df-a7aba765-8d88-40a1-85f0-6851240e38fc');\n",
       "        const dataTable =\n",
       "          await google.colab.kernel.invokeFunction('convertToInteractive',\n",
       "                                                    [key], {});\n",
       "        if (!dataTable) return;\n",
       "\n",
       "        const docLinkHtml = 'Like what you see? Visit the ' +\n",
       "          '<a target=\"_blank\" href=https://colab.research.google.com/notebooks/data_table.ipynb>data table notebook</a>'\n",
       "          + ' to learn more about interactive tables.';\n",
       "        element.innerHTML = '';\n",
       "        dataTable['output_type'] = 'display_data';\n",
       "        await google.colab.output.renderOutput(dataTable, element);\n",
       "        const docLink = document.createElement('div');\n",
       "        docLink.innerHTML = docLinkHtml;\n",
       "        element.appendChild(docLink);\n",
       "      }\n",
       "    </script>\n",
       "  </div>\n",
       "\n",
       "\n",
       "<div id=\"df-3bc03c7d-a522-4273-bb1c-5c9fd8a5d93e\">\n",
       "  <button class=\"colab-df-quickchart\" onclick=\"quickchart('df-3bc03c7d-a522-4273-bb1c-5c9fd8a5d93e')\"\n",
       "            title=\"Suggest charts\"\n",
       "            style=\"display:none;\">\n",
       "\n",
       "<svg xmlns=\"http://www.w3.org/2000/svg\" height=\"24px\"viewBox=\"0 0 24 24\"\n",
       "     width=\"24px\">\n",
       "    <g>\n",
       "        <path d=\"M19 3H5c-1.1 0-2 .9-2 2v14c0 1.1.9 2 2 2h14c1.1 0 2-.9 2-2V5c0-1.1-.9-2-2-2zM9 17H7v-7h2v7zm4 0h-2V7h2v10zm4 0h-2v-4h2v4z\"/>\n",
       "    </g>\n",
       "</svg>\n",
       "  </button>\n",
       "\n",
       "<style>\n",
       "  .colab-df-quickchart {\n",
       "      --bg-color: #E8F0FE;\n",
       "      --fill-color: #1967D2;\n",
       "      --hover-bg-color: #E2EBFA;\n",
       "      --hover-fill-color: #174EA6;\n",
       "      --disabled-fill-color: #AAA;\n",
       "      --disabled-bg-color: #DDD;\n",
       "  }\n",
       "\n",
       "  [theme=dark] .colab-df-quickchart {\n",
       "      --bg-color: #3B4455;\n",
       "      --fill-color: #D2E3FC;\n",
       "      --hover-bg-color: #434B5C;\n",
       "      --hover-fill-color: #FFFFFF;\n",
       "      --disabled-bg-color: #3B4455;\n",
       "      --disabled-fill-color: #666;\n",
       "  }\n",
       "\n",
       "  .colab-df-quickchart {\n",
       "    background-color: var(--bg-color);\n",
       "    border: none;\n",
       "    border-radius: 50%;\n",
       "    cursor: pointer;\n",
       "    display: none;\n",
       "    fill: var(--fill-color);\n",
       "    height: 32px;\n",
       "    padding: 0;\n",
       "    width: 32px;\n",
       "  }\n",
       "\n",
       "  .colab-df-quickchart:hover {\n",
       "    background-color: var(--hover-bg-color);\n",
       "    box-shadow: 0 1px 2px rgba(60, 64, 67, 0.3), 0 1px 3px 1px rgba(60, 64, 67, 0.15);\n",
       "    fill: var(--button-hover-fill-color);\n",
       "  }\n",
       "\n",
       "  .colab-df-quickchart-complete:disabled,\n",
       "  .colab-df-quickchart-complete:disabled:hover {\n",
       "    background-color: var(--disabled-bg-color);\n",
       "    fill: var(--disabled-fill-color);\n",
       "    box-shadow: none;\n",
       "  }\n",
       "\n",
       "  .colab-df-spinner {\n",
       "    border: 2px solid var(--fill-color);\n",
       "    border-color: transparent;\n",
       "    border-bottom-color: var(--fill-color);\n",
       "    animation:\n",
       "      spin 1s steps(1) infinite;\n",
       "  }\n",
       "\n",
       "  @keyframes spin {\n",
       "    0% {\n",
       "      border-color: transparent;\n",
       "      border-bottom-color: var(--fill-color);\n",
       "      border-left-color: var(--fill-color);\n",
       "    }\n",
       "    20% {\n",
       "      border-color: transparent;\n",
       "      border-left-color: var(--fill-color);\n",
       "      border-top-color: var(--fill-color);\n",
       "    }\n",
       "    30% {\n",
       "      border-color: transparent;\n",
       "      border-left-color: var(--fill-color);\n",
       "      border-top-color: var(--fill-color);\n",
       "      border-right-color: var(--fill-color);\n",
       "    }\n",
       "    40% {\n",
       "      border-color: transparent;\n",
       "      border-right-color: var(--fill-color);\n",
       "      border-top-color: var(--fill-color);\n",
       "    }\n",
       "    60% {\n",
       "      border-color: transparent;\n",
       "      border-right-color: var(--fill-color);\n",
       "    }\n",
       "    80% {\n",
       "      border-color: transparent;\n",
       "      border-right-color: var(--fill-color);\n",
       "      border-bottom-color: var(--fill-color);\n",
       "    }\n",
       "    90% {\n",
       "      border-color: transparent;\n",
       "      border-bottom-color: var(--fill-color);\n",
       "    }\n",
       "  }\n",
       "</style>\n",
       "\n",
       "  <script>\n",
       "    async function quickchart(key) {\n",
       "      const quickchartButtonEl =\n",
       "        document.querySelector('#' + key + ' button');\n",
       "      quickchartButtonEl.disabled = true;  // To prevent multiple clicks.\n",
       "      quickchartButtonEl.classList.add('colab-df-spinner');\n",
       "      try {\n",
       "        const charts = await google.colab.kernel.invokeFunction(\n",
       "            'suggestCharts', [key], {});\n",
       "      } catch (error) {\n",
       "        console.error('Error during call to suggestCharts:', error);\n",
       "      }\n",
       "      quickchartButtonEl.classList.remove('colab-df-spinner');\n",
       "      quickchartButtonEl.classList.add('colab-df-quickchart-complete');\n",
       "    }\n",
       "    (() => {\n",
       "      let quickchartButtonEl =\n",
       "        document.querySelector('#df-3bc03c7d-a522-4273-bb1c-5c9fd8a5d93e button');\n",
       "      quickchartButtonEl.style.display =\n",
       "        google.colab.kernel.accessAllowed ? 'block' : 'none';\n",
       "    })();\n",
       "  </script>\n",
       "</div>\n",
       "\n",
       "    </div>\n",
       "  </div>\n"
      ],
      "text/plain": [
       "                                                Text  \\\n",
       "0  Traditional finance houses now being seriously...   \n",
       "1  The Indian government's policy think tank, Nit...   \n",
       "2  Increases in minimum wage levels risk raising ...   \n",
       "3  Depending on whom you ask, WeWork is either a ...   \n",
       "4  AMD is big winner from chip flaw fiasco as mor...   \n",
       "5  MUMBAI: About 250 companies, including some of...   \n",
       "6  Public sector organisations have quadrupled th...   \n",
       "7  A worker pulls carts full of customer orders a...   \n",
       "8  Office take up in quarter four, 2017 in the ce...   \n",
       "9  Elevate your enterprise data technology and st...   \n",
       "\n",
       "                                             Summary  \n",
       "0  Tencent has been granted a licence from the Ch...  \n",
       "1  India is testing blockchain applications in ed...  \n",
       "2  The UK Institute for Fiscal Studies has warned...  \n",
       "3  Co-working start-up WeWork may go public this ...  \n",
       "4  Intel has seen more than $11bn wiped off its m...  \n",
       "5  Demand for cyber insurance among Indian compan...  \n",
       "6  The UK's public sector has increased its spend...  \n",
       "7  The average price for large industrial plots o...  \n",
       "8  Office take-up in Birmingham during 2017 broke...  \n",
       "9  Machine learning chatbots – such as Ada, which...  "
      ]
     },
     "execution_count": 17,
     "metadata": {},
     "output_type": "execute_result"
    }
   ],
   "source": [
    "input_df.head(10)"
   ]
  },
  {
   "cell_type": "markdown",
   "id": "uGTCIHIjy1r5",
   "metadata": {
    "id": "uGTCIHIjy1r5"
   },
   "source": [
    "### Split the data into Train, Validation and Test dataset"
   ]
  },
  {
   "cell_type": "code",
   "execution_count": 18,
   "id": "GJnikG3bUOiA",
   "metadata": {
    "executionInfo": {
     "elapsed": 956,
     "status": "ok",
     "timestamp": 1713433791583,
     "user": {
      "displayName": "Sudhanshu Singh",
      "userId": "08271345580702489067"
     },
     "user_tz": -330
    },
    "id": "GJnikG3bUOiA"
   },
   "outputs": [],
   "source": [
    "from sklearn.model_selection import train_test_split\n",
    "\n",
    "X_train, X_val = train_test_split(input_df, test_size = 0.2)\n",
    "\n",
    "X_train, X_test = train_test_split(X_train, test_size = 0.1)"
   ]
  },
  {
   "cell_type": "code",
   "execution_count": 19,
   "id": "Y7x4N5gbUORD",
   "metadata": {
    "colab": {
     "base_uri": "https://localhost:8080/"
    },
    "executionInfo": {
     "elapsed": 23,
     "status": "ok",
     "timestamp": 1713433791585,
     "user": {
      "displayName": "Sudhanshu Singh",
      "userId": "08271345580702489067"
     },
     "user_tz": -330
    },
    "id": "Y7x4N5gbUORD",
    "outputId": "16ddd1d0-9698-42bf-e215-03adf76c0f87"
   },
   "outputs": [
    {
     "name": "stdout",
     "output_type": "stream",
     "text": [
      "Shape of X_train is: (71, 2)\n",
      "Shape of X_val is: (20, 2)\n",
      "Shape of X_test is: (8, 2)\n"
     ]
    }
   ],
   "source": [
    "print(f'Shape of X_train is: {X_train.shape}')\n",
    "#print(f'Shape of y_train is: {y_train.shape}')\n",
    "\n",
    "print(f'Shape of X_val is: {X_val.shape}')\n",
    "#print(f'Shape of y_val is: {y_val.shape}')\n",
    "\n",
    "print(f'Shape of X_test is: {X_test.shape}')\n",
    "#print(f'Shape of y_test is: {y_test.shape}')"
   ]
  },
  {
   "cell_type": "markdown",
   "id": "zpRuyFfFQCh6",
   "metadata": {
    "id": "zpRuyFfFQCh6"
   },
   "source": [
    "***Saving the dataset for training, validation and test***"
   ]
  },
  {
   "cell_type": "code",
   "execution_count": 20,
   "id": "BmxGPV9dFuBK",
   "metadata": {
    "executionInfo": {
     "elapsed": 19,
     "status": "ok",
     "timestamp": 1713433791586,
     "user": {
      "displayName": "Sudhanshu Singh",
      "userId": "08271345580702489067"
     },
     "user_tz": -330
    },
    "id": "BmxGPV9dFuBK"
   },
   "outputs": [],
   "source": [
    "input_df.to_csv('curated_dataset_for_summarization.csv', index=False)\n",
    "X_train.to_csv('training_data.csv', index=False)\n",
    "X_val.to_csv('validation_data.csv', index=False)\n",
    "X_test.to_csv('test_data.csv', index=False)"
   ]
  },
  {
   "cell_type": "markdown",
   "id": "w3At7WhSQ42v",
   "metadata": {
    "id": "w3At7WhSQ42v"
   },
   "source": [
    "### Loading the dataset from Huggingface Dataset"
   ]
  },
  {
   "cell_type": "code",
   "execution_count": 21,
   "id": "RYCZhC-eKxgw",
   "metadata": {
    "colab": {
     "base_uri": "https://localhost:8080/"
    },
    "executionInfo": {
     "elapsed": 10616,
     "status": "ok",
     "timestamp": 1713433802183,
     "user": {
      "displayName": "Sudhanshu Singh",
      "userId": "08271345580702489067"
     },
     "user_tz": -330
    },
    "id": "RYCZhC-eKxgw",
    "outputId": "4846a2f6-20fa-4275-c95c-f63d2cd89090"
   },
   "outputs": [
    {
     "name": "stderr",
     "output_type": "stream",
     "text": [
      "/usr/local/lib/python3.10/dist-packages/huggingface_hub/utils/_token.py:88: UserWarning: \n",
      "The secret `HF_TOKEN` does not exist in your Colab secrets.\n",
      "To authenticate with the Hugging Face Hub, create a token in your settings tab (https://huggingface.co/settings/tokens), set it as secret in your Google Colab and restart your session.\n",
      "You will be able to reuse this secret in all of your notebooks.\n",
      "Please note that authentication is recommended but still optional to access public models or datasets.\n",
      "  warnings.warn(\n"
     ]
    }
   ],
   "source": [
    "from datasets import load_dataset\n",
    "\n",
    "data_files = {\"train\": \"training_data.csv\", \"val\":\"validation_data.csv\", \"test\": \"test_data.csv\"}\n",
    "dataset = load_dataset(\"sudhanshusinghaiml/curated-dataset-for-summarization\", data_files= data_files)"
   ]
  },
  {
   "cell_type": "code",
   "execution_count": 22,
   "id": "PgDuEj80LQiy",
   "metadata": {
    "colab": {
     "base_uri": "https://localhost:8080/"
    },
    "executionInfo": {
     "elapsed": 38,
     "status": "ok",
     "timestamp": 1713433802192,
     "user": {
      "displayName": "Sudhanshu Singh",
      "userId": "08271345580702489067"
     },
     "user_tz": -330
    },
    "id": "PgDuEj80LQiy",
    "outputId": "e9da17a1-52fe-4ee4-d8f5-442023f81339"
   },
   "outputs": [
    {
     "data": {
      "text/plain": [
       "DatasetDict({\n",
       "    train: Dataset({\n",
       "        features: ['Text', 'Summary'],\n",
       "        num_rows: 71\n",
       "    })\n",
       "    val: Dataset({\n",
       "        features: ['Text', 'Summary'],\n",
       "        num_rows: 20\n",
       "    })\n",
       "    test: Dataset({\n",
       "        features: ['Text', 'Summary'],\n",
       "        num_rows: 8\n",
       "    })\n",
       "})"
      ]
     },
     "execution_count": 22,
     "metadata": {},
     "output_type": "execute_result"
    }
   ],
   "source": [
    "dataset"
   ]
  },
  {
   "cell_type": "markdown",
   "id": "W8hnqSJtR0dj",
   "metadata": {
    "id": "W8hnqSJtR0dj"
   },
   "source": [
    "***Displaying data from loaded dataset***"
   ]
  },
  {
   "cell_type": "code",
   "execution_count": 23,
   "id": "bRVvGIg1RpSS",
   "metadata": {
    "colab": {
     "base_uri": "https://localhost:8080/"
    },
    "executionInfo": {
     "elapsed": 31,
     "status": "ok",
     "timestamp": 1713433802193,
     "user": {
      "displayName": "Sudhanshu Singh",
      "userId": "08271345580702489067"
     },
     "user_tz": -330
    },
    "id": "bRVvGIg1RpSS",
    "outputId": "aede53ed-c559-4946-c131-f8d1bb301562"
   },
   "outputs": [
    {
     "data": {
      "text/plain": [
       "{'Text': '\"But, on the other hand, we would be foolish to rule anything out. We know that Asia-Pacific will be a very important market and we know a lot of the global growth in the future will come from there.\"',\n",
       " 'Summary': 'According to the UK\\'s International Trade Secretary, Liam Fox, the UK could feasibly join the Trans-Pacific Partnership (TPP), saying \"it would be foolish to rule anything out\". The organisation is made up of Australia, Mexico, New Zealand, Canada, Chile, Japan, Singapore, Brunei, Peru, Vietnam and Malaysia - with Donald Trump pulling the US out last year - and\\xa0is currently in renegotiation under the new name of the Comprehensive and Progressive Agreement for Trans-Pacific Partnership. Its aims are to\\xa0lower both non-tariff and tariff barriers to trade and to provide a forum to settle international disputes.'}"
      ]
     },
     "execution_count": 23,
     "metadata": {},
     "output_type": "execute_result"
    }
   ],
   "source": [
    "dataset['train'][29]"
   ]
  },
  {
   "cell_type": "code",
   "execution_count": 24,
   "id": "i5AHrAyeR_Ay",
   "metadata": {
    "executionInfo": {
     "elapsed": 29,
     "status": "ok",
     "timestamp": 1713433802194,
     "user": {
      "displayName": "Sudhanshu Singh",
      "userId": "08271345580702489067"
     },
     "user_tz": -330
    },
    "id": "i5AHrAyeR_Ay"
   },
   "outputs": [],
   "source": [
    "import datasets\n",
    "import random\n",
    "import pandas as pd\n",
    "from IPython.display import display, HTML\n",
    "\n",
    "def show_random_elements(dataset, num_examples=5):\n",
    "    assert num_examples <= len(dataset), \"Can't pick more elements than there are in the dataset.\"\n",
    "    picks = []\n",
    "    for _ in range(num_examples):\n",
    "        pick = random.randint(0, len(dataset)-1)\n",
    "        while pick in picks:\n",
    "            pick = random.randint(0, len(dataset)-1)\n",
    "        picks.append(pick)\n",
    "\n",
    "    df = pd.DataFrame(dataset[picks])\n",
    "    for column, typ in dataset.features.items():\n",
    "        if isinstance(typ, datasets.ClassLabel):\n",
    "            df[column] = df[column].transform(lambda i: typ.names[i])\n",
    "    display(HTML(df.to_html()))"
   ]
  },
  {
   "cell_type": "code",
   "execution_count": 25,
   "id": "j2n0sTkBSCiJ",
   "metadata": {
    "colab": {
     "base_uri": "https://localhost:8080/",
     "height": 1000
    },
    "executionInfo": {
     "elapsed": 29,
     "status": "ok",
     "timestamp": 1713433802195,
     "user": {
      "displayName": "Sudhanshu Singh",
      "userId": "08271345580702489067"
     },
     "user_tz": -330
    },
    "id": "j2n0sTkBSCiJ",
    "outputId": "003974d2-b476-41e5-996f-91040051517d"
   },
   "outputs": [
    {
     "data": {
      "text/html": [
       "<table border=\"1\" class=\"dataframe\">\n",
       "  <thead>\n",
       "    <tr style=\"text-align: right;\">\n",
       "      <th></th>\n",
       "      <th>Text</th>\n",
       "      <th>Summary</th>\n",
       "    </tr>\n",
       "  </thead>\n",
       "  <tbody>\n",
       "    <tr>\n",
       "      <th>0</th>\n",
       "      <td>Online retail and e-commerce giant Amazon is reportedly on the verge of making its first investment in an insurtech start-up, with the company said close to finalising an investment in online-only insurance start-up Acko.\\n\\nAcko wants to disrupt India’s insurance industry through a digital-only platform, having raised $30 million and recently received in-principal approval from the financial market regulators in India.\\n\\nAmazon and Indian rival Flipkart had both been pursuing investing in Acko, it has been reported widely, but at this stage it is now thought that Amazon is close to signing a term-sheet for the investment and a partnership deal with Acko.\\n\\nIt’s said that the arrangement will see Amazon acting as an online distributor for Acko’s insurance products, selling a range of financial products.\\n\\nThe potential for Amazon to enter the insurance space has been much-discussed in recent months, including in our article from November, Incumbents could be relegated, if tech giants come for re/insurance.\\n\\nNow it appears Amazon is close to taking a sensible step of investing in and partnering with an insurtech start-up, in order to gain the ability to add insurance products to its retail offering, seeing the firm stepping into the sale of financial products for the first time.\\n\\nTargeting India first is also a smart move, as the burgeoning financial services market there has a strong focus on technology and take-up rates of insurance products are rising all the time.\\n\\nIf Amazon can crack selling insurance online to the Indian market, it will stand it in good stead to break into more established markets such as the United States and Europe.\\n\\nOf course, if Amazon does move into insurance meaningfully it will likely only be a matter of time before other tech giants such as Google follow suit with their own integrated e-commerce offerings.\\n\\nIt’s also been reported that Flipkart is readying its own entry into insurance sales online, with the establishment of a new entity to focus on financial services and venture investing.\\n\\nAlso read: Incumbents could be relegated, if tech giants come for re/insurance.</td>\n",
       "      <td>Amazon is reportedly finalising an investment in Indian insurtech firm Acko. The arrangement would see Amazon acting as a distribution platform for the online-only insurer. Amazon's biggest rival in India, Flipkart, was also reportedly considering an investment in Acko. The start-up has raised $30m to date and has provisional approval to operate from India's financial markets regulator. \\n</td>\n",
       "    </tr>\n",
       "    <tr>\n",
       "      <th>1</th>\n",
       "      <td>Updated Story Several Democratic-led states are looking to implement state-level individual mandates for insurance coverage in an effort to reduce the prominence of bare counties and failing risk pools due to the end of the Affordable Care Act’s individual mandate in 2019 and other instabilities surround the law. California, New York, Maryland, Connecticut, and Washington state are all considering pursuing state individual mandates for insurance coverage when their state legislatures come into session in early 2018 ,...</td>\n",
       "      <td>Following on from the Republican tax bill, several Democratic-led states are looking to implement state-level individual mandates to overcome bare counties and the prospect of failing risk pools. California, Connecticut, New York, Maryland and Washington State, are all considering the move when their state legislatures come into session in early 2018. It is likely that the states will attempt to implement a model similar to that of RomneyCare, introduced in Massachusetts in 2006, and the ACA’s individual mandate. These states do not require federal approval for the move as the mandate penalty is a tax, and as a result, have the ability to implement their own version of the Obamacare mandate. It is unlikely that the move will extend beyond these states as there is far more likely to be partisan pushback as state legislatures often skew to the right. California, in particular, is looking at the possibility of a state individual mandate to overcome the uncertainty at federal level surrounding Obamacare. Maryland too would likely introduce an individual mandate, Massachusetts could fall back on its original proposition, with Washington State proving the most complicated.  \\n</td>\n",
       "    </tr>\n",
       "    <tr>\n",
       "      <th>2</th>\n",
       "      <td>Source: Xinhua| 2018-01-03 15:31:55|Editor: Xiang Bo\\n\\nVideo Player Close\\n\\nBEIJING, Jan. 3 (Xinhua) -- Land sales increased in Chinese cities last year as the government moved to cool the market with higher supply, according to the China Index Academy, a property research organization.\\n\\nLand sales in 300 Chinese cities totaled 950.36 million square meters in 2017, up 8 percent from 2016, while sales of land for residential projects reached 354.33 million square meters, an increase of 24 percent year on year.\\n\\nLand sales in major cities like Beijing, Shanghai and Guangzhou were particularly robust, as local governments increased land supply to cool down runaway house prices fueled by huge demand and limited supply.\\n\\nIn China's first-tier cities, land sales jumped 46 percent year on year to 29.79 million square meters last year, according to China Index Academy.\\n\\nBoosted by surging sales, revenue from land transactions rose 36 percent to 4.01 trillion yuan (about 620 billion U.S. dollars) in a total of 300 Chinese cities.\\n\\nChina's property market, once deemed a major risk for the broader economy, cooled in 2017 amid tough curbs such as purchase restrictions and increased downpayment requirements as the government sought to rein in speculation.\\n\\nDue to these efforts, both investment and sales in China's property sector slowed. Real estate investment rose 7.5 percent year on year during January-November, down from 7.8 percent in the first 10 months.\\n\\nProperty sales in terms of floor area climbed 7.9 percent in the first 11 months, retreating from 8.2 percent in January-October.\\n\\nWith the market holding steady, Chinese authorities are aiming for a \"long-term mechanism\" for real estate regulation, and a housing system that ensures supply through multiple sources and encourages both housing purchases and rentals.\\n\\nA report from the National Academy of Economic Strategy predicted that the country's property market would remain stable in 2018 if there were no major policy shocks.</td>\n",
       "      <td>Land sales in China's first-tier cities such as Beijing, Shanghai and Guangzhou surged by 46% year on year to 30 million sq metres in 2017, according to the China Index Academy. The academy also revealed that land sales in 300 Chinese cities rose by 8% to 950 million sq metres and sales of land for residential purposes rose 24% to 354 million sq metres. The government has been increasing land supply in order to put a brake on rising house prices. New purchase restrictions and requirements for higher deposits have also had an effect in slowing price rises.</td>\n",
       "    </tr>\n",
       "    <tr>\n",
       "      <th>3</th>\n",
       "      <td>The return to work after Christmas is never easy. Unless you’re an estate agent: they love January. Following the pre-Christmas lull, families rush back into wanting to buy and sell their houses (helped in part by the traditional post-festivity spike in family breakdown). But for an increasing number of us, house hunting is becoming little more than an exercise in window shopping (or ‘property porn’ if you’d rather).\\n\\nThe share of the population owning a home has been falling since 2003, with particularly profound consequences for younger families. As the chart below shows, today’s 30 year olds (that is, the oldest members of the millennial generation born between 1981 and 2000) are only half as likely to own their house as their parents were at the same age.\\n\\nLike so much of the Christmas TV schedule, this is a story that’s been on repeat for some time. Britons get that their country is no longer a nation of home owners. As research carried out by Ipsos MORI back in the summer for the Intergenerational Commission showed, 71 per cent of people (across all generations) think millennials face worse prospects than their parents in this regard. Just 7 per cent think young adults are better off. Indeed, of all of the questions asked in the survey, it was the one on which respondents were most pessimistic.\\n\\nYet, despite being pessimistic about the overall picture for millennials, new data shows that a significant share of the generation think they personally will manage to beat the gloom. The next chart takes data from the Bank of England’s latest NMG survey to show that more than half (52 per cent) of non-owning households headed by someone aged under-35 (roughly speaking, the millennial generation) expect to buy at some point in the future. And that proportion holds up even among lower income millennials.\\n\\nIf such expectations were borne out, around 75 per cent of millennial households would eventually own a home. That would put the generation on a par with the home ownership rates recorded among baby boomers. It would also be roughly 10 percentage points higher than the ‘optimistic’ scenario we set out in September (our ‘pessimistic’ scenario put the figure under 50 per cent). Short of a significant turnaround in housing trends, the implication is that many members of the younger generation will find their aspirations go unmet.\\n\\nAnd, while the one-in-four (24 per cent) non-owning millennials who think they’ll never buy a home might have a more realistic outlook of the future, they’re just as likely to be unhappy with their lot. The next chart sets out the factors which this group identify as being among the three most important reasons for not owning. What stands out is that just one-in-ten of them cite positive-sounding reasons: 10 per cent say they like their current home and just 8 per cent prefer the flexibility of renting. The upshot is that as few as 1 per cent of millennials appear to be happy with the idea of never owning a home.\\n\\nIt’s this finding that goes a long way to explaining why politicians are so keen to be seen to be offering hope on home ownership.\\n\\nAnd, with ‘purchase costs’ (such as the deposit, stamp duty and estate agents fees) being cited by millennials as the main barrier to owning, it’s easy to understand the temptation to focus on subsidising buyers. Measures such as the removal of stamp duty for first time buyers of property worth up to £300,000 – which Philip Hammond announced in the Autumn Budget – give the impression of extending home ownership to a wider group. But they largely miss the mark. The OBR’s assessment of the stamp duty policy was that it would benefit just 3,500 first time buyers who would not otherwise have been able to buy a home, costing roughly £160,000 per additional owner.\\n\\nSupply-based approaches represent a preferable and more sustainable option, but they take time to take effect. That’s not to say government should give up, and the Autumn Budget plans for returning housing capital spending back to the levels of the 2000s (outside of the fiscal stimulus peak of 2008-10) is a very welcome one.\\n\\nBut it’s hard to escape the conclusion that, even if we get to grips with the longer-term problem, home ownership will remain off-limits for significant numbers of millennials. Some might expect to benefit from the bank of mum and dad in the near-term and from inheritances as they age. But such support may come too late to cover expensive family-rearing years for many households, and will never arrive for many – mainly lower income – others.\\n\\nThat reality raises a number of challenges for today’s young people. Over the longer-term, home ownership plays an important role in building wealth (via semi-enforced saving), providing leverage and hedging against costs and location in retirement. In its absence, alternatives are needed.\\n\\nMore immediately, the generally higher housing costs associated with renting leave young people with less disposable income and less opportunity to save than earlier cohorts faced. The chart below sets out the share of income allocated to rent among younger respondents to the NMG survey. It shows that 30 per cent of renters in this group spend more than one-third of their pre-tax income – a threshold that is often taken as a sign of housing unaffordability. And that figure jumps to a massive 71 per cent among the poorest fifth of millennials.\\n\\nWe’ll turn to the question of how the country might rise to these challenges in a forthcoming policy options paper for the Intergenerational Commission. But our politicians – unlike our estate agents – need to be more honest about the housing aspiration gap. It’s good to offer hope, but a healthy dose of realism would sharpen the focus on the broader living standards challenge posed by our housing crisis.</td>\n",
       "      <td>A majority of millennials anticipate they will own a home in the future despite being pessimistic about their overall prospects. A recent survey commissioned by the Bank of England found that 52% of under-35s expect to buy a home at some point in the future, 24% expect never to buy and 25% are unsure. Purchase costs, such as deposits, estate agency fees and stamp duty, were cited as the biggest barriers to home ownership. An earlier Ipsos MORI poll found 71% of respondents thought millennials faced worse prospects than their parents of owning a home. \\n</td>\n",
       "    </tr>\n",
       "    <tr>\n",
       "      <th>4</th>\n",
       "      <td>NASA's Flight Opportunities program is already flying experiments on Blue Origin's New Shepard vehicle, but researchers and companies alike want NASA to also fund experiments with people on board.\\n\\nBROOMFIELD, Colo. — As commercial suborbital vehicles capable of carrying both payloads and people prepare to enter service, NASA officials say they're willing to consider allowing agency-funded researchers to fly on those vehicles.\\n\\nIn an interview after a speech at the Next-Generation Suborbital Researchers Conference here Dec. 19, Steve Jurczyk, NASA associate administrator for space technology, said the agency would be open to allowing researchers funded by NASA's Flight Opportunities program to fly on suborbital spacecraft to carry out their experiments.\\n\\n\"As principal investigators propose, both internal to NASA and external, we'll do the same kind of process that we do with Zero G,\" he said, referring to the company that performs parabolic aircraft flights. Zero G flies investigations as part of the Flight Opportunities program, with researchers flying on the aircraft with their experiments. [Watch Blue Origin's New Shepard 2.0 Spacecraft Soar in 1st Test Flight]\\n\\nZero G's aircraft, a Boeing 727, is regulated by the Federal Aviation Administration. Jurczyk said that, in addition to the FAA oversight, NASA's Armstrong Flight Research Center performs an evaluation of the aircraft for investigations selected by the Flight Opportunities program for flights on it. \"It just ensures that our grantees and contractors are safe to fly, and then we allow them to go fly,\" he said in a speech at the conference.\\n\\nA similar procedure is not yet in place for suborbital vehicles, but Jurczyk said the agency would be open to finding some process analogous to that used for Zero G. \"Moving forward, as these capabilities start coming online, we’ll figure it out,\" he said in the interview.\\n\\nHis comments come four and a half years after another agency official opened the door to flying people on commercial suborbital vehicles through the Flight Opportunities program. Speaking at the same conference in June 2013, Lori Garver, NASA deputy administrator at the time, said that past prohibitions about flying people would be lifted.\\n\\n\"We absolutely do not want to rule out paying for research that could be done by an individual spaceflight participant — a researcher or payload specialist — on these vehicles in the future,\" Garver said then. \"That could open up a lot more opportunities.\"\\n\\nThat announcement took the program by surprise, with the program's managers saying at the time they had yet to craft a policy for allowing people to fly with their experiments. Development of such a policy suffered years of delays, in part because of Garver's departure from NASA just a few months after her announcement as well as extended delays in the development of commercial suborbital vehicles capable of carrying people.\\n\\n\"It mostly resulted in a bunch of ostriches sticking heads in the sand for a few years,\" said Erika Wagner, business development manager at Blue Origin, during a panel discussion at the conference Dec. 18.\\n\\nBlue Origin's New Shepard vehicle is already carrying research payloads, including for Flight Opportunities, but without people on board. However, the vehicle will be able to support missions carrying payloads and people in the future. Virgin Galactic’s SpaceShipTwo vehicle will also fly research payloads accompanied by a payload specialist.\\n\\nWagner said she has seen some progress as both companies' vehicles advance through flight testing. \"The heads are back out. They're looking around trying to understand what really are the barriers, what is the liability regime.\"\\n\\nThose liability issues today, she said, prevent NASA civil servants from flying on the Zero G aircraft, even though outside researchers whose experiments are funded by NASA are able to do so. Jurczyk, in his speech at the conference, said that’s because they would have to sign a liability waiver to do so. \"Right now, that’s just NASA policy. We don't have a strong mission need to do that,\" he said. \"That's current policy. I’m not saying it's going to be policy forever and ever.\" [In Photos: Blue Origin's New Shepard 2.0 Aces Maiden Test Flight]\\n\\nScientists who would like to fly experiments on suborbital vehicles argue that such missions are analogous to fieldwork — oftentimes hazardous — performed in other fields. \"Marine biologists and marine geologists get to put themselves in that very same operationally risky environment by going to the bottom of the ocean, to a deep sea vent,\" said Dan Durda, a planetary scientist at the Southwest Research Institute, during the Dec. 18 panel. \"These vehicles offer us, as space scientists, that opportunity to get into the field the way that biologists and geologists do.\"\\n\\nAdvocates of commercial suborbital research, such as the Commercial Spaceflight Federation’s Suborbital Applications Research Group, have been pushing to allow NASA to fund human-tended experiments.\\n\\n\"They're working quietly to get the word out that there are very definite needs for human-tended payloads,\" said Steven Collicott, a Purdue University professor, in a conference speech Dec. 19. \"We've heard some encouraging words and we’re working quietly to try and move that ahead.\"\\n\\nOthers at the conference noted a decades-old precedent that suggests existing barriers to flying NASA-funded researchers on commercial suborbital vehicles can be overcome. In the 1980s, several payload specialists flew on the space shuttle, including Charles Walker, a McDonnell Douglas engineer who was part of three shuttle missions.\\n\\nWalker, in the Dec. 18 panel discussion, noted that on those shuttle missions he and his family signed liability waivers. He supported similar approaches to allow researchers to fly on commercial suborbital vehicles.\\n\\n\"The environments opened up by suborbital flight and, at a greater scale, orbital flight, are laboratory environments,\" he said. \"You should be there to maximize the answers that are coming out of the conduct in that environment.\"\\n\\nThis story was provided by SpaceNews, dedicated to covering all aspects of the space industry.</td>\n",
       "      <td>NASA is looking at allowing researchers from the agency on board commercial suborbital flights, according to Steve Jurczyk, NASA associate administrator for space technology. Blue Origin's New Shepard craft and Virgin Galactic’s SpaceShipTwo are among the vehicles that could carry researchers on suborbital flights. Liability issues on the relatively dangerous missions have so far deterred NASA from allowing staff aboard them.\\n</td>\n",
       "    </tr>\n",
       "  </tbody>\n",
       "</table>"
      ],
      "text/plain": [
       "<IPython.core.display.HTML object>"
      ]
     },
     "metadata": {},
     "output_type": "display_data"
    }
   ],
   "source": [
    "show_random_elements(dataset[\"train\"])"
   ]
  },
  {
   "cell_type": "code",
   "execution_count": 26,
   "id": "_pclxzJGSlH_",
   "metadata": {
    "executionInfo": {
     "elapsed": 11424,
     "status": "ok",
     "timestamp": 1713433813592,
     "user": {
      "displayName": "Sudhanshu Singh",
      "userId": "08271345580702489067"
     },
     "user_tz": -330
    },
    "id": "_pclxzJGSlH_"
   },
   "outputs": [],
   "source": [
    "from evaluate import load\n",
    "\n",
    "metric = load(\"rouge\")"
   ]
  },
  {
   "cell_type": "code",
   "execution_count": 27,
   "id": "epsv0obcStSe",
   "metadata": {
    "colab": {
     "base_uri": "https://localhost:8080/"
    },
    "executionInfo": {
     "elapsed": 4,
     "status": "ok",
     "timestamp": 1713433813592,
     "user": {
      "displayName": "Sudhanshu Singh",
      "userId": "08271345580702489067"
     },
     "user_tz": -330
    },
    "id": "epsv0obcStSe",
    "outputId": "1c693889-1cd9-4073-f823-f41da4f1754d"
   },
   "outputs": [
    {
     "data": {
      "text/plain": [
       "EvaluationModule(name: \"rouge\", module_type: \"metric\", features: [{'predictions': Value(dtype='string', id='sequence'), 'references': Sequence(feature=Value(dtype='string', id='sequence'), length=-1, id=None)}, {'predictions': Value(dtype='string', id='sequence'), 'references': Value(dtype='string', id='sequence')}], usage: \"\"\"\n",
       "Calculates average rouge scores for a list of hypotheses and references\n",
       "Args:\n",
       "    predictions: list of predictions to score. Each prediction\n",
       "        should be a string with tokens separated by spaces.\n",
       "    references: list of reference for each prediction. Each\n",
       "        reference should be a string with tokens separated by spaces.\n",
       "    rouge_types: A list of rouge types to calculate.\n",
       "        Valid names:\n",
       "        `\"rouge{n}\"` (e.g. `\"rouge1\"`, `\"rouge2\"`) where: {n} is the n-gram based scoring,\n",
       "        `\"rougeL\"`: Longest common subsequence based scoring.\n",
       "        `\"rougeLsum\"`: rougeLsum splits text using `\"\n",
       "\"`.\n",
       "        See details in https://github.com/huggingface/datasets/issues/617\n",
       "    use_stemmer: Bool indicating whether Porter stemmer should be used to strip word suffixes.\n",
       "    use_aggregator: Return aggregates if this is set to True\n",
       "Returns:\n",
       "    rouge1: rouge_1 (f1),\n",
       "    rouge2: rouge_2 (f1),\n",
       "    rougeL: rouge_l (f1),\n",
       "    rougeLsum: rouge_lsum (f1)\n",
       "Examples:\n",
       "\n",
       "    >>> rouge = evaluate.load('rouge')\n",
       "    >>> predictions = [\"hello there\", \"general kenobi\"]\n",
       "    >>> references = [\"hello there\", \"general kenobi\"]\n",
       "    >>> results = rouge.compute(predictions=predictions, references=references)\n",
       "    >>> print(results)\n",
       "    {'rouge1': 1.0, 'rouge2': 1.0, 'rougeL': 1.0, 'rougeLsum': 1.0}\n",
       "\"\"\", stored examples: 0)"
      ]
     },
     "execution_count": 27,
     "metadata": {},
     "output_type": "execute_result"
    }
   ],
   "source": [
    "metric"
   ]
  },
  {
   "cell_type": "markdown",
   "id": "qvastpMM0WAN",
   "metadata": {
    "id": "qvastpMM0WAN"
   },
   "source": [
    "### Tokenize the training, Validation and test dataset from AutoTokenizer"
   ]
  },
  {
   "cell_type": "markdown",
   "id": "uxXmX9lzTqML",
   "metadata": {
    "id": "uxXmX9lzTqML"
   },
   "source": [
    "***Creating Model Checkpoint for better readability***"
   ]
  },
  {
   "cell_type": "code",
   "execution_count": 28,
   "id": "ws-zojsmTpwZ",
   "metadata": {
    "executionInfo": {
     "elapsed": 4,
     "status": "ok",
     "timestamp": 1713433813593,
     "user": {
      "displayName": "Sudhanshu Singh",
      "userId": "08271345580702489067"
     },
     "user_tz": -330
    },
    "id": "ws-zojsmTpwZ"
   },
   "outputs": [],
   "source": [
    "model_checkpoint = 'facebook/bart-base'\n",
    "max_input_length = 1024\n",
    "max_target_length = 128\n",
    "prefix = \"Summarize: \""
   ]
  },
  {
   "cell_type": "code",
   "execution_count": 29,
   "id": "cnxZzNh5UOG7",
   "metadata": {
    "executionInfo": {
     "elapsed": 774,
     "status": "ok",
     "timestamp": 1713433814363,
     "user": {
      "displayName": "Sudhanshu Singh",
      "userId": "08271345580702489067"
     },
     "user_tz": -330
    },
    "id": "cnxZzNh5UOG7"
   },
   "outputs": [],
   "source": [
    "from transformers import BartTokenizer\n",
    "\n",
    "tokenizer = BartTokenizer.from_pretrained(model_checkpoint)"
   ]
  },
  {
   "cell_type": "code",
   "execution_count": 81,
   "id": "Nxix8JGF_Wgl",
   "metadata": {
    "executionInfo": {
     "elapsed": 532,
     "status": "ok",
     "timestamp": 1713436657731,
     "user": {
      "displayName": "Sudhanshu Singh",
      "userId": "08271345580702489067"
     },
     "user_tz": -330
    },
    "id": "Nxix8JGF_Wgl"
   },
   "outputs": [],
   "source": [
    "max_input_length = 1024\n",
    "max_target_length = 128\n",
    "\n",
    "def preprocess_function(examples):\n",
    "    inputs = [prefix + doc for doc in examples[\"Text\"]]\n",
    "    model_inputs = tokenizer(inputs, max_length=max_input_length, truncation=True)\n",
    "\n",
    "    # Setup the tokenizer for targets\n",
    "    labels = tokenizer(text_target=examples[\"Summary\"], max_length=max_target_length, truncation=True)\n",
    "\n",
    "    model_inputs[\"labels\"] = labels[\"input_ids\"]\n",
    "    return model_inputs"
   ]
  },
  {
   "cell_type": "code",
   "execution_count": 82,
   "id": "8_jowxTu_eZ3",
   "metadata": {
    "colab": {
     "base_uri": "https://localhost:8080/"
    },
    "executionInfo": {
     "elapsed": 579,
     "status": "ok",
     "timestamp": 1713436660648,
     "user": {
      "displayName": "Sudhanshu Singh",
      "userId": "08271345580702489067"
     },
     "user_tz": -330
    },
    "id": "8_jowxTu_eZ3",
    "outputId": "1ac81191-3ea5-4837-b25a-1d7e002ac7f2"
   },
   "outputs": [
    {
     "data": {
      "text/plain": [
       "{'input_ids': [[0, 38182, 3916, 2072, 35, 29352, 1787, 138, 22226, 7219, 36, 347, 42456, 43, 892, 7441, 14, 5, 194, 9, 5993, 16, 5, 21084, 194, 11, 5, 382, 7, 4318, 8518, 4, 50118, 50118, 30219, 2593, 4481, 3441, 10, 319, 9, 3459, 476, 8, 5, 476, 1162, 10356, 11, 358, 194, 4, 50118, 50118, 20930, 15, 18694, 6335, 17, 27, 29, 665, 892, 9, 5, 701, 9, 11196, 4481, 420, 5, 382, 6, 24, 16, 855, 21084, 7, 4318, 8518, 11, 5993, 480, 4382, 1042, 23, 361, 4, 5677, 3205, 228, 42738, 4650, 5, 674, 701, 9, 4481, 65, 8518, 23, 68, 246, 6, 28835, 4, 50118, 50118, 713, 16, 3625, 7246, 87, 5, 595, 425, 9, 8518, 6, 61, 16, 855, 1446, 23, 198, 68, 1092, 6, 151, 228, 12911, 6, 25, 9, 1228, 86, 4, 50118, 50118, 13841, 1493, 11, 5, 382, 16, 24, 6162, 7, 4318, 116, 50118, 50118, 1121, 49, 892, 6, 18694, 6335, 67, 2319, 5, 701, 9, 8518, 4481, 716, 15, 5, 42738, 1580, 4850, 9, 5, 130, 144, 1406, 4481, 19880, 6, 13953, 6, 5, 3702, 448, 5101, 208, 466, 6, 5, 3702, 448, 5101, 208, 406, 6, 8, 5, 35383, 231, 6, 25, 157, 25, 5, 674, 360, 349, 10727, 1239, 7, 4318, 10, 19233, 4, 1216, 2415, 58, 172, 39582, 30, 5, 674, 4382, 731, 11, 349, 194, 4, 50118, 50118, 45242, 31, 5993, 6, 5, 97, 299, 292, 982, 19, 5, 3912, 701, 7, 4318, 8518, 32, 10604, 1358, 246, 6, 28390, 228, 19233, 238, 663, 1358, 246, 6, 31573, 238, 3719, 1358, 246, 6, 35741, 43, 8, 7429, 1358, 246, 6, 35255, 322, 50118, 50118, 133, 892, 67, 2523, 5, 144, 3214, 982, 13, 1778, 2593, 4481, 4, 20, 889, 9, 701, 27911, 982, 16, 669, 30, 6467, 6, 61, 1239, 41, 674, 4481, 701, 9, 68, 466, 6, 37932, 228, 12911, 4, 50118, 50118, 500, 10773, 62, 5, 299, 292, 982, 19, 5, 1609, 8518, 4481, 1162, 32, 7227, 1358, 406, 6, 41873, 238, 6520, 1358, 401, 6, 40464, 238, 5517, 1358, 401, 6, 38715, 43, 8, 188, 10372, 1358, 401, 6, 28171, 322, 50118, 50118, 133, 1197, 773, 11, 11196, 34, 57, 7513, 30, 1197, 2212, 81, 5, 1007, 1552, 7, 4318, 21416, 6, 13953, 8518, 4, 5598, 1449, 33, 57, 682, 23215, 6, 25, 10, 266, 376, 66, 4564, 14, 342, 11196, 4481, 11, 5, 2514, 5377, 9, 1007, 4850, 4, 2], [0, 38182, 3916, 2072, 35, 2223, 5, 766, 9, 5, 2632, 21, 1714, 7, 5519, 5099, 26696, 484, 107, 536, 6, 24, 16, 202, 3924, 684, 25, 2141, 18235, 412, 4, 83, 2232, 709, 6, 24, 34, 63, 308, 476, 2195, 6, 1304, 6, 14579, 1312, 8, 41989, 3260, 4, 20, 1392, 34, 15913, 103, 34232, 45, 95, 142, 9, 63, 1836, 53, 67, 142, 270, 140, 34, 10, 650, 1968, 11, 5, 2632, 4, 50118, 50118, 9518, 1168, 272, 4, 926, 1728, 6, 5, 4196, 1784, 9, 2141, 18235, 412, 11823, 6, 54, 21, 639, 5, 1392, 6, 56, 3811, 11, 461, 14, 79, 9320, 5, 240, 7, 15332, 4071, 19, 10, 432, 14, 115, 339, 168, 2846, 8, 8415, 2141, 18235, 412, 25, 10, 184, 13, 614, 12, 8, 7212, 12, 7214, 188, 24412, 4, 50118, 50118, 9690, 87, 1510, 135, 9, 5, 1804, 2567, 8, 10142, 2203, 2033, 5, 432, 11, 772, 4, 50118, 50118, 17, 48, 170, 32, 4343, 19, 5, 568, 12000, 14334, 17, 27, 1170, 7, 17991, 5, 1392, 9, 5519, 5099, 26696, 6, 17, 46, 2135, 4, 926, 1728, 26, 11, 10, 445, 294, 6, 44, 48, 4297, 45, 3911, 142, 9, 5, 575, 52, 342, 88, 5, 609, 8, 8348, 10, 9790, 54, 16, 2021, 7, 6780, 5, 709, 25, 4555, 8, 10, 1318, 317, 7, 697, 13, 5, 379, 6, 151, 1196, 54, 486, 24, 184, 4, 17, 46, 50118, 50118, 36706, 211, 4, 487, 4, 26436, 6, 10, 2470, 13, 5, 35550, 6, 26, 294, 14, 51, 58, 9311, 5, 1679, 17, 27, 29, 645, 8, 49, 1735, 6, 61, 115, 680, 15449, 13, 8357, 4, 50118, 50118, 10980, 4, 926, 1728, 962, 11, 1824, 4, 2135, 4, 926, 1728, 21, 39, 371, 1141, 4, 50118, 50118, 894, 1381, 7, 1331, 5, 2632, 7, 5, 1609, 24034, 148, 10, 1126, 12, 20118, 196, 588, 2587, 8600, 11, 3010, 6, 53, 5, 432, 1064, 4102, 2876, 4406, 3633, 31, 343, 6, 194, 8, 752, 503, 6, 25, 157, 25, 12004, 4, 2]], 'attention_mask': [[1, 1, 1, 1, 1, 1, 1, 1, 1, 1, 1, 1, 1, 1, 1, 1, 1, 1, 1, 1, 1, 1, 1, 1, 1, 1, 1, 1, 1, 1, 1, 1, 1, 1, 1, 1, 1, 1, 1, 1, 1, 1, 1, 1, 1, 1, 1, 1, 1, 1, 1, 1, 1, 1, 1, 1, 1, 1, 1, 1, 1, 1, 1, 1, 1, 1, 1, 1, 1, 1, 1, 1, 1, 1, 1, 1, 1, 1, 1, 1, 1, 1, 1, 1, 1, 1, 1, 1, 1, 1, 1, 1, 1, 1, 1, 1, 1, 1, 1, 1, 1, 1, 1, 1, 1, 1, 1, 1, 1, 1, 1, 1, 1, 1, 1, 1, 1, 1, 1, 1, 1, 1, 1, 1, 1, 1, 1, 1, 1, 1, 1, 1, 1, 1, 1, 1, 1, 1, 1, 1, 1, 1, 1, 1, 1, 1, 1, 1, 1, 1, 1, 1, 1, 1, 1, 1, 1, 1, 1, 1, 1, 1, 1, 1, 1, 1, 1, 1, 1, 1, 1, 1, 1, 1, 1, 1, 1, 1, 1, 1, 1, 1, 1, 1, 1, 1, 1, 1, 1, 1, 1, 1, 1, 1, 1, 1, 1, 1, 1, 1, 1, 1, 1, 1, 1, 1, 1, 1, 1, 1, 1, 1, 1, 1, 1, 1, 1, 1, 1, 1, 1, 1, 1, 1, 1, 1, 1, 1, 1, 1, 1, 1, 1, 1, 1, 1, 1, 1, 1, 1, 1, 1, 1, 1, 1, 1, 1, 1, 1, 1, 1, 1, 1, 1, 1, 1, 1, 1, 1, 1, 1, 1, 1, 1, 1, 1, 1, 1, 1, 1, 1, 1, 1, 1, 1, 1, 1, 1, 1, 1, 1, 1, 1, 1, 1, 1, 1, 1, 1, 1, 1, 1, 1, 1, 1, 1, 1, 1, 1, 1, 1, 1, 1, 1, 1, 1, 1, 1, 1, 1, 1, 1, 1, 1, 1, 1, 1, 1, 1, 1, 1, 1, 1, 1, 1, 1, 1, 1, 1, 1, 1, 1, 1, 1, 1, 1, 1, 1, 1, 1, 1, 1, 1, 1, 1, 1, 1, 1, 1, 1, 1, 1, 1, 1, 1, 1, 1, 1, 1, 1, 1, 1, 1, 1, 1, 1, 1, 1, 1, 1, 1, 1, 1, 1, 1, 1, 1, 1, 1, 1, 1, 1, 1, 1, 1, 1, 1, 1, 1, 1, 1, 1, 1, 1, 1, 1, 1, 1, 1, 1, 1, 1, 1, 1, 1, 1], [1, 1, 1, 1, 1, 1, 1, 1, 1, 1, 1, 1, 1, 1, 1, 1, 1, 1, 1, 1, 1, 1, 1, 1, 1, 1, 1, 1, 1, 1, 1, 1, 1, 1, 1, 1, 1, 1, 1, 1, 1, 1, 1, 1, 1, 1, 1, 1, 1, 1, 1, 1, 1, 1, 1, 1, 1, 1, 1, 1, 1, 1, 1, 1, 1, 1, 1, 1, 1, 1, 1, 1, 1, 1, 1, 1, 1, 1, 1, 1, 1, 1, 1, 1, 1, 1, 1, 1, 1, 1, 1, 1, 1, 1, 1, 1, 1, 1, 1, 1, 1, 1, 1, 1, 1, 1, 1, 1, 1, 1, 1, 1, 1, 1, 1, 1, 1, 1, 1, 1, 1, 1, 1, 1, 1, 1, 1, 1, 1, 1, 1, 1, 1, 1, 1, 1, 1, 1, 1, 1, 1, 1, 1, 1, 1, 1, 1, 1, 1, 1, 1, 1, 1, 1, 1, 1, 1, 1, 1, 1, 1, 1, 1, 1, 1, 1, 1, 1, 1, 1, 1, 1, 1, 1, 1, 1, 1, 1, 1, 1, 1, 1, 1, 1, 1, 1, 1, 1, 1, 1, 1, 1, 1, 1, 1, 1, 1, 1, 1, 1, 1, 1, 1, 1, 1, 1, 1, 1, 1, 1, 1, 1, 1, 1, 1, 1, 1, 1, 1, 1, 1, 1, 1, 1, 1, 1, 1, 1, 1, 1, 1, 1, 1, 1, 1, 1, 1, 1, 1, 1, 1, 1, 1, 1, 1, 1, 1, 1, 1, 1, 1, 1, 1, 1, 1, 1, 1, 1, 1, 1, 1, 1, 1, 1, 1, 1, 1, 1, 1, 1, 1, 1, 1, 1, 1, 1, 1, 1, 1, 1, 1, 1, 1, 1, 1, 1, 1, 1, 1, 1, 1, 1, 1, 1, 1, 1, 1, 1, 1, 1, 1, 1, 1, 1, 1, 1, 1, 1, 1, 1, 1, 1, 1, 1, 1, 1, 1, 1, 1, 1, 1, 1, 1, 1, 1, 1, 1, 1, 1, 1, 1, 1, 1, 1, 1, 1, 1, 1, 1, 1, 1]], 'labels': [[0, 250, 92, 892, 34, 1440, 5993, 25, 5, 21084, 194, 11, 5, 382, 11, 61, 7, 4318, 11388, 4, 29352, 1787, 138, 22226, 7219, 716, 63, 21586, 15, 5, 701, 9, 4382, 11, 349, 194, 6, 5, 476, 3471, 9, 5, 2104, 956, 6, 8, 5, 674, 5933, 9, 86, 551, 7, 4318, 10, 19233, 4, 152, 2622, 10, 1955, 9, 68, 246, 6, 28835, 228, 11388, 13, 5993, 6, 19, 5, 144, 3214, 2127, 145, 6467, 6, 23, 68, 466, 6, 37932, 6, 8, 7227, 23, 68, 406, 6, 41873, 4, 404, 9, 209, 2415, 32, 10030, 540, 87, 5, 595, 1446, 425, 9, 11388, 4, 50118, 2], [0, 133, 1392, 9, 10, 1307, 3537, 2632, 11, 188, 469, 34, 57, 6049, 30, 10, 1679, 71, 24, 21, 6835, 11, 461, 4, 2141, 18235, 412, 11, 6314, 16, 5, 1154, 24793, 20113, 1720, 2004, 709, 11, 5, 315, 532, 6, 19, 195, 6, 39263, 10867, 11, 10, 17445, 12, 12013, 1082, 4, 85, 16, 145, 1088, 13, 68, 38893, 119, 30, 5, 18141, 9, 63, 1461, 6596, 6, 53, 5, 2676, 34, 57, 4340, 30, 10, 3429, 24034, 6, 4094, 30, 10, 1784, 11, 5, 2632, 4, 20, 2124, 837, 9, 5, 194, 9, 188, 469, 34, 122, 4768, 63, 24763, 6, 53, 5, 2676, 202, 3441, 2846, 30, 194, 8, 752, 503, 4, 50118, 2]]}"
      ]
     },
     "execution_count": 82,
     "metadata": {},
     "output_type": "execute_result"
    }
   ],
   "source": [
    "preprocess_function(dataset['train'][:2])"
   ]
  },
  {
   "cell_type": "code",
   "execution_count": 83,
   "id": "I7r6xjgaTFIM",
   "metadata": {
    "colab": {
     "base_uri": "https://localhost:8080/",
     "height": 113,
     "referenced_widgets": [
      "79e35126155544ca8f778d876cbc7e46",
      "4e593b3747954e7891a89569bd026c0d",
      "fe7463dfcf134972af216cb2550293d7",
      "dba923c99979487a9e8e27649eab4382",
      "829e328248b94511acf27c0c5a6ebfba",
      "b62604c379784e5fad5768a6b2eadf95",
      "97b7a0371e1b4d65b4e35e7066cb58de",
      "1dee5db504a04444a7483c540737cbc2",
      "8956231c21734791979a739bfcc0d6eb",
      "4e22fbbfb74b4cd0858997e65179da90",
      "63f72044af4a46028519f56d3f4c3293",
      "09c87b9c86f248d9bc134ba5b5ccda90",
      "0e14abb90a804d5a85002ad25253ef4d",
      "ceacfc05599e421d958fd00eee9afb4d",
      "61d4f997d7374aa1a924c4036adc2fa5",
      "3cf237732684412794cbae58167ae622",
      "163cd091131840239e92678166e31622",
      "b7db20cd972c48d0a2b92f2ed9dea157",
      "0d038beb756f4c28a0f72f3433c97b24",
      "b066a6946b2d4d509fcd2419a91ee80f",
      "eed78b71423d4571a8fd0582b2950d0b",
      "acbc23f141e14d4496822228e13a21a3",
      "dc45083e7251479db1392dc56e4bb5bb",
      "4d186e1dfe4f4f008bc53ca0a59a8d92",
      "19e92debb7544a0885c3a2cea3de1f92",
      "0d4a9e0518634860997e8fc4e16e1a90",
      "3152729a6fd24620906d4df5cb18e1e6",
      "c3ba6337ade14a97ac0f0b3ec7b59d8e",
      "b03cd8adf59c48b193c0aee4300fafdf",
      "184b96184e0b4bcc89fbf71d4103e428",
      "49f5259969db4be28b4f419bc1eee318",
      "441ad83bd05f44168336ada7061dca31",
      "4fcfcd03b32149ad9c56718ff27fa379"
     ]
    },
    "executionInfo": {
     "elapsed": 5136,
     "status": "ok",
     "timestamp": 1713436683145,
     "user": {
      "displayName": "Sudhanshu Singh",
      "userId": "08271345580702489067"
     },
     "user_tz": -330
    },
    "id": "I7r6xjgaTFIM",
    "outputId": "67bd8490-f7d0-4a31-b408-6c72463fe524"
   },
   "outputs": [
    {
     "data": {
      "application/vnd.jupyter.widget-view+json": {
       "model_id": "79e35126155544ca8f778d876cbc7e46",
       "version_major": 2,
       "version_minor": 0
      },
      "text/plain": [
       "Map:   0%|          | 0/71 [00:00<?, ? examples/s]"
      ]
     },
     "metadata": {},
     "output_type": "display_data"
    },
    {
     "data": {
      "application/vnd.jupyter.widget-view+json": {
       "model_id": "09c87b9c86f248d9bc134ba5b5ccda90",
       "version_major": 2,
       "version_minor": 0
      },
      "text/plain": [
       "Map:   0%|          | 0/20 [00:00<?, ? examples/s]"
      ]
     },
     "metadata": {},
     "output_type": "display_data"
    },
    {
     "data": {
      "application/vnd.jupyter.widget-view+json": {
       "model_id": "dc45083e7251479db1392dc56e4bb5bb",
       "version_major": 2,
       "version_minor": 0
      },
      "text/plain": [
       "Map:   0%|          | 0/8 [00:00<?, ? examples/s]"
      ]
     },
     "metadata": {},
     "output_type": "display_data"
    }
   ],
   "source": [
    "tokenized_datasets = dataset.map(preprocess_function, batched=True)"
   ]
  },
  {
   "cell_type": "markdown",
   "id": "issLke9R1xmM",
   "metadata": {
    "id": "issLke9R1xmM"
   },
   "source": [
    "### Train or Fine Tune with Pytorch Trainer on new dataset"
   ]
  },
  {
   "cell_type": "markdown",
   "id": "aieDr1s6gi8Y",
   "metadata": {
    "id": "aieDr1s6gi8Y"
   },
   "source": [
    "We can download the pretrained model and fine-tune it. Since our task is of the sequence-to-sequence kind, we use the AutoModelForSeq2SeqLM class. Like with the tokenizer, the from_pretrained method will download and cache the model for us"
   ]
  },
  {
   "cell_type": "code",
   "execution_count": 84,
   "id": "tu-hetStTFFI",
   "metadata": {
    "executionInfo": {
     "elapsed": 2693,
     "status": "ok",
     "timestamp": 1713436691550,
     "user": {
      "displayName": "Sudhanshu Singh",
      "userId": "08271345580702489067"
     },
     "user_tz": -330
    },
    "id": "tu-hetStTFFI"
   },
   "outputs": [],
   "source": [
    "from transformers import AutoModelForSeq2SeqLM, DataCollatorForSeq2Seq, Seq2SeqTrainingArguments, Seq2SeqTrainer\n",
    "\n",
    "model = AutoModelForSeq2SeqLM.from_pretrained(model_checkpoint)"
   ]
  },
  {
   "cell_type": "code",
   "execution_count": 85,
   "id": "X7UygCWiTFCB",
   "metadata": {
    "executionInfo": {
     "elapsed": 6,
     "status": "ok",
     "timestamp": 1713436694353,
     "user": {
      "displayName": "Sudhanshu Singh",
      "userId": "08271345580702489067"
     },
     "user_tz": -330
    },
    "id": "X7UygCWiTFCB"
   },
   "outputs": [],
   "source": [
    "from accelerate import Accelerator\n",
    "\n",
    "accelerator = Accelerator()\n",
    "\n",
    "batch_size = 16\n",
    "model_name = model_checkpoint.split(\"/\")[-1]\n",
    "args = Seq2SeqTrainingArguments(\n",
    "    \"sudhanshusinghaiml/facebook-bart-base-finetuned\",\n",
    "    evaluation_strategy = \"epoch\",\n",
    "    learning_rate=2e-5,\n",
    "    per_device_train_batch_size=batch_size,\n",
    "    per_device_eval_batch_size=batch_size,\n",
    "    weight_decay=0.01,\n",
    "    save_total_limit=3,\n",
    "    num_train_epochs=1,\n",
    "    predict_with_generate=True,\n",
    "    fp16=True\n",
    "    # push_to_hub=True\n",
    ")"
   ]
  },
  {
   "cell_type": "markdown",
   "id": "8BtyMgQRngvv",
   "metadata": {
    "id": "8BtyMgQRngvv"
   },
   "source": [
    "We need a special kind of data collator, which will pad the inputs to the maximum length in the batch for all datasets and texts as well as summary"
   ]
  },
  {
   "cell_type": "code",
   "execution_count": 86,
   "id": "0zyXZG7aTE52",
   "metadata": {
    "executionInfo": {
     "elapsed": 529,
     "status": "ok",
     "timestamp": 1713436698127,
     "user": {
      "displayName": "Sudhanshu Singh",
      "userId": "08271345580702489067"
     },
     "user_tz": -330
    },
    "id": "0zyXZG7aTE52"
   },
   "outputs": [],
   "source": [
    "dataCollator = DataCollatorForSeq2Seq(tokenizer, model=model)"
   ]
  },
  {
   "cell_type": "markdown",
   "id": "yOL-HXVgoZct",
   "metadata": {
    "id": "yOL-HXVgoZct"
   },
   "source": [
    "The last thing to define for our Seq2SeqTrainer is how to compute the metrics from the predictions. We need to define a function for this, which will just use the metric we loaded earlier, and we have to do a bit of pre-processing to decode the predictions into texts:"
   ]
  },
  {
   "cell_type": "code",
   "execution_count": 87,
   "id": "rhiLd3XwTEvR",
   "metadata": {
    "executionInfo": {
     "elapsed": 29,
     "status": "ok",
     "timestamp": 1713436701114,
     "user": {
      "displayName": "Sudhanshu Singh",
      "userId": "08271345580702489067"
     },
     "user_tz": -330
    },
    "id": "rhiLd3XwTEvR"
   },
   "outputs": [],
   "source": [
    "import nltk\n",
    "import numpy as np\n",
    "\n",
    "def compute_metrics(eval_pred):\n",
    "    predictions, labels = eval_pred\n",
    "    decoded_preds = tokenizer.batch_decode(predictions, skip_special_tokens=True)\n",
    "    # Replace -100 in the labels as we can't decode them.\n",
    "    labels = np.where(labels != -100, labels, tokenizer.pad_token_id)\n",
    "    decoded_labels = tokenizer.batch_decode(labels, skip_special_tokens=True)\n",
    "\n",
    "    # Rouge expects a newline after each sentence\n",
    "    decoded_preds = [\"\\n\".join(nltk.sent_tokenize(pred.strip())) for pred in decoded_preds]\n",
    "    decoded_labels = [\"\\n\".join(nltk.sent_tokenize(label.strip())) for label in decoded_labels]\n",
    "\n",
    "    # Note that other metrics may not have a `use_aggregator` parameter\n",
    "    # and thus will return a list, computing a metric for each sentence.\n",
    "    result = metric.compute(predictions=decoded_preds, references=decoded_labels, use_stemmer=True, use_aggregator=True)\n",
    "    # Extract a few results\n",
    "    result = {key: value * 100 for key, value in result.items()}\n",
    "\n",
    "    # Add mean generated length\n",
    "    prediction_lens = [np.count_nonzero(pred != tokenizer.pad_token_id) for pred in predictions]\n",
    "    result[\"gen_len\"] = np.mean(prediction_lens)\n",
    "\n",
    "    return {k: round(v, 4) for k, v in result.items()}"
   ]
  },
  {
   "cell_type": "markdown",
   "id": "nWZm_5PNok5C",
   "metadata": {
    "id": "nWZm_5PNok5C"
   },
   "source": [
    "Then we just need to pass all of this along with our datasets to the Seq2SeqTrainer:"
   ]
  },
  {
   "cell_type": "code",
   "execution_count": 88,
   "id": "Bw_66RVk2Alg",
   "metadata": {
    "colab": {
     "base_uri": "https://localhost:8080/"
    },
    "executionInfo": {
     "elapsed": 1146,
     "status": "ok",
     "timestamp": 1713436704648,
     "user": {
      "displayName": "Sudhanshu Singh",
      "userId": "08271345580702489067"
     },
     "user_tz": -330
    },
    "id": "Bw_66RVk2Alg",
    "outputId": "59c3614d-27a0-47b5-e5d7-c68c97d38129"
   },
   "outputs": [
    {
     "name": "stderr",
     "output_type": "stream",
     "text": [
      "/usr/local/lib/python3.10/dist-packages/accelerate/accelerator.py:436: FutureWarning: Passing the following arguments to `Accelerator` is deprecated and will be removed in version 1.0 of Accelerate: dict_keys(['dispatch_batches', 'split_batches', 'even_batches', 'use_seedable_sampler']). Please pass an `accelerate.DataLoaderConfiguration` instead: \n",
      "dataloader_config = DataLoaderConfiguration(dispatch_batches=None, split_batches=False, even_batches=True, use_seedable_sampler=True)\n",
      "  warnings.warn(\n"
     ]
    }
   ],
   "source": [
    "trainer = Seq2SeqTrainer(\n",
    "    model,\n",
    "    args,\n",
    "    train_dataset=tokenized_datasets[\"train\"],\n",
    "    eval_dataset=tokenized_datasets[\"val\"],\n",
    "    data_collator=dataCollator,\n",
    "    tokenizer=tokenizer,\n",
    "    compute_metrics=compute_metrics\n",
    ")"
   ]
  },
  {
   "cell_type": "code",
   "execution_count": 92,
   "id": "JfpBTLAN2BQ-",
   "metadata": {
    "colab": {
     "base_uri": "https://localhost:8080/",
     "height": 278
    },
    "executionInfo": {
     "elapsed": 8564,
     "status": "ok",
     "timestamp": 1713436805554,
     "user": {
      "displayName": "Sudhanshu Singh",
      "userId": "08271345580702489067"
     },
     "user_tz": -330
    },
    "id": "JfpBTLAN2BQ-",
    "outputId": "ee6e7dc0-6d7e-4251-f5dd-a2e6c61e1684"
   },
   "outputs": [
    {
     "data": {
      "text/html": [
       "\n",
       "    <div>\n",
       "      \n",
       "      <progress value='5' max='5' style='width:300px; height:20px; vertical-align: middle;'></progress>\n",
       "      [5/5 00:07, Epoch 1/1]\n",
       "    </div>\n",
       "    <table border=\"1\" class=\"dataframe\">\n",
       "  <thead>\n",
       " <tr style=\"text-align: left;\">\n",
       "      <th>Epoch</th>\n",
       "      <th>Training Loss</th>\n",
       "      <th>Validation Loss</th>\n",
       "      <th>Rouge1</th>\n",
       "      <th>Rouge2</th>\n",
       "      <th>Rougel</th>\n",
       "      <th>Rougelsum</th>\n",
       "      <th>Gen Len</th>\n",
       "    </tr>\n",
       "  </thead>\n",
       "  <tbody>\n",
       "    <tr>\n",
       "      <td>1</td>\n",
       "      <td>No log</td>\n",
       "      <td>2.758328</td>\n",
       "      <td>15.655800</td>\n",
       "      <td>4.413800</td>\n",
       "      <td>11.243500</td>\n",
       "      <td>13.705000</td>\n",
       "      <td>20.000000</td>\n",
       "    </tr>\n",
       "  </tbody>\n",
       "</table><p>"
      ],
      "text/plain": [
       "<IPython.core.display.HTML object>"
      ]
     },
     "metadata": {},
     "output_type": "display_data"
    },
    {
     "name": "stderr",
     "output_type": "stream",
     "text": [
      "/usr/local/lib/python3.10/dist-packages/transformers/generation/utils.py:1178: UserWarning: Using the model-agnostic default `max_length` (=20) to control the generation length. We recommend setting `max_new_tokens` to control the maximum length of the generation.\n",
      "  warnings.warn(\n"
     ]
    },
    {
     "data": {
      "text/html": [
       "\n",
       "    <div>\n",
       "      \n",
       "      <progress value='6' max='5' style='width:300px; height:20px; vertical-align: middle;'></progress>\n",
       "      [5/5 00:02, Epoch 1/1]\n",
       "    </div>\n",
       "    <table border=\"1\" class=\"dataframe\">\n",
       "  <thead>\n",
       " <tr style=\"text-align: left;\">\n",
       "      <th>Epoch</th>\n",
       "      <th>Training Loss</th>\n",
       "      <th>Validation Loss</th>\n",
       "    </tr>\n",
       "  </thead>\n",
       "  <tbody>\n",
       "  </tbody>\n",
       "</table><p>\n",
       "    <div>\n",
       "      \n",
       "      <progress value='4' max='2' style='width:300px; height:20px; vertical-align: middle;'></progress>\n",
       "      [2/2 01:29]\n",
       "    </div>\n",
       "    "
      ],
      "text/plain": [
       "<IPython.core.display.HTML object>"
      ]
     },
     "metadata": {},
     "output_type": "display_data"
    },
    {
     "data": {
      "text/plain": [
       "TrainOutput(global_step=5, training_loss=3.1713235855102537, metrics={'train_runtime': 7.8909, 'train_samples_per_second': 8.998, 'train_steps_per_second': 0.634, 'total_flos': 84023351193600.0, 'train_loss': 3.1713235855102537, 'epoch': 1.0})"
      ]
     },
     "execution_count": 92,
     "metadata": {},
     "output_type": "execute_result"
    }
   ],
   "source": [
    "trainer.train()"
   ]
  },
  {
   "cell_type": "code",
   "execution_count": 94,
   "id": "Fgbw1CLl2CdU",
   "metadata": {
    "colab": {
     "base_uri": "https://localhost:8080/"
    },
    "executionInfo": {
     "elapsed": 6468,
     "status": "ok",
     "timestamp": 1713437102225,
     "user": {
      "displayName": "Sudhanshu Singh",
      "userId": "08271345580702489067"
     },
     "user_tz": -330
    },
    "id": "Fgbw1CLl2CdU",
    "outputId": "2ec20d91-810c-4499-839a-22be42b297ac"
   },
   "outputs": [
    {
     "name": "stderr",
     "output_type": "stream",
     "text": [
      "Some non-default generation parameters are set in the model config. These should go into a GenerationConfig file (https://huggingface.co/docs/transformers/generation_strategies#save-a-custom-decoding-strategy-with-your-model) instead. This warning will be raised to an exception in v4.41.\n",
      "Non-default generation parameters: {'early_stopping': True, 'num_beams': 4, 'no_repeat_ngram_size': 3, 'forced_bos_token_id': 0, 'forced_eos_token_id': 2}\n"
     ]
    }
   ],
   "source": [
    "# Save the model\n",
    "trainer.save_model('facebook-bart-base-finetuned')"
   ]
  },
  {
   "cell_type": "markdown",
   "id": "XALKEKyh2DTd",
   "metadata": {
    "id": "XALKEKyh2DTd"
   },
   "source": [
    "Test the Preiction of the model"
   ]
  },
  {
   "cell_type": "code",
   "execution_count": 98,
   "id": "ivGWTBEeB1qg",
   "metadata": {
    "colab": {
     "base_uri": "https://localhost:8080/",
     "height": 74
    },
    "executionInfo": {
     "elapsed": 1435,
     "status": "ok",
     "timestamp": 1713440840132,
     "user": {
      "displayName": "Sudhanshu Singh",
      "userId": "08271345580702489067"
     },
     "user_tz": -330
    },
    "id": "ivGWTBEeB1qg",
    "outputId": "6182c720-99ba-42bc-9e37-2cf9b06580bc"
   },
   "outputs": [
    {
     "name": "stderr",
     "output_type": "stream",
     "text": [
      "/usr/local/lib/python3.10/dist-packages/transformers/generation/utils.py:1178: UserWarning: Using the model-agnostic default `max_length` (=20) to control the generation length. We recommend setting `max_new_tokens` to control the maximum length of the generation.\n",
      "  warnings.warn(\n"
     ]
    },
    {
     "data": {
      "text/html": [],
      "text/plain": [
       "<IPython.core.display.HTML object>"
      ]
     },
     "metadata": {},
     "output_type": "display_data"
    }
   ],
   "source": [
    "prediction_results = trainer.predict(tokenized_datasets['test'])"
   ]
  },
  {
   "cell_type": "code",
   "execution_count": 109,
   "id": "dLOG3qC-DPsi",
   "metadata": {
    "colab": {
     "base_uri": "https://localhost:8080/",
     "height": 113,
     "referenced_widgets": [
      "6d80981ef9b34735ac63b96433d2cd6a",
      "196cf9fd24504649b2942b62e13baef9",
      "96988f713bb649198746a8129903aa18",
      "46eb37ccbad5477484e8e01cbaf081ff",
      "fc96bac337694bb18f6a8739b316ba12",
      "ed1c76783f4b41f38a81304b4767e5ff",
      "4c806e62599c433790b1284d0bf14bd6",
      "42e9a90c41b04e0081125229e57620f3",
      "75c5f077d2b946a185ccb6f26cae8f95",
      "dc2e952040ec46c1a435e933418d31b9",
      "065f5009345147f0aa2069c152e5adba",
      "f81bb409036f4cbfb298c646b387be31",
      "624e6a473c0845a39ad7e6bccb14d289",
      "ebb595d018a8407a8637b28ee4e165ea",
      "da81e8005b094b278c237c63350e2fde",
      "2b6fb3637e604d998a549de4ac981628",
      "0b765e602ae743ce8836837c3109772e",
      "cdd3103fc3304652a7b7c91ec48d9094",
      "2a8162defbfc4ec1918dcce26a2d52e1",
      "92f3e25c5bcc4bd7a6ec053b9cd4a221",
      "e3a47971c92e49b495316d6df71b0384",
      "6743efaa1822476c9e7f8ebf5b3bff3e",
      "135e7eb382f04e4697e5698541495a88",
      "438dfa9579e646d5b6f7145d6469d0f4",
      "7a13d4f1fa264f4f94e9ff81fc201721",
      "023070b9754d46c19983a6f762a5cf07",
      "5f174b770b5049a99a5aa397f7a29744",
      "4eb550f17db947c190da18e4d4d8d4f0",
      "d7bf28b9429b4e98803cf4fa9594f60d",
      "f069ac666dea4d5ea04055f26a2aeab0",
      "65a1de8ef7e64a1bbacfd2c50fcfba3a",
      "06cacf6c1c054e5dbba63ebb191ada7f",
      "0f6df2b10c3740e580d22cf180d1a2c6"
     ]
    },
    "executionInfo": {
     "elapsed": 30595,
     "status": "ok",
     "timestamp": 1713441829900,
     "user": {
      "displayName": "Sudhanshu Singh",
      "userId": "08271345580702489067"
     },
     "user_tz": -330
    },
    "id": "dLOG3qC-DPsi",
    "outputId": "91932dbd-3ccc-4ab9-db46-c1a452004760"
   },
   "outputs": [
    {
     "data": {
      "application/vnd.jupyter.widget-view+json": {
       "model_id": "6d80981ef9b34735ac63b96433d2cd6a",
       "version_major": 2,
       "version_minor": 0
      },
      "text/plain": [
       "config.json:   0%|          | 0.00/1.74k [00:00<?, ?B/s]"
      ]
     },
     "metadata": {},
     "output_type": "display_data"
    },
    {
     "data": {
      "application/vnd.jupyter.widget-view+json": {
       "model_id": "f81bb409036f4cbfb298c646b387be31",
       "version_major": 2,
       "version_minor": 0
      },
      "text/plain": [
       "model.safetensors:   0%|          | 0.00/558M [00:00<?, ?B/s]"
      ]
     },
     "metadata": {},
     "output_type": "display_data"
    },
    {
     "data": {
      "application/vnd.jupyter.widget-view+json": {
       "model_id": "135e7eb382f04e4697e5698541495a88",
       "version_major": 2,
       "version_minor": 0
      },
      "text/plain": [
       "generation_config.json:   0%|          | 0.00/262 [00:00<?, ?B/s]"
      ]
     },
     "metadata": {},
     "output_type": "display_data"
    }
   ],
   "source": [
    "# Let us pull the model from huggingface\n"
   ]
  },
  {
   "cell_type": "code",
   "execution_count": 110,
   "id": "7nCrZUy7AePF",
   "metadata": {
    "colab": {
     "base_uri": "https://localhost:8080/",
     "height": 201,
     "referenced_widgets": [
      "2d0b818675d744d68104b4798b426c58",
      "d2843f20372b4584aa77dd1fbfd7feb4",
      "9a66393ae05640dbb5f4cce0b5c0b56c",
      "e1124eca48d045c99a95aee91f26bc6a",
      "05f696f79d934cf38cd37b503761e0f6",
      "fb1e184302a2430793cb33a0e1d01837",
      "64b01b8e1a694347b8afb72a4ff5768c",
      "78bffbdd0f8643f8a2c6ae1a8d875d18",
      "44ac0a0a2ec44147ab62fa514e27a96f",
      "21ce9cf1df4a48a6b10aecc4a944fdda",
      "7158632c178d4a4bbc663f73a45b166f",
      "5dcedf23a9cf473382c5e2947faabe8c",
      "b2d3b366c2a7412e8f2ecb21e1df496e",
      "1f83fdb9febe4931a9ab7c18504447f6",
      "ea86967a482e49048bc3c857d4e2261e",
      "0727d02e50ee420b9559ad66846366ab",
      "84a7d391e63d43d096e0b57ec8a85602",
      "adc9e54d06fe4950879dd0560fae3d84",
      "512d2972196b4d61807b4103c7725edf",
      "cf97931688e54eeaa5e4435b4e083cd7",
      "baddbd75869242c387fc71d9baf41faf",
      "fd5c242bb286476db19431b69acdc8d0",
      "7d626efa30374d538daf55eb63be16ab",
      "533dc0a9d9a44d8cb3d8f701095e5904",
      "e0a6f925b70d45249c63f98db2e11f29",
      "320acf1cea1c47c399d85d4dace37039",
      "663a6e5985874f7a928317a359e50d7d",
      "fdc78ce08457480ba78d571a501ce119",
      "df6ff03c18ed4615874101bb7cd10f23",
      "ded05e4b07aa44208223cab55f6421ec",
      "2cd74ca6600445b2bf400e317c4e4511",
      "71218393ce864c3da61a4c2ee328b645",
      "de9c5a61e70c4e2096d48805665f80a8",
      "d96d48933e1547c08d005e6f7da299bc",
      "269fd2aed5d0467689c6bfdb20c5680f",
      "af2bf3d84c3f407f849f68dbb2b01dc1",
      "74706860ed154c168281c1cc27d2f2ff",
      "25599c4ca99444658c1749a953e4b9ee",
      "8375b6c5c206499a80c4052f7612d86c",
      "88821b530cdc4dc68364c7cfbfae5005",
      "05ccc1b121e44229bf2c21d848db7ab3",
      "ca7f9c1a821a4731b2fe2559db12aa98",
      "6cafab720af042c1b8ccd4e798701ef6",
      "250c551636954346a88284444718f557"
     ]
    },
    "executionInfo": {
     "elapsed": 9193,
     "status": "ok",
     "timestamp": 1713441941789,
     "user": {
      "displayName": "Sudhanshu Singh",
      "userId": "08271345580702489067"
     },
     "user_tz": -330
    },
    "id": "7nCrZUy7AePF",
    "outputId": "ac1a7a59-1fed-47de-af96-e13547035874"
   },
   "outputs": [
    {
     "data": {
      "application/vnd.jupyter.widget-view+json": {
       "model_id": "2d0b818675d744d68104b4798b426c58",
       "version_major": 2,
       "version_minor": 0
      },
      "text/plain": [
       "tokenizer_config.json:   0%|          | 0.00/1.19k [00:00<?, ?B/s]"
      ]
     },
     "metadata": {},
     "output_type": "display_data"
    },
    {
     "data": {
      "application/vnd.jupyter.widget-view+json": {
       "model_id": "5dcedf23a9cf473382c5e2947faabe8c",
       "version_major": 2,
       "version_minor": 0
      },
      "text/plain": [
       "vocab.json:   0%|          | 0.00/999k [00:00<?, ?B/s]"
      ]
     },
     "metadata": {},
     "output_type": "display_data"
    },
    {
     "data": {
      "application/vnd.jupyter.widget-view+json": {
       "model_id": "7d626efa30374d538daf55eb63be16ab",
       "version_major": 2,
       "version_minor": 0
      },
      "text/plain": [
       "merges.txt:   0%|          | 0.00/456k [00:00<?, ?B/s]"
      ]
     },
     "metadata": {},
     "output_type": "display_data"
    },
    {
     "data": {
      "application/vnd.jupyter.widget-view+json": {
       "model_id": "d96d48933e1547c08d005e6f7da299bc",
       "version_major": 2,
       "version_minor": 0
      },
      "text/plain": [
       "special_tokens_map.json:   0%|          | 0.00/957 [00:00<?, ?B/s]"
      ]
     },
     "metadata": {},
     "output_type": "display_data"
    },
    {
     "name": "stdout",
     "output_type": "stream",
     "text": [
      "Summary:\n",
      "Former U.S. President Donald Trump charged in classified documents probe. There was no immediate confirmation from the Justice Department regarding Mr. Trump\n"
     ]
    }
   ],
   "source": [
    "def summarize_from_finetuned_model(article):\n",
    "    # Load BART model and tokenizer\n",
    "    model_name = 'sudhanshusinghaiml/facebook-bart-base-fintuned'\n",
    "    tokenizer = BartTokenizer.from_pretrained(model_name)\n",
    "    model = AutoModelForSeq2SeqLM.from_pretrained(model_name)\n",
    "\n",
    "    # Tokenize and encode the article\n",
    "    inputs = tokenizer(article, return_tensors='pt', max_length=1024, truncation=True)\n",
    "\n",
    "    # Generate summary\n",
    "    summary_ids = model.generate(inputs['input_ids'], num_beams=4, max_length=128, early_stopping=True)\n",
    "    summary = tokenizer.decode(summary_ids[0], skip_special_tokens=True)\n",
    "\n",
    "    return summary\n",
    "\n",
    "# Example usage\n",
    "article = \"\"\"\n",
    "Former U.S. President Donald Trump charged in classified documents probe. There was no immediate confirmation from the Justice Department regarding Mr. Trump’s assertion, although some U.S. media outlet cited sources saying that the former U.S. President has bee indicted.\n",
    "\"\"\"\n",
    "\n",
    "summary = summarize_from_finetuned_model(article)\n",
    "print(\"Summary:\")\n",
    "print(summary)"
   ]
  },
  {
   "cell_type": "code",
   "execution_count": 112,
   "id": "lhw_i64hGZrh",
   "metadata": {
    "colab": {
     "base_uri": "https://localhost:8080/"
    },
    "executionInfo": {
     "elapsed": 7577,
     "status": "ok",
     "timestamp": 1713442027449,
     "user": {
      "displayName": "Sudhanshu Singh",
      "userId": "08271345580702489067"
     },
     "user_tz": -330
    },
    "id": "lhw_i64hGZrh",
    "outputId": "b7e14f22-7897-4bf6-feeb-dc4a5940a1a7"
   },
   "outputs": [
    {
     "name": "stdout",
     "output_type": "stream",
     "text": [
      "Summary:\n",
      "Packing all the contextual information from a document into a short summary is much harder with long text. If our summary has to be say\n"
     ]
    }
   ],
   "source": [
    "article = \"\"\"Packing all the contextual information from a document into a short summary is much harder with long text. If our summary has to be say 5 sentences max it is much harder to\n",
    "decide what information is valuable enough to be added with 500 words vs 50,000 words. Chunking algorithms are often required, but they do grow the data variance coverage a model must have\n",
    "to be accurate. Chunking algorithms control how much of the larger document we pass into a summarizer based on the max tokens the model allows and parameters we’ve set. The new dynamic\n",
    "nature of the input data means our data variance is much larger than what is seen with smaller text. Longer documents often have much more internal data variance and swings in the information.\n",
    "Use causes such as blog posts, interviews, transcripts and more have multiple swings in the dialog that make it harder to understand what contextual information is valuable for the summary.\n",
    "Models have to learn a much deeper relationship between specific keywords, topics, and phrases as the text grows. There are two main types of summarization that are used as the baseline for\n",
    "any enhanced versions of summarization - Extractive and abstractive. They focus on how the key information found in the input text is reconstructed in the generated summary in their own ways.\n",
    "Both of these methods have their own unique challenges that pop up when looking at using longer text.\"\"\"\n",
    "\n",
    "summary = summarize_from_finetuned_model(article)\n",
    "print(\"Summary:\")\n",
    "print(summary)"
   ]
  }
 ],
 "metadata": {
  "accelerator": "GPU",
  "colab": {
   "gpuType": "T4",
   "provenance": []
  },
  "kernelspec": {
   "display_name": "Python 3 (ipykernel)",
   "language": "python",
   "name": "python3"
  },
  "language_info": {
   "codemirror_mode": {
    "name": "ipython",
    "version": 3
   },
   "file_extension": ".py",
   "mimetype": "text/x-python",
   "name": "python",
   "nbconvert_exporter": "python",
   "pygments_lexer": "ipython3",
   "version": "3.10.9"
  },
  "widgets": {
   "application/vnd.jupyter.widget-state+json": {
    "023070b9754d46c19983a6f762a5cf07": {
     "model_module": "@jupyter-widgets/controls",
     "model_module_version": "1.5.0",
     "model_name": "HTMLModel",
     "state": {
      "_dom_classes": [],
      "_model_module": "@jupyter-widgets/controls",
      "_model_module_version": "1.5.0",
      "_model_name": "HTMLModel",
      "_view_count": null,
      "_view_module": "@jupyter-widgets/controls",
      "_view_module_version": "1.5.0",
      "_view_name": "HTMLView",
      "description": "",
      "description_tooltip": null,
      "layout": "IPY_MODEL_06cacf6c1c054e5dbba63ebb191ada7f",
      "placeholder": "​",
      "style": "IPY_MODEL_0f6df2b10c3740e580d22cf180d1a2c6",
      "value": " 262/262 [00:00&lt;00:00, 11.7kB/s]"
     }
    },
    "05ccc1b121e44229bf2c21d848db7ab3": {
     "model_module": "@jupyter-widgets/base",
     "model_module_version": "1.2.0",
     "model_name": "LayoutModel",
     "state": {
      "_model_module": "@jupyter-widgets/base",
      "_model_module_version": "1.2.0",
      "_model_name": "LayoutModel",
      "_view_count": null,
      "_view_module": "@jupyter-widgets/base",
      "_view_module_version": "1.2.0",
      "_view_name": "LayoutView",
      "align_content": null,
      "align_items": null,
      "align_self": null,
      "border": null,
      "bottom": null,
      "display": null,
      "flex": null,
      "flex_flow": null,
      "grid_area": null,
      "grid_auto_columns": null,
      "grid_auto_flow": null,
      "grid_auto_rows": null,
      "grid_column": null,
      "grid_gap": null,
      "grid_row": null,
      "grid_template_areas": null,
      "grid_template_columns": null,
      "grid_template_rows": null,
      "height": null,
      "justify_content": null,
      "justify_items": null,
      "left": null,
      "margin": null,
      "max_height": null,
      "max_width": null,
      "min_height": null,
      "min_width": null,
      "object_fit": null,
      "object_position": null,
      "order": null,
      "overflow": null,
      "overflow_x": null,
      "overflow_y": null,
      "padding": null,
      "right": null,
      "top": null,
      "visibility": null,
      "width": null
     }
    },
    "05f696f79d934cf38cd37b503761e0f6": {
     "model_module": "@jupyter-widgets/base",
     "model_module_version": "1.2.0",
     "model_name": "LayoutModel",
     "state": {
      "_model_module": "@jupyter-widgets/base",
      "_model_module_version": "1.2.0",
      "_model_name": "LayoutModel",
      "_view_count": null,
      "_view_module": "@jupyter-widgets/base",
      "_view_module_version": "1.2.0",
      "_view_name": "LayoutView",
      "align_content": null,
      "align_items": null,
      "align_self": null,
      "border": null,
      "bottom": null,
      "display": null,
      "flex": null,
      "flex_flow": null,
      "grid_area": null,
      "grid_auto_columns": null,
      "grid_auto_flow": null,
      "grid_auto_rows": null,
      "grid_column": null,
      "grid_gap": null,
      "grid_row": null,
      "grid_template_areas": null,
      "grid_template_columns": null,
      "grid_template_rows": null,
      "height": null,
      "justify_content": null,
      "justify_items": null,
      "left": null,
      "margin": null,
      "max_height": null,
      "max_width": null,
      "min_height": null,
      "min_width": null,
      "object_fit": null,
      "object_position": null,
      "order": null,
      "overflow": null,
      "overflow_x": null,
      "overflow_y": null,
      "padding": null,
      "right": null,
      "top": null,
      "visibility": null,
      "width": null
     }
    },
    "065f5009345147f0aa2069c152e5adba": {
     "model_module": "@jupyter-widgets/controls",
     "model_module_version": "1.5.0",
     "model_name": "DescriptionStyleModel",
     "state": {
      "_model_module": "@jupyter-widgets/controls",
      "_model_module_version": "1.5.0",
      "_model_name": "DescriptionStyleModel",
      "_view_count": null,
      "_view_module": "@jupyter-widgets/base",
      "_view_module_version": "1.2.0",
      "_view_name": "StyleView",
      "description_width": ""
     }
    },
    "06cacf6c1c054e5dbba63ebb191ada7f": {
     "model_module": "@jupyter-widgets/base",
     "model_module_version": "1.2.0",
     "model_name": "LayoutModel",
     "state": {
      "_model_module": "@jupyter-widgets/base",
      "_model_module_version": "1.2.0",
      "_model_name": "LayoutModel",
      "_view_count": null,
      "_view_module": "@jupyter-widgets/base",
      "_view_module_version": "1.2.0",
      "_view_name": "LayoutView",
      "align_content": null,
      "align_items": null,
      "align_self": null,
      "border": null,
      "bottom": null,
      "display": null,
      "flex": null,
      "flex_flow": null,
      "grid_area": null,
      "grid_auto_columns": null,
      "grid_auto_flow": null,
      "grid_auto_rows": null,
      "grid_column": null,
      "grid_gap": null,
      "grid_row": null,
      "grid_template_areas": null,
      "grid_template_columns": null,
      "grid_template_rows": null,
      "height": null,
      "justify_content": null,
      "justify_items": null,
      "left": null,
      "margin": null,
      "max_height": null,
      "max_width": null,
      "min_height": null,
      "min_width": null,
      "object_fit": null,
      "object_position": null,
      "order": null,
      "overflow": null,
      "overflow_x": null,
      "overflow_y": null,
      "padding": null,
      "right": null,
      "top": null,
      "visibility": null,
      "width": null
     }
    },
    "0705c6bd06b744c89a2f219d9af7771a": {
     "model_module": "@jupyter-widgets/base",
     "model_module_version": "1.2.0",
     "model_name": "LayoutModel",
     "state": {
      "_model_module": "@jupyter-widgets/base",
      "_model_module_version": "1.2.0",
      "_model_name": "LayoutModel",
      "_view_count": null,
      "_view_module": "@jupyter-widgets/base",
      "_view_module_version": "1.2.0",
      "_view_name": "LayoutView",
      "align_content": null,
      "align_items": null,
      "align_self": null,
      "border": null,
      "bottom": null,
      "display": null,
      "flex": null,
      "flex_flow": null,
      "grid_area": null,
      "grid_auto_columns": null,
      "grid_auto_flow": null,
      "grid_auto_rows": null,
      "grid_column": null,
      "grid_gap": null,
      "grid_row": null,
      "grid_template_areas": null,
      "grid_template_columns": null,
      "grid_template_rows": null,
      "height": null,
      "justify_content": null,
      "justify_items": null,
      "left": null,
      "margin": null,
      "max_height": null,
      "max_width": null,
      "min_height": null,
      "min_width": null,
      "object_fit": null,
      "object_position": null,
      "order": null,
      "overflow": null,
      "overflow_x": null,
      "overflow_y": null,
      "padding": null,
      "right": null,
      "top": null,
      "visibility": null,
      "width": null
     }
    },
    "0727d02e50ee420b9559ad66846366ab": {
     "model_module": "@jupyter-widgets/base",
     "model_module_version": "1.2.0",
     "model_name": "LayoutModel",
     "state": {
      "_model_module": "@jupyter-widgets/base",
      "_model_module_version": "1.2.0",
      "_model_name": "LayoutModel",
      "_view_count": null,
      "_view_module": "@jupyter-widgets/base",
      "_view_module_version": "1.2.0",
      "_view_name": "LayoutView",
      "align_content": null,
      "align_items": null,
      "align_self": null,
      "border": null,
      "bottom": null,
      "display": null,
      "flex": null,
      "flex_flow": null,
      "grid_area": null,
      "grid_auto_columns": null,
      "grid_auto_flow": null,
      "grid_auto_rows": null,
      "grid_column": null,
      "grid_gap": null,
      "grid_row": null,
      "grid_template_areas": null,
      "grid_template_columns": null,
      "grid_template_rows": null,
      "height": null,
      "justify_content": null,
      "justify_items": null,
      "left": null,
      "margin": null,
      "max_height": null,
      "max_width": null,
      "min_height": null,
      "min_width": null,
      "object_fit": null,
      "object_position": null,
      "order": null,
      "overflow": null,
      "overflow_x": null,
      "overflow_y": null,
      "padding": null,
      "right": null,
      "top": null,
      "visibility": null,
      "width": null
     }
    },
    "09c87b9c86f248d9bc134ba5b5ccda90": {
     "model_module": "@jupyter-widgets/controls",
     "model_module_version": "1.5.0",
     "model_name": "HBoxModel",
     "state": {
      "_dom_classes": [],
      "_model_module": "@jupyter-widgets/controls",
      "_model_module_version": "1.5.0",
      "_model_name": "HBoxModel",
      "_view_count": null,
      "_view_module": "@jupyter-widgets/controls",
      "_view_module_version": "1.5.0",
      "_view_name": "HBoxView",
      "box_style": "",
      "children": [
       "IPY_MODEL_0e14abb90a804d5a85002ad25253ef4d",
       "IPY_MODEL_ceacfc05599e421d958fd00eee9afb4d",
       "IPY_MODEL_61d4f997d7374aa1a924c4036adc2fa5"
      ],
      "layout": "IPY_MODEL_3cf237732684412794cbae58167ae622"
     }
    },
    "0b765e602ae743ce8836837c3109772e": {
     "model_module": "@jupyter-widgets/base",
     "model_module_version": "1.2.0",
     "model_name": "LayoutModel",
     "state": {
      "_model_module": "@jupyter-widgets/base",
      "_model_module_version": "1.2.0",
      "_model_name": "LayoutModel",
      "_view_count": null,
      "_view_module": "@jupyter-widgets/base",
      "_view_module_version": "1.2.0",
      "_view_name": "LayoutView",
      "align_content": null,
      "align_items": null,
      "align_self": null,
      "border": null,
      "bottom": null,
      "display": null,
      "flex": null,
      "flex_flow": null,
      "grid_area": null,
      "grid_auto_columns": null,
      "grid_auto_flow": null,
      "grid_auto_rows": null,
      "grid_column": null,
      "grid_gap": null,
      "grid_row": null,
      "grid_template_areas": null,
      "grid_template_columns": null,
      "grid_template_rows": null,
      "height": null,
      "justify_content": null,
      "justify_items": null,
      "left": null,
      "margin": null,
      "max_height": null,
      "max_width": null,
      "min_height": null,
      "min_width": null,
      "object_fit": null,
      "object_position": null,
      "order": null,
      "overflow": null,
      "overflow_x": null,
      "overflow_y": null,
      "padding": null,
      "right": null,
      "top": null,
      "visibility": null,
      "width": null
     }
    },
    "0d038beb756f4c28a0f72f3433c97b24": {
     "model_module": "@jupyter-widgets/base",
     "model_module_version": "1.2.0",
     "model_name": "LayoutModel",
     "state": {
      "_model_module": "@jupyter-widgets/base",
      "_model_module_version": "1.2.0",
      "_model_name": "LayoutModel",
      "_view_count": null,
      "_view_module": "@jupyter-widgets/base",
      "_view_module_version": "1.2.0",
      "_view_name": "LayoutView",
      "align_content": null,
      "align_items": null,
      "align_self": null,
      "border": null,
      "bottom": null,
      "display": null,
      "flex": null,
      "flex_flow": null,
      "grid_area": null,
      "grid_auto_columns": null,
      "grid_auto_flow": null,
      "grid_auto_rows": null,
      "grid_column": null,
      "grid_gap": null,
      "grid_row": null,
      "grid_template_areas": null,
      "grid_template_columns": null,
      "grid_template_rows": null,
      "height": null,
      "justify_content": null,
      "justify_items": null,
      "left": null,
      "margin": null,
      "max_height": null,
      "max_width": null,
      "min_height": null,
      "min_width": null,
      "object_fit": null,
      "object_position": null,
      "order": null,
      "overflow": null,
      "overflow_x": null,
      "overflow_y": null,
      "padding": null,
      "right": null,
      "top": null,
      "visibility": null,
      "width": null
     }
    },
    "0d4a9e0518634860997e8fc4e16e1a90": {
     "model_module": "@jupyter-widgets/controls",
     "model_module_version": "1.5.0",
     "model_name": "HTMLModel",
     "state": {
      "_dom_classes": [],
      "_model_module": "@jupyter-widgets/controls",
      "_model_module_version": "1.5.0",
      "_model_name": "HTMLModel",
      "_view_count": null,
      "_view_module": "@jupyter-widgets/controls",
      "_view_module_version": "1.5.0",
      "_view_name": "HTMLView",
      "description": "",
      "description_tooltip": null,
      "layout": "IPY_MODEL_441ad83bd05f44168336ada7061dca31",
      "placeholder": "​",
      "style": "IPY_MODEL_4fcfcd03b32149ad9c56718ff27fa379",
      "value": " 8/8 [00:00&lt;00:00, 38.41 examples/s]"
     }
    },
    "0e14abb90a804d5a85002ad25253ef4d": {
     "model_module": "@jupyter-widgets/controls",
     "model_module_version": "1.5.0",
     "model_name": "HTMLModel",
     "state": {
      "_dom_classes": [],
      "_model_module": "@jupyter-widgets/controls",
      "_model_module_version": "1.5.0",
      "_model_name": "HTMLModel",
      "_view_count": null,
      "_view_module": "@jupyter-widgets/controls",
      "_view_module_version": "1.5.0",
      "_view_name": "HTMLView",
      "description": "",
      "description_tooltip": null,
      "layout": "IPY_MODEL_163cd091131840239e92678166e31622",
      "placeholder": "​",
      "style": "IPY_MODEL_b7db20cd972c48d0a2b92f2ed9dea157",
      "value": "Map: 100%"
     }
    },
    "0e7e071cddea4fdf946997e5ae474ba4": {
     "model_module": "@jupyter-widgets/base",
     "model_module_version": "1.2.0",
     "model_name": "LayoutModel",
     "state": {
      "_model_module": "@jupyter-widgets/base",
      "_model_module_version": "1.2.0",
      "_model_name": "LayoutModel",
      "_view_count": null,
      "_view_module": "@jupyter-widgets/base",
      "_view_module_version": "1.2.0",
      "_view_name": "LayoutView",
      "align_content": null,
      "align_items": "center",
      "align_self": null,
      "border": null,
      "bottom": null,
      "display": "flex",
      "flex": null,
      "flex_flow": "column",
      "grid_area": null,
      "grid_auto_columns": null,
      "grid_auto_flow": null,
      "grid_auto_rows": null,
      "grid_column": null,
      "grid_gap": null,
      "grid_row": null,
      "grid_template_areas": null,
      "grid_template_columns": null,
      "grid_template_rows": null,
      "height": null,
      "justify_content": null,
      "justify_items": null,
      "left": null,
      "margin": null,
      "max_height": null,
      "max_width": null,
      "min_height": null,
      "min_width": null,
      "object_fit": null,
      "object_position": null,
      "order": null,
      "overflow": null,
      "overflow_x": null,
      "overflow_y": null,
      "padding": null,
      "right": null,
      "top": null,
      "visibility": null,
      "width": "50%"
     }
    },
    "0f6df2b10c3740e580d22cf180d1a2c6": {
     "model_module": "@jupyter-widgets/controls",
     "model_module_version": "1.5.0",
     "model_name": "DescriptionStyleModel",
     "state": {
      "_model_module": "@jupyter-widgets/controls",
      "_model_module_version": "1.5.0",
      "_model_name": "DescriptionStyleModel",
      "_view_count": null,
      "_view_module": "@jupyter-widgets/base",
      "_view_module_version": "1.2.0",
      "_view_name": "StyleView",
      "description_width": ""
     }
    },
    "135e7eb382f04e4697e5698541495a88": {
     "model_module": "@jupyter-widgets/controls",
     "model_module_version": "1.5.0",
     "model_name": "HBoxModel",
     "state": {
      "_dom_classes": [],
      "_model_module": "@jupyter-widgets/controls",
      "_model_module_version": "1.5.0",
      "_model_name": "HBoxModel",
      "_view_count": null,
      "_view_module": "@jupyter-widgets/controls",
      "_view_module_version": "1.5.0",
      "_view_name": "HBoxView",
      "box_style": "",
      "children": [
       "IPY_MODEL_438dfa9579e646d5b6f7145d6469d0f4",
       "IPY_MODEL_7a13d4f1fa264f4f94e9ff81fc201721",
       "IPY_MODEL_023070b9754d46c19983a6f762a5cf07"
      ],
      "layout": "IPY_MODEL_5f174b770b5049a99a5aa397f7a29744"
     }
    },
    "163cd091131840239e92678166e31622": {
     "model_module": "@jupyter-widgets/base",
     "model_module_version": "1.2.0",
     "model_name": "LayoutModel",
     "state": {
      "_model_module": "@jupyter-widgets/base",
      "_model_module_version": "1.2.0",
      "_model_name": "LayoutModel",
      "_view_count": null,
      "_view_module": "@jupyter-widgets/base",
      "_view_module_version": "1.2.0",
      "_view_name": "LayoutView",
      "align_content": null,
      "align_items": null,
      "align_self": null,
      "border": null,
      "bottom": null,
      "display": null,
      "flex": null,
      "flex_flow": null,
      "grid_area": null,
      "grid_auto_columns": null,
      "grid_auto_flow": null,
      "grid_auto_rows": null,
      "grid_column": null,
      "grid_gap": null,
      "grid_row": null,
      "grid_template_areas": null,
      "grid_template_columns": null,
      "grid_template_rows": null,
      "height": null,
      "justify_content": null,
      "justify_items": null,
      "left": null,
      "margin": null,
      "max_height": null,
      "max_width": null,
      "min_height": null,
      "min_width": null,
      "object_fit": null,
      "object_position": null,
      "order": null,
      "overflow": null,
      "overflow_x": null,
      "overflow_y": null,
      "padding": null,
      "right": null,
      "top": null,
      "visibility": null,
      "width": null
     }
    },
    "184b96184e0b4bcc89fbf71d4103e428": {
     "model_module": "@jupyter-widgets/base",
     "model_module_version": "1.2.0",
     "model_name": "LayoutModel",
     "state": {
      "_model_module": "@jupyter-widgets/base",
      "_model_module_version": "1.2.0",
      "_model_name": "LayoutModel",
      "_view_count": null,
      "_view_module": "@jupyter-widgets/base",
      "_view_module_version": "1.2.0",
      "_view_name": "LayoutView",
      "align_content": null,
      "align_items": null,
      "align_self": null,
      "border": null,
      "bottom": null,
      "display": null,
      "flex": null,
      "flex_flow": null,
      "grid_area": null,
      "grid_auto_columns": null,
      "grid_auto_flow": null,
      "grid_auto_rows": null,
      "grid_column": null,
      "grid_gap": null,
      "grid_row": null,
      "grid_template_areas": null,
      "grid_template_columns": null,
      "grid_template_rows": null,
      "height": null,
      "justify_content": null,
      "justify_items": null,
      "left": null,
      "margin": null,
      "max_height": null,
      "max_width": null,
      "min_height": null,
      "min_width": null,
      "object_fit": null,
      "object_position": null,
      "order": null,
      "overflow": null,
      "overflow_x": null,
      "overflow_y": null,
      "padding": null,
      "right": null,
      "top": null,
      "visibility": null,
      "width": null
     }
    },
    "196cf9fd24504649b2942b62e13baef9": {
     "model_module": "@jupyter-widgets/controls",
     "model_module_version": "1.5.0",
     "model_name": "HTMLModel",
     "state": {
      "_dom_classes": [],
      "_model_module": "@jupyter-widgets/controls",
      "_model_module_version": "1.5.0",
      "_model_name": "HTMLModel",
      "_view_count": null,
      "_view_module": "@jupyter-widgets/controls",
      "_view_module_version": "1.5.0",
      "_view_name": "HTMLView",
      "description": "",
      "description_tooltip": null,
      "layout": "IPY_MODEL_ed1c76783f4b41f38a81304b4767e5ff",
      "placeholder": "​",
      "style": "IPY_MODEL_4c806e62599c433790b1284d0bf14bd6",
      "value": "config.json: 100%"
     }
    },
    "19e92debb7544a0885c3a2cea3de1f92": {
     "model_module": "@jupyter-widgets/controls",
     "model_module_version": "1.5.0",
     "model_name": "FloatProgressModel",
     "state": {
      "_dom_classes": [],
      "_model_module": "@jupyter-widgets/controls",
      "_model_module_version": "1.5.0",
      "_model_name": "FloatProgressModel",
      "_view_count": null,
      "_view_module": "@jupyter-widgets/controls",
      "_view_module_version": "1.5.0",
      "_view_name": "ProgressView",
      "bar_style": "success",
      "description": "",
      "description_tooltip": null,
      "layout": "IPY_MODEL_184b96184e0b4bcc89fbf71d4103e428",
      "max": 8,
      "min": 0,
      "orientation": "horizontal",
      "style": "IPY_MODEL_49f5259969db4be28b4f419bc1eee318",
      "value": 8
     }
    },
    "1dee5db504a04444a7483c540737cbc2": {
     "model_module": "@jupyter-widgets/base",
     "model_module_version": "1.2.0",
     "model_name": "LayoutModel",
     "state": {
      "_model_module": "@jupyter-widgets/base",
      "_model_module_version": "1.2.0",
      "_model_name": "LayoutModel",
      "_view_count": null,
      "_view_module": "@jupyter-widgets/base",
      "_view_module_version": "1.2.0",
      "_view_name": "LayoutView",
      "align_content": null,
      "align_items": null,
      "align_self": null,
      "border": null,
      "bottom": null,
      "display": null,
      "flex": null,
      "flex_flow": null,
      "grid_area": null,
      "grid_auto_columns": null,
      "grid_auto_flow": null,
      "grid_auto_rows": null,
      "grid_column": null,
      "grid_gap": null,
      "grid_row": null,
      "grid_template_areas": null,
      "grid_template_columns": null,
      "grid_template_rows": null,
      "height": null,
      "justify_content": null,
      "justify_items": null,
      "left": null,
      "margin": null,
      "max_height": null,
      "max_width": null,
      "min_height": null,
      "min_width": null,
      "object_fit": null,
      "object_position": null,
      "order": null,
      "overflow": null,
      "overflow_x": null,
      "overflow_y": null,
      "padding": null,
      "right": null,
      "top": null,
      "visibility": null,
      "width": null
     }
    },
    "1f83fdb9febe4931a9ab7c18504447f6": {
     "model_module": "@jupyter-widgets/controls",
     "model_module_version": "1.5.0",
     "model_name": "FloatProgressModel",
     "state": {
      "_dom_classes": [],
      "_model_module": "@jupyter-widgets/controls",
      "_model_module_version": "1.5.0",
      "_model_name": "FloatProgressModel",
      "_view_count": null,
      "_view_module": "@jupyter-widgets/controls",
      "_view_module_version": "1.5.0",
      "_view_name": "ProgressView",
      "bar_style": "success",
      "description": "",
      "description_tooltip": null,
      "layout": "IPY_MODEL_512d2972196b4d61807b4103c7725edf",
      "max": 999355,
      "min": 0,
      "orientation": "horizontal",
      "style": "IPY_MODEL_cf97931688e54eeaa5e4435b4e083cd7",
      "value": 999355
     }
    },
    "21ce9cf1df4a48a6b10aecc4a944fdda": {
     "model_module": "@jupyter-widgets/base",
     "model_module_version": "1.2.0",
     "model_name": "LayoutModel",
     "state": {
      "_model_module": "@jupyter-widgets/base",
      "_model_module_version": "1.2.0",
      "_model_name": "LayoutModel",
      "_view_count": null,
      "_view_module": "@jupyter-widgets/base",
      "_view_module_version": "1.2.0",
      "_view_name": "LayoutView",
      "align_content": null,
      "align_items": null,
      "align_self": null,
      "border": null,
      "bottom": null,
      "display": null,
      "flex": null,
      "flex_flow": null,
      "grid_area": null,
      "grid_auto_columns": null,
      "grid_auto_flow": null,
      "grid_auto_rows": null,
      "grid_column": null,
      "grid_gap": null,
      "grid_row": null,
      "grid_template_areas": null,
      "grid_template_columns": null,
      "grid_template_rows": null,
      "height": null,
      "justify_content": null,
      "justify_items": null,
      "left": null,
      "margin": null,
      "max_height": null,
      "max_width": null,
      "min_height": null,
      "min_width": null,
      "object_fit": null,
      "object_position": null,
      "order": null,
      "overflow": null,
      "overflow_x": null,
      "overflow_y": null,
      "padding": null,
      "right": null,
      "top": null,
      "visibility": null,
      "width": null
     }
    },
    "23052f00fa4947a6abc696050c1ea8fa": {
     "model_module": "@jupyter-widgets/controls",
     "model_module_version": "1.5.0",
     "model_name": "LabelModel",
     "state": {
      "_dom_classes": [],
      "_model_module": "@jupyter-widgets/controls",
      "_model_module_version": "1.5.0",
      "_model_name": "LabelModel",
      "_view_count": null,
      "_view_module": "@jupyter-widgets/controls",
      "_view_module_version": "1.5.0",
      "_view_name": "LabelView",
      "description": "",
      "description_tooltip": null,
      "layout": "IPY_MODEL_95d9fd555e6c400eb75ed1a4f5fe0feb",
      "placeholder": "​",
      "style": "IPY_MODEL_87a6b58d6d884dfe8954a4f7b824d0d1",
      "value": "Your token has been saved to /root/.cache/huggingface/token"
     }
    },
    "24ffb09817454f968ba5db3b1b10d12b": {
     "model_module": "@jupyter-widgets/controls",
     "model_module_version": "1.5.0",
     "model_name": "HTMLModel",
     "state": {
      "_dom_classes": [],
      "_model_module": "@jupyter-widgets/controls",
      "_model_module_version": "1.5.0",
      "_model_name": "HTMLModel",
      "_view_count": null,
      "_view_module": "@jupyter-widgets/controls",
      "_view_module_version": "1.5.0",
      "_view_name": "HTMLView",
      "description": "",
      "description_tooltip": null,
      "layout": "IPY_MODEL_0705c6bd06b744c89a2f219d9af7771a",
      "placeholder": "​",
      "style": "IPY_MODEL_9f0a1751d84645e18a5b93d5f154f915",
      "value": "<center> <img\nsrc=https://huggingface.co/front/assets/huggingface_logo-noborder.svg\nalt='Hugging Face'> <br> Copy a token from <a\nhref=\"https://huggingface.co/settings/tokens\" target=\"_blank\">your Hugging Face\ntokens page</a> and paste it below. <br> Immediately click login after copying\nyour token or it might be stored in plain text in this notebook file. </center>"
     }
    },
    "250c551636954346a88284444718f557": {
     "model_module": "@jupyter-widgets/controls",
     "model_module_version": "1.5.0",
     "model_name": "DescriptionStyleModel",
     "state": {
      "_model_module": "@jupyter-widgets/controls",
      "_model_module_version": "1.5.0",
      "_model_name": "DescriptionStyleModel",
      "_view_count": null,
      "_view_module": "@jupyter-widgets/base",
      "_view_module_version": "1.2.0",
      "_view_name": "StyleView",
      "description_width": ""
     }
    },
    "25599c4ca99444658c1749a953e4b9ee": {
     "model_module": "@jupyter-widgets/base",
     "model_module_version": "1.2.0",
     "model_name": "LayoutModel",
     "state": {
      "_model_module": "@jupyter-widgets/base",
      "_model_module_version": "1.2.0",
      "_model_name": "LayoutModel",
      "_view_count": null,
      "_view_module": "@jupyter-widgets/base",
      "_view_module_version": "1.2.0",
      "_view_name": "LayoutView",
      "align_content": null,
      "align_items": null,
      "align_self": null,
      "border": null,
      "bottom": null,
      "display": null,
      "flex": null,
      "flex_flow": null,
      "grid_area": null,
      "grid_auto_columns": null,
      "grid_auto_flow": null,
      "grid_auto_rows": null,
      "grid_column": null,
      "grid_gap": null,
      "grid_row": null,
      "grid_template_areas": null,
      "grid_template_columns": null,
      "grid_template_rows": null,
      "height": null,
      "justify_content": null,
      "justify_items": null,
      "left": null,
      "margin": null,
      "max_height": null,
      "max_width": null,
      "min_height": null,
      "min_width": null,
      "object_fit": null,
      "object_position": null,
      "order": null,
      "overflow": null,
      "overflow_x": null,
      "overflow_y": null,
      "padding": null,
      "right": null,
      "top": null,
      "visibility": null,
      "width": null
     }
    },
    "257fc91eb34741f2a1486c2cba409ed6": {
     "model_module": "@jupyter-widgets/controls",
     "model_module_version": "1.5.0",
     "model_name": "VBoxModel",
     "state": {
      "_dom_classes": [],
      "_model_module": "@jupyter-widgets/controls",
      "_model_module_version": "1.5.0",
      "_model_name": "VBoxModel",
      "_view_count": null,
      "_view_module": "@jupyter-widgets/controls",
      "_view_module_version": "1.5.0",
      "_view_name": "VBoxView",
      "box_style": "",
      "children": [
       "IPY_MODEL_7ff18894be604ef2ba404e7ce07ecd1b",
       "IPY_MODEL_951cfe7cdc524ec2877356e57a3fdda3",
       "IPY_MODEL_23052f00fa4947a6abc696050c1ea8fa",
       "IPY_MODEL_98071d363b4b44f5a013ab97ca0e9829"
      ],
      "layout": "IPY_MODEL_0e7e071cddea4fdf946997e5ae474ba4"
     }
    },
    "269fd2aed5d0467689c6bfdb20c5680f": {
     "model_module": "@jupyter-widgets/controls",
     "model_module_version": "1.5.0",
     "model_name": "HTMLModel",
     "state": {
      "_dom_classes": [],
      "_model_module": "@jupyter-widgets/controls",
      "_model_module_version": "1.5.0",
      "_model_name": "HTMLModel",
      "_view_count": null,
      "_view_module": "@jupyter-widgets/controls",
      "_view_module_version": "1.5.0",
      "_view_name": "HTMLView",
      "description": "",
      "description_tooltip": null,
      "layout": "IPY_MODEL_8375b6c5c206499a80c4052f7612d86c",
      "placeholder": "​",
      "style": "IPY_MODEL_88821b530cdc4dc68364c7cfbfae5005",
      "value": "special_tokens_map.json: 100%"
     }
    },
    "2a43cb2844bb46a6902c6dad329a8425": {
     "model_module": "@jupyter-widgets/base",
     "model_module_version": "1.2.0",
     "model_name": "LayoutModel",
     "state": {
      "_model_module": "@jupyter-widgets/base",
      "_model_module_version": "1.2.0",
      "_model_name": "LayoutModel",
      "_view_count": null,
      "_view_module": "@jupyter-widgets/base",
      "_view_module_version": "1.2.0",
      "_view_name": "LayoutView",
      "align_content": null,
      "align_items": null,
      "align_self": null,
      "border": null,
      "bottom": null,
      "display": null,
      "flex": null,
      "flex_flow": null,
      "grid_area": null,
      "grid_auto_columns": null,
      "grid_auto_flow": null,
      "grid_auto_rows": null,
      "grid_column": null,
      "grid_gap": null,
      "grid_row": null,
      "grid_template_areas": null,
      "grid_template_columns": null,
      "grid_template_rows": null,
      "height": null,
      "justify_content": null,
      "justify_items": null,
      "left": null,
      "margin": null,
      "max_height": null,
      "max_width": null,
      "min_height": null,
      "min_width": null,
      "object_fit": null,
      "object_position": null,
      "order": null,
      "overflow": null,
      "overflow_x": null,
      "overflow_y": null,
      "padding": null,
      "right": null,
      "top": null,
      "visibility": null,
      "width": null
     }
    },
    "2a8162defbfc4ec1918dcce26a2d52e1": {
     "model_module": "@jupyter-widgets/base",
     "model_module_version": "1.2.0",
     "model_name": "LayoutModel",
     "state": {
      "_model_module": "@jupyter-widgets/base",
      "_model_module_version": "1.2.0",
      "_model_name": "LayoutModel",
      "_view_count": null,
      "_view_module": "@jupyter-widgets/base",
      "_view_module_version": "1.2.0",
      "_view_name": "LayoutView",
      "align_content": null,
      "align_items": null,
      "align_self": null,
      "border": null,
      "bottom": null,
      "display": null,
      "flex": null,
      "flex_flow": null,
      "grid_area": null,
      "grid_auto_columns": null,
      "grid_auto_flow": null,
      "grid_auto_rows": null,
      "grid_column": null,
      "grid_gap": null,
      "grid_row": null,
      "grid_template_areas": null,
      "grid_template_columns": null,
      "grid_template_rows": null,
      "height": null,
      "justify_content": null,
      "justify_items": null,
      "left": null,
      "margin": null,
      "max_height": null,
      "max_width": null,
      "min_height": null,
      "min_width": null,
      "object_fit": null,
      "object_position": null,
      "order": null,
      "overflow": null,
      "overflow_x": null,
      "overflow_y": null,
      "padding": null,
      "right": null,
      "top": null,
      "visibility": null,
      "width": null
     }
    },
    "2b6fb3637e604d998a549de4ac981628": {
     "model_module": "@jupyter-widgets/base",
     "model_module_version": "1.2.0",
     "model_name": "LayoutModel",
     "state": {
      "_model_module": "@jupyter-widgets/base",
      "_model_module_version": "1.2.0",
      "_model_name": "LayoutModel",
      "_view_count": null,
      "_view_module": "@jupyter-widgets/base",
      "_view_module_version": "1.2.0",
      "_view_name": "LayoutView",
      "align_content": null,
      "align_items": null,
      "align_self": null,
      "border": null,
      "bottom": null,
      "display": null,
      "flex": null,
      "flex_flow": null,
      "grid_area": null,
      "grid_auto_columns": null,
      "grid_auto_flow": null,
      "grid_auto_rows": null,
      "grid_column": null,
      "grid_gap": null,
      "grid_row": null,
      "grid_template_areas": null,
      "grid_template_columns": null,
      "grid_template_rows": null,
      "height": null,
      "justify_content": null,
      "justify_items": null,
      "left": null,
      "margin": null,
      "max_height": null,
      "max_width": null,
      "min_height": null,
      "min_width": null,
      "object_fit": null,
      "object_position": null,
      "order": null,
      "overflow": null,
      "overflow_x": null,
      "overflow_y": null,
      "padding": null,
      "right": null,
      "top": null,
      "visibility": null,
      "width": null
     }
    },
    "2cd74ca6600445b2bf400e317c4e4511": {
     "model_module": "@jupyter-widgets/controls",
     "model_module_version": "1.5.0",
     "model_name": "ProgressStyleModel",
     "state": {
      "_model_module": "@jupyter-widgets/controls",
      "_model_module_version": "1.5.0",
      "_model_name": "ProgressStyleModel",
      "_view_count": null,
      "_view_module": "@jupyter-widgets/base",
      "_view_module_version": "1.2.0",
      "_view_name": "StyleView",
      "bar_color": null,
      "description_width": ""
     }
    },
    "2d0b818675d744d68104b4798b426c58": {
     "model_module": "@jupyter-widgets/controls",
     "model_module_version": "1.5.0",
     "model_name": "HBoxModel",
     "state": {
      "_dom_classes": [],
      "_model_module": "@jupyter-widgets/controls",
      "_model_module_version": "1.5.0",
      "_model_name": "HBoxModel",
      "_view_count": null,
      "_view_module": "@jupyter-widgets/controls",
      "_view_module_version": "1.5.0",
      "_view_name": "HBoxView",
      "box_style": "",
      "children": [
       "IPY_MODEL_d2843f20372b4584aa77dd1fbfd7feb4",
       "IPY_MODEL_9a66393ae05640dbb5f4cce0b5c0b56c",
       "IPY_MODEL_e1124eca48d045c99a95aee91f26bc6a"
      ],
      "layout": "IPY_MODEL_05f696f79d934cf38cd37b503761e0f6"
     }
    },
    "30a9f59ba15b40fd95c635ca7f61d16b": {
     "model_module": "@jupyter-widgets/controls",
     "model_module_version": "1.5.0",
     "model_name": "LabelModel",
     "state": {
      "_dom_classes": [],
      "_model_module": "@jupyter-widgets/controls",
      "_model_module_version": "1.5.0",
      "_model_name": "LabelModel",
      "_view_count": null,
      "_view_module": "@jupyter-widgets/controls",
      "_view_module_version": "1.5.0",
      "_view_name": "LabelView",
      "description": "",
      "description_tooltip": null,
      "layout": "IPY_MODEL_7502190765a94069997c8d2c5fca1373",
      "placeholder": "​",
      "style": "IPY_MODEL_6c9ee97d6ba34b0e8123484c4c14db13",
      "value": "Connecting..."
     }
    },
    "3152729a6fd24620906d4df5cb18e1e6": {
     "model_module": "@jupyter-widgets/base",
     "model_module_version": "1.2.0",
     "model_name": "LayoutModel",
     "state": {
      "_model_module": "@jupyter-widgets/base",
      "_model_module_version": "1.2.0",
      "_model_name": "LayoutModel",
      "_view_count": null,
      "_view_module": "@jupyter-widgets/base",
      "_view_module_version": "1.2.0",
      "_view_name": "LayoutView",
      "align_content": null,
      "align_items": null,
      "align_self": null,
      "border": null,
      "bottom": null,
      "display": null,
      "flex": null,
      "flex_flow": null,
      "grid_area": null,
      "grid_auto_columns": null,
      "grid_auto_flow": null,
      "grid_auto_rows": null,
      "grid_column": null,
      "grid_gap": null,
      "grid_row": null,
      "grid_template_areas": null,
      "grid_template_columns": null,
      "grid_template_rows": null,
      "height": null,
      "justify_content": null,
      "justify_items": null,
      "left": null,
      "margin": null,
      "max_height": null,
      "max_width": null,
      "min_height": null,
      "min_width": null,
      "object_fit": null,
      "object_position": null,
      "order": null,
      "overflow": null,
      "overflow_x": null,
      "overflow_y": null,
      "padding": null,
      "right": null,
      "top": null,
      "visibility": null,
      "width": null
     }
    },
    "320acf1cea1c47c399d85d4dace37039": {
     "model_module": "@jupyter-widgets/controls",
     "model_module_version": "1.5.0",
     "model_name": "HTMLModel",
     "state": {
      "_dom_classes": [],
      "_model_module": "@jupyter-widgets/controls",
      "_model_module_version": "1.5.0",
      "_model_name": "HTMLModel",
      "_view_count": null,
      "_view_module": "@jupyter-widgets/controls",
      "_view_module_version": "1.5.0",
      "_view_name": "HTMLView",
      "description": "",
      "description_tooltip": null,
      "layout": "IPY_MODEL_71218393ce864c3da61a4c2ee328b645",
      "placeholder": "​",
      "style": "IPY_MODEL_de9c5a61e70c4e2096d48805665f80a8",
      "value": " 456k/456k [00:00&lt;00:00, 14.5MB/s]"
     }
    },
    "3777606e6bbe48df84f61572bd665cc8": {
     "model_module": "@jupyter-widgets/controls",
     "model_module_version": "1.5.0",
     "model_name": "DescriptionStyleModel",
     "state": {
      "_model_module": "@jupyter-widgets/controls",
      "_model_module_version": "1.5.0",
      "_model_name": "DescriptionStyleModel",
      "_view_count": null,
      "_view_module": "@jupyter-widgets/base",
      "_view_module_version": "1.2.0",
      "_view_name": "StyleView",
      "description_width": ""
     }
    },
    "3c84fdb37019404ea3cba8c30e0ce9a5": {
     "model_module": "@jupyter-widgets/controls",
     "model_module_version": "1.5.0",
     "model_name": "CheckboxModel",
     "state": {
      "_dom_classes": [],
      "_model_module": "@jupyter-widgets/controls",
      "_model_module_version": "1.5.0",
      "_model_name": "CheckboxModel",
      "_view_count": null,
      "_view_module": "@jupyter-widgets/controls",
      "_view_module_version": "1.5.0",
      "_view_name": "CheckboxView",
      "description": "Add token as git credential?",
      "description_tooltip": null,
      "disabled": false,
      "indent": true,
      "layout": "IPY_MODEL_6c50c45f2e8e4bff84d1da20114199e1",
      "style": "IPY_MODEL_e426f249bcca49c8b328ed7b1d4337eb",
      "value": true
     }
    },
    "3cf237732684412794cbae58167ae622": {
     "model_module": "@jupyter-widgets/base",
     "model_module_version": "1.2.0",
     "model_name": "LayoutModel",
     "state": {
      "_model_module": "@jupyter-widgets/base",
      "_model_module_version": "1.2.0",
      "_model_name": "LayoutModel",
      "_view_count": null,
      "_view_module": "@jupyter-widgets/base",
      "_view_module_version": "1.2.0",
      "_view_name": "LayoutView",
      "align_content": null,
      "align_items": null,
      "align_self": null,
      "border": null,
      "bottom": null,
      "display": null,
      "flex": null,
      "flex_flow": null,
      "grid_area": null,
      "grid_auto_columns": null,
      "grid_auto_flow": null,
      "grid_auto_rows": null,
      "grid_column": null,
      "grid_gap": null,
      "grid_row": null,
      "grid_template_areas": null,
      "grid_template_columns": null,
      "grid_template_rows": null,
      "height": null,
      "justify_content": null,
      "justify_items": null,
      "left": null,
      "margin": null,
      "max_height": null,
      "max_width": null,
      "min_height": null,
      "min_width": null,
      "object_fit": null,
      "object_position": null,
      "order": null,
      "overflow": null,
      "overflow_x": null,
      "overflow_y": null,
      "padding": null,
      "right": null,
      "top": null,
      "visibility": null,
      "width": null
     }
    },
    "413388f37d2b4becbf09ced0ceac0137": {
     "model_module": "@jupyter-widgets/base",
     "model_module_version": "1.2.0",
     "model_name": "LayoutModel",
     "state": {
      "_model_module": "@jupyter-widgets/base",
      "_model_module_version": "1.2.0",
      "_model_name": "LayoutModel",
      "_view_count": null,
      "_view_module": "@jupyter-widgets/base",
      "_view_module_version": "1.2.0",
      "_view_name": "LayoutView",
      "align_content": null,
      "align_items": null,
      "align_self": null,
      "border": null,
      "bottom": null,
      "display": null,
      "flex": null,
      "flex_flow": null,
      "grid_area": null,
      "grid_auto_columns": null,
      "grid_auto_flow": null,
      "grid_auto_rows": null,
      "grid_column": null,
      "grid_gap": null,
      "grid_row": null,
      "grid_template_areas": null,
      "grid_template_columns": null,
      "grid_template_rows": null,
      "height": null,
      "justify_content": null,
      "justify_items": null,
      "left": null,
      "margin": null,
      "max_height": null,
      "max_width": null,
      "min_height": null,
      "min_width": null,
      "object_fit": null,
      "object_position": null,
      "order": null,
      "overflow": null,
      "overflow_x": null,
      "overflow_y": null,
      "padding": null,
      "right": null,
      "top": null,
      "visibility": null,
      "width": null
     }
    },
    "41c2b9f8f79246d5b9e6e1a2528cb9e4": {
     "model_module": "@jupyter-widgets/controls",
     "model_module_version": "1.5.0",
     "model_name": "DescriptionStyleModel",
     "state": {
      "_model_module": "@jupyter-widgets/controls",
      "_model_module_version": "1.5.0",
      "_model_name": "DescriptionStyleModel",
      "_view_count": null,
      "_view_module": "@jupyter-widgets/base",
      "_view_module_version": "1.2.0",
      "_view_name": "StyleView",
      "description_width": ""
     }
    },
    "42e9a90c41b04e0081125229e57620f3": {
     "model_module": "@jupyter-widgets/base",
     "model_module_version": "1.2.0",
     "model_name": "LayoutModel",
     "state": {
      "_model_module": "@jupyter-widgets/base",
      "_model_module_version": "1.2.0",
      "_model_name": "LayoutModel",
      "_view_count": null,
      "_view_module": "@jupyter-widgets/base",
      "_view_module_version": "1.2.0",
      "_view_name": "LayoutView",
      "align_content": null,
      "align_items": null,
      "align_self": null,
      "border": null,
      "bottom": null,
      "display": null,
      "flex": null,
      "flex_flow": null,
      "grid_area": null,
      "grid_auto_columns": null,
      "grid_auto_flow": null,
      "grid_auto_rows": null,
      "grid_column": null,
      "grid_gap": null,
      "grid_row": null,
      "grid_template_areas": null,
      "grid_template_columns": null,
      "grid_template_rows": null,
      "height": null,
      "justify_content": null,
      "justify_items": null,
      "left": null,
      "margin": null,
      "max_height": null,
      "max_width": null,
      "min_height": null,
      "min_width": null,
      "object_fit": null,
      "object_position": null,
      "order": null,
      "overflow": null,
      "overflow_x": null,
      "overflow_y": null,
      "padding": null,
      "right": null,
      "top": null,
      "visibility": null,
      "width": null
     }
    },
    "438dfa9579e646d5b6f7145d6469d0f4": {
     "model_module": "@jupyter-widgets/controls",
     "model_module_version": "1.5.0",
     "model_name": "HTMLModel",
     "state": {
      "_dom_classes": [],
      "_model_module": "@jupyter-widgets/controls",
      "_model_module_version": "1.5.0",
      "_model_name": "HTMLModel",
      "_view_count": null,
      "_view_module": "@jupyter-widgets/controls",
      "_view_module_version": "1.5.0",
      "_view_name": "HTMLView",
      "description": "",
      "description_tooltip": null,
      "layout": "IPY_MODEL_4eb550f17db947c190da18e4d4d8d4f0",
      "placeholder": "​",
      "style": "IPY_MODEL_d7bf28b9429b4e98803cf4fa9594f60d",
      "value": "generation_config.json: 100%"
     }
    },
    "441ad83bd05f44168336ada7061dca31": {
     "model_module": "@jupyter-widgets/base",
     "model_module_version": "1.2.0",
     "model_name": "LayoutModel",
     "state": {
      "_model_module": "@jupyter-widgets/base",
      "_model_module_version": "1.2.0",
      "_model_name": "LayoutModel",
      "_view_count": null,
      "_view_module": "@jupyter-widgets/base",
      "_view_module_version": "1.2.0",
      "_view_name": "LayoutView",
      "align_content": null,
      "align_items": null,
      "align_self": null,
      "border": null,
      "bottom": null,
      "display": null,
      "flex": null,
      "flex_flow": null,
      "grid_area": null,
      "grid_auto_columns": null,
      "grid_auto_flow": null,
      "grid_auto_rows": null,
      "grid_column": null,
      "grid_gap": null,
      "grid_row": null,
      "grid_template_areas": null,
      "grid_template_columns": null,
      "grid_template_rows": null,
      "height": null,
      "justify_content": null,
      "justify_items": null,
      "left": null,
      "margin": null,
      "max_height": null,
      "max_width": null,
      "min_height": null,
      "min_width": null,
      "object_fit": null,
      "object_position": null,
      "order": null,
      "overflow": null,
      "overflow_x": null,
      "overflow_y": null,
      "padding": null,
      "right": null,
      "top": null,
      "visibility": null,
      "width": null
     }
    },
    "44ac0a0a2ec44147ab62fa514e27a96f": {
     "model_module": "@jupyter-widgets/controls",
     "model_module_version": "1.5.0",
     "model_name": "ProgressStyleModel",
     "state": {
      "_model_module": "@jupyter-widgets/controls",
      "_model_module_version": "1.5.0",
      "_model_name": "ProgressStyleModel",
      "_view_count": null,
      "_view_module": "@jupyter-widgets/base",
      "_view_module_version": "1.2.0",
      "_view_name": "StyleView",
      "bar_color": null,
      "description_width": ""
     }
    },
    "46eb37ccbad5477484e8e01cbaf081ff": {
     "model_module": "@jupyter-widgets/controls",
     "model_module_version": "1.5.0",
     "model_name": "HTMLModel",
     "state": {
      "_dom_classes": [],
      "_model_module": "@jupyter-widgets/controls",
      "_model_module_version": "1.5.0",
      "_model_name": "HTMLModel",
      "_view_count": null,
      "_view_module": "@jupyter-widgets/controls",
      "_view_module_version": "1.5.0",
      "_view_name": "HTMLView",
      "description": "",
      "description_tooltip": null,
      "layout": "IPY_MODEL_dc2e952040ec46c1a435e933418d31b9",
      "placeholder": "​",
      "style": "IPY_MODEL_065f5009345147f0aa2069c152e5adba",
      "value": " 1.74k/1.74k [00:00&lt;00:00, 54.7kB/s]"
     }
    },
    "49f5259969db4be28b4f419bc1eee318": {
     "model_module": "@jupyter-widgets/controls",
     "model_module_version": "1.5.0",
     "model_name": "ProgressStyleModel",
     "state": {
      "_model_module": "@jupyter-widgets/controls",
      "_model_module_version": "1.5.0",
      "_model_name": "ProgressStyleModel",
      "_view_count": null,
      "_view_module": "@jupyter-widgets/base",
      "_view_module_version": "1.2.0",
      "_view_name": "StyleView",
      "bar_color": null,
      "description_width": ""
     }
    },
    "4c806e62599c433790b1284d0bf14bd6": {
     "model_module": "@jupyter-widgets/controls",
     "model_module_version": "1.5.0",
     "model_name": "DescriptionStyleModel",
     "state": {
      "_model_module": "@jupyter-widgets/controls",
      "_model_module_version": "1.5.0",
      "_model_name": "DescriptionStyleModel",
      "_view_count": null,
      "_view_module": "@jupyter-widgets/base",
      "_view_module_version": "1.2.0",
      "_view_name": "StyleView",
      "description_width": ""
     }
    },
    "4d186e1dfe4f4f008bc53ca0a59a8d92": {
     "model_module": "@jupyter-widgets/controls",
     "model_module_version": "1.5.0",
     "model_name": "HTMLModel",
     "state": {
      "_dom_classes": [],
      "_model_module": "@jupyter-widgets/controls",
      "_model_module_version": "1.5.0",
      "_model_name": "HTMLModel",
      "_view_count": null,
      "_view_module": "@jupyter-widgets/controls",
      "_view_module_version": "1.5.0",
      "_view_name": "HTMLView",
      "description": "",
      "description_tooltip": null,
      "layout": "IPY_MODEL_c3ba6337ade14a97ac0f0b3ec7b59d8e",
      "placeholder": "​",
      "style": "IPY_MODEL_b03cd8adf59c48b193c0aee4300fafdf",
      "value": "Map: 100%"
     }
    },
    "4e22fbbfb74b4cd0858997e65179da90": {
     "model_module": "@jupyter-widgets/base",
     "model_module_version": "1.2.0",
     "model_name": "LayoutModel",
     "state": {
      "_model_module": "@jupyter-widgets/base",
      "_model_module_version": "1.2.0",
      "_model_name": "LayoutModel",
      "_view_count": null,
      "_view_module": "@jupyter-widgets/base",
      "_view_module_version": "1.2.0",
      "_view_name": "LayoutView",
      "align_content": null,
      "align_items": null,
      "align_self": null,
      "border": null,
      "bottom": null,
      "display": null,
      "flex": null,
      "flex_flow": null,
      "grid_area": null,
      "grid_auto_columns": null,
      "grid_auto_flow": null,
      "grid_auto_rows": null,
      "grid_column": null,
      "grid_gap": null,
      "grid_row": null,
      "grid_template_areas": null,
      "grid_template_columns": null,
      "grid_template_rows": null,
      "height": null,
      "justify_content": null,
      "justify_items": null,
      "left": null,
      "margin": null,
      "max_height": null,
      "max_width": null,
      "min_height": null,
      "min_width": null,
      "object_fit": null,
      "object_position": null,
      "order": null,
      "overflow": null,
      "overflow_x": null,
      "overflow_y": null,
      "padding": null,
      "right": null,
      "top": null,
      "visibility": null,
      "width": null
     }
    },
    "4e593b3747954e7891a89569bd026c0d": {
     "model_module": "@jupyter-widgets/controls",
     "model_module_version": "1.5.0",
     "model_name": "HTMLModel",
     "state": {
      "_dom_classes": [],
      "_model_module": "@jupyter-widgets/controls",
      "_model_module_version": "1.5.0",
      "_model_name": "HTMLModel",
      "_view_count": null,
      "_view_module": "@jupyter-widgets/controls",
      "_view_module_version": "1.5.0",
      "_view_name": "HTMLView",
      "description": "",
      "description_tooltip": null,
      "layout": "IPY_MODEL_b62604c379784e5fad5768a6b2eadf95",
      "placeholder": "​",
      "style": "IPY_MODEL_97b7a0371e1b4d65b4e35e7066cb58de",
      "value": "Map: 100%"
     }
    },
    "4eb550f17db947c190da18e4d4d8d4f0": {
     "model_module": "@jupyter-widgets/base",
     "model_module_version": "1.2.0",
     "model_name": "LayoutModel",
     "state": {
      "_model_module": "@jupyter-widgets/base",
      "_model_module_version": "1.2.0",
      "_model_name": "LayoutModel",
      "_view_count": null,
      "_view_module": "@jupyter-widgets/base",
      "_view_module_version": "1.2.0",
      "_view_name": "LayoutView",
      "align_content": null,
      "align_items": null,
      "align_self": null,
      "border": null,
      "bottom": null,
      "display": null,
      "flex": null,
      "flex_flow": null,
      "grid_area": null,
      "grid_auto_columns": null,
      "grid_auto_flow": null,
      "grid_auto_rows": null,
      "grid_column": null,
      "grid_gap": null,
      "grid_row": null,
      "grid_template_areas": null,
      "grid_template_columns": null,
      "grid_template_rows": null,
      "height": null,
      "justify_content": null,
      "justify_items": null,
      "left": null,
      "margin": null,
      "max_height": null,
      "max_width": null,
      "min_height": null,
      "min_width": null,
      "object_fit": null,
      "object_position": null,
      "order": null,
      "overflow": null,
      "overflow_x": null,
      "overflow_y": null,
      "padding": null,
      "right": null,
      "top": null,
      "visibility": null,
      "width": null
     }
    },
    "4fcfcd03b32149ad9c56718ff27fa379": {
     "model_module": "@jupyter-widgets/controls",
     "model_module_version": "1.5.0",
     "model_name": "DescriptionStyleModel",
     "state": {
      "_model_module": "@jupyter-widgets/controls",
      "_model_module_version": "1.5.0",
      "_model_name": "DescriptionStyleModel",
      "_view_count": null,
      "_view_module": "@jupyter-widgets/base",
      "_view_module_version": "1.2.0",
      "_view_name": "StyleView",
      "description_width": ""
     }
    },
    "512d2972196b4d61807b4103c7725edf": {
     "model_module": "@jupyter-widgets/base",
     "model_module_version": "1.2.0",
     "model_name": "LayoutModel",
     "state": {
      "_model_module": "@jupyter-widgets/base",
      "_model_module_version": "1.2.0",
      "_model_name": "LayoutModel",
      "_view_count": null,
      "_view_module": "@jupyter-widgets/base",
      "_view_module_version": "1.2.0",
      "_view_name": "LayoutView",
      "align_content": null,
      "align_items": null,
      "align_self": null,
      "border": null,
      "bottom": null,
      "display": null,
      "flex": null,
      "flex_flow": null,
      "grid_area": null,
      "grid_auto_columns": null,
      "grid_auto_flow": null,
      "grid_auto_rows": null,
      "grid_column": null,
      "grid_gap": null,
      "grid_row": null,
      "grid_template_areas": null,
      "grid_template_columns": null,
      "grid_template_rows": null,
      "height": null,
      "justify_content": null,
      "justify_items": null,
      "left": null,
      "margin": null,
      "max_height": null,
      "max_width": null,
      "min_height": null,
      "min_width": null,
      "object_fit": null,
      "object_position": null,
      "order": null,
      "overflow": null,
      "overflow_x": null,
      "overflow_y": null,
      "padding": null,
      "right": null,
      "top": null,
      "visibility": null,
      "width": null
     }
    },
    "533dc0a9d9a44d8cb3d8f701095e5904": {
     "model_module": "@jupyter-widgets/controls",
     "model_module_version": "1.5.0",
     "model_name": "HTMLModel",
     "state": {
      "_dom_classes": [],
      "_model_module": "@jupyter-widgets/controls",
      "_model_module_version": "1.5.0",
      "_model_name": "HTMLModel",
      "_view_count": null,
      "_view_module": "@jupyter-widgets/controls",
      "_view_module_version": "1.5.0",
      "_view_name": "HTMLView",
      "description": "",
      "description_tooltip": null,
      "layout": "IPY_MODEL_fdc78ce08457480ba78d571a501ce119",
      "placeholder": "​",
      "style": "IPY_MODEL_df6ff03c18ed4615874101bb7cd10f23",
      "value": "merges.txt: 100%"
     }
    },
    "5ce52286d0f843b9a271d7bf5927ecbf": {
     "model_module": "@jupyter-widgets/controls",
     "model_module_version": "1.5.0",
     "model_name": "PasswordModel",
     "state": {
      "_dom_classes": [],
      "_model_module": "@jupyter-widgets/controls",
      "_model_module_version": "1.5.0",
      "_model_name": "PasswordModel",
      "_view_count": null,
      "_view_module": "@jupyter-widgets/controls",
      "_view_module_version": "1.5.0",
      "_view_name": "PasswordView",
      "continuous_update": true,
      "description": "Token:",
      "description_tooltip": null,
      "disabled": false,
      "layout": "IPY_MODEL_6000c1cf05a74735a151cbe2c85856cc",
      "placeholder": "​",
      "style": "IPY_MODEL_3777606e6bbe48df84f61572bd665cc8",
      "value": ""
     }
    },
    "5dcedf23a9cf473382c5e2947faabe8c": {
     "model_module": "@jupyter-widgets/controls",
     "model_module_version": "1.5.0",
     "model_name": "HBoxModel",
     "state": {
      "_dom_classes": [],
      "_model_module": "@jupyter-widgets/controls",
      "_model_module_version": "1.5.0",
      "_model_name": "HBoxModel",
      "_view_count": null,
      "_view_module": "@jupyter-widgets/controls",
      "_view_module_version": "1.5.0",
      "_view_name": "HBoxView",
      "box_style": "",
      "children": [
       "IPY_MODEL_b2d3b366c2a7412e8f2ecb21e1df496e",
       "IPY_MODEL_1f83fdb9febe4931a9ab7c18504447f6",
       "IPY_MODEL_ea86967a482e49048bc3c857d4e2261e"
      ],
      "layout": "IPY_MODEL_0727d02e50ee420b9559ad66846366ab"
     }
    },
    "5f174b770b5049a99a5aa397f7a29744": {
     "model_module": "@jupyter-widgets/base",
     "model_module_version": "1.2.0",
     "model_name": "LayoutModel",
     "state": {
      "_model_module": "@jupyter-widgets/base",
      "_model_module_version": "1.2.0",
      "_model_name": "LayoutModel",
      "_view_count": null,
      "_view_module": "@jupyter-widgets/base",
      "_view_module_version": "1.2.0",
      "_view_name": "LayoutView",
      "align_content": null,
      "align_items": null,
      "align_self": null,
      "border": null,
      "bottom": null,
      "display": null,
      "flex": null,
      "flex_flow": null,
      "grid_area": null,
      "grid_auto_columns": null,
      "grid_auto_flow": null,
      "grid_auto_rows": null,
      "grid_column": null,
      "grid_gap": null,
      "grid_row": null,
      "grid_template_areas": null,
      "grid_template_columns": null,
      "grid_template_rows": null,
      "height": null,
      "justify_content": null,
      "justify_items": null,
      "left": null,
      "margin": null,
      "max_height": null,
      "max_width": null,
      "min_height": null,
      "min_width": null,
      "object_fit": null,
      "object_position": null,
      "order": null,
      "overflow": null,
      "overflow_x": null,
      "overflow_y": null,
      "padding": null,
      "right": null,
      "top": null,
      "visibility": null,
      "width": null
     }
    },
    "6000c1cf05a74735a151cbe2c85856cc": {
     "model_module": "@jupyter-widgets/base",
     "model_module_version": "1.2.0",
     "model_name": "LayoutModel",
     "state": {
      "_model_module": "@jupyter-widgets/base",
      "_model_module_version": "1.2.0",
      "_model_name": "LayoutModel",
      "_view_count": null,
      "_view_module": "@jupyter-widgets/base",
      "_view_module_version": "1.2.0",
      "_view_name": "LayoutView",
      "align_content": null,
      "align_items": null,
      "align_self": null,
      "border": null,
      "bottom": null,
      "display": null,
      "flex": null,
      "flex_flow": null,
      "grid_area": null,
      "grid_auto_columns": null,
      "grid_auto_flow": null,
      "grid_auto_rows": null,
      "grid_column": null,
      "grid_gap": null,
      "grid_row": null,
      "grid_template_areas": null,
      "grid_template_columns": null,
      "grid_template_rows": null,
      "height": null,
      "justify_content": null,
      "justify_items": null,
      "left": null,
      "margin": null,
      "max_height": null,
      "max_width": null,
      "min_height": null,
      "min_width": null,
      "object_fit": null,
      "object_position": null,
      "order": null,
      "overflow": null,
      "overflow_x": null,
      "overflow_y": null,
      "padding": null,
      "right": null,
      "top": null,
      "visibility": null,
      "width": null
     }
    },
    "61d4f997d7374aa1a924c4036adc2fa5": {
     "model_module": "@jupyter-widgets/controls",
     "model_module_version": "1.5.0",
     "model_name": "HTMLModel",
     "state": {
      "_dom_classes": [],
      "_model_module": "@jupyter-widgets/controls",
      "_model_module_version": "1.5.0",
      "_model_name": "HTMLModel",
      "_view_count": null,
      "_view_module": "@jupyter-widgets/controls",
      "_view_module_version": "1.5.0",
      "_view_name": "HTMLView",
      "description": "",
      "description_tooltip": null,
      "layout": "IPY_MODEL_eed78b71423d4571a8fd0582b2950d0b",
      "placeholder": "​",
      "style": "IPY_MODEL_acbc23f141e14d4496822228e13a21a3",
      "value": " 20/20 [00:00&lt;00:00, 85.60 examples/s]"
     }
    },
    "624e6a473c0845a39ad7e6bccb14d289": {
     "model_module": "@jupyter-widgets/controls",
     "model_module_version": "1.5.0",
     "model_name": "HTMLModel",
     "state": {
      "_dom_classes": [],
      "_model_module": "@jupyter-widgets/controls",
      "_model_module_version": "1.5.0",
      "_model_name": "HTMLModel",
      "_view_count": null,
      "_view_module": "@jupyter-widgets/controls",
      "_view_module_version": "1.5.0",
      "_view_name": "HTMLView",
      "description": "",
      "description_tooltip": null,
      "layout": "IPY_MODEL_0b765e602ae743ce8836837c3109772e",
      "placeholder": "​",
      "style": "IPY_MODEL_cdd3103fc3304652a7b7c91ec48d9094",
      "value": "model.safetensors: 100%"
     }
    },
    "63f72044af4a46028519f56d3f4c3293": {
     "model_module": "@jupyter-widgets/controls",
     "model_module_version": "1.5.0",
     "model_name": "DescriptionStyleModel",
     "state": {
      "_model_module": "@jupyter-widgets/controls",
      "_model_module_version": "1.5.0",
      "_model_name": "DescriptionStyleModel",
      "_view_count": null,
      "_view_module": "@jupyter-widgets/base",
      "_view_module_version": "1.2.0",
      "_view_name": "StyleView",
      "description_width": ""
     }
    },
    "64b01b8e1a694347b8afb72a4ff5768c": {
     "model_module": "@jupyter-widgets/controls",
     "model_module_version": "1.5.0",
     "model_name": "DescriptionStyleModel",
     "state": {
      "_model_module": "@jupyter-widgets/controls",
      "_model_module_version": "1.5.0",
      "_model_name": "DescriptionStyleModel",
      "_view_count": null,
      "_view_module": "@jupyter-widgets/base",
      "_view_module_version": "1.2.0",
      "_view_name": "StyleView",
      "description_width": ""
     }
    },
    "65a1de8ef7e64a1bbacfd2c50fcfba3a": {
     "model_module": "@jupyter-widgets/controls",
     "model_module_version": "1.5.0",
     "model_name": "ProgressStyleModel",
     "state": {
      "_model_module": "@jupyter-widgets/controls",
      "_model_module_version": "1.5.0",
      "_model_name": "ProgressStyleModel",
      "_view_count": null,
      "_view_module": "@jupyter-widgets/base",
      "_view_module_version": "1.2.0",
      "_view_name": "StyleView",
      "bar_color": null,
      "description_width": ""
     }
    },
    "663a6e5985874f7a928317a359e50d7d": {
     "model_module": "@jupyter-widgets/base",
     "model_module_version": "1.2.0",
     "model_name": "LayoutModel",
     "state": {
      "_model_module": "@jupyter-widgets/base",
      "_model_module_version": "1.2.0",
      "_model_name": "LayoutModel",
      "_view_count": null,
      "_view_module": "@jupyter-widgets/base",
      "_view_module_version": "1.2.0",
      "_view_name": "LayoutView",
      "align_content": null,
      "align_items": null,
      "align_self": null,
      "border": null,
      "bottom": null,
      "display": null,
      "flex": null,
      "flex_flow": null,
      "grid_area": null,
      "grid_auto_columns": null,
      "grid_auto_flow": null,
      "grid_auto_rows": null,
      "grid_column": null,
      "grid_gap": null,
      "grid_row": null,
      "grid_template_areas": null,
      "grid_template_columns": null,
      "grid_template_rows": null,
      "height": null,
      "justify_content": null,
      "justify_items": null,
      "left": null,
      "margin": null,
      "max_height": null,
      "max_width": null,
      "min_height": null,
      "min_width": null,
      "object_fit": null,
      "object_position": null,
      "order": null,
      "overflow": null,
      "overflow_x": null,
      "overflow_y": null,
      "padding": null,
      "right": null,
      "top": null,
      "visibility": null,
      "width": null
     }
    },
    "6743efaa1822476c9e7f8ebf5b3bff3e": {
     "model_module": "@jupyter-widgets/controls",
     "model_module_version": "1.5.0",
     "model_name": "DescriptionStyleModel",
     "state": {
      "_model_module": "@jupyter-widgets/controls",
      "_model_module_version": "1.5.0",
      "_model_name": "DescriptionStyleModel",
      "_view_count": null,
      "_view_module": "@jupyter-widgets/base",
      "_view_module_version": "1.2.0",
      "_view_name": "StyleView",
      "description_width": ""
     }
    },
    "6c50c45f2e8e4bff84d1da20114199e1": {
     "model_module": "@jupyter-widgets/base",
     "model_module_version": "1.2.0",
     "model_name": "LayoutModel",
     "state": {
      "_model_module": "@jupyter-widgets/base",
      "_model_module_version": "1.2.0",
      "_model_name": "LayoutModel",
      "_view_count": null,
      "_view_module": "@jupyter-widgets/base",
      "_view_module_version": "1.2.0",
      "_view_name": "LayoutView",
      "align_content": null,
      "align_items": null,
      "align_self": null,
      "border": null,
      "bottom": null,
      "display": null,
      "flex": null,
      "flex_flow": null,
      "grid_area": null,
      "grid_auto_columns": null,
      "grid_auto_flow": null,
      "grid_auto_rows": null,
      "grid_column": null,
      "grid_gap": null,
      "grid_row": null,
      "grid_template_areas": null,
      "grid_template_columns": null,
      "grid_template_rows": null,
      "height": null,
      "justify_content": null,
      "justify_items": null,
      "left": null,
      "margin": null,
      "max_height": null,
      "max_width": null,
      "min_height": null,
      "min_width": null,
      "object_fit": null,
      "object_position": null,
      "order": null,
      "overflow": null,
      "overflow_x": null,
      "overflow_y": null,
      "padding": null,
      "right": null,
      "top": null,
      "visibility": null,
      "width": null
     }
    },
    "6c9ee97d6ba34b0e8123484c4c14db13": {
     "model_module": "@jupyter-widgets/controls",
     "model_module_version": "1.5.0",
     "model_name": "DescriptionStyleModel",
     "state": {
      "_model_module": "@jupyter-widgets/controls",
      "_model_module_version": "1.5.0",
      "_model_name": "DescriptionStyleModel",
      "_view_count": null,
      "_view_module": "@jupyter-widgets/base",
      "_view_module_version": "1.2.0",
      "_view_name": "StyleView",
      "description_width": ""
     }
    },
    "6cafab720af042c1b8ccd4e798701ef6": {
     "model_module": "@jupyter-widgets/base",
     "model_module_version": "1.2.0",
     "model_name": "LayoutModel",
     "state": {
      "_model_module": "@jupyter-widgets/base",
      "_model_module_version": "1.2.0",
      "_model_name": "LayoutModel",
      "_view_count": null,
      "_view_module": "@jupyter-widgets/base",
      "_view_module_version": "1.2.0",
      "_view_name": "LayoutView",
      "align_content": null,
      "align_items": null,
      "align_self": null,
      "border": null,
      "bottom": null,
      "display": null,
      "flex": null,
      "flex_flow": null,
      "grid_area": null,
      "grid_auto_columns": null,
      "grid_auto_flow": null,
      "grid_auto_rows": null,
      "grid_column": null,
      "grid_gap": null,
      "grid_row": null,
      "grid_template_areas": null,
      "grid_template_columns": null,
      "grid_template_rows": null,
      "height": null,
      "justify_content": null,
      "justify_items": null,
      "left": null,
      "margin": null,
      "max_height": null,
      "max_width": null,
      "min_height": null,
      "min_width": null,
      "object_fit": null,
      "object_position": null,
      "order": null,
      "overflow": null,
      "overflow_x": null,
      "overflow_y": null,
      "padding": null,
      "right": null,
      "top": null,
      "visibility": null,
      "width": null
     }
    },
    "6d80981ef9b34735ac63b96433d2cd6a": {
     "model_module": "@jupyter-widgets/controls",
     "model_module_version": "1.5.0",
     "model_name": "HBoxModel",
     "state": {
      "_dom_classes": [],
      "_model_module": "@jupyter-widgets/controls",
      "_model_module_version": "1.5.0",
      "_model_name": "HBoxModel",
      "_view_count": null,
      "_view_module": "@jupyter-widgets/controls",
      "_view_module_version": "1.5.0",
      "_view_name": "HBoxView",
      "box_style": "",
      "children": [
       "IPY_MODEL_196cf9fd24504649b2942b62e13baef9",
       "IPY_MODEL_96988f713bb649198746a8129903aa18",
       "IPY_MODEL_46eb37ccbad5477484e8e01cbaf081ff"
      ],
      "layout": "IPY_MODEL_fc96bac337694bb18f6a8739b316ba12"
     }
    },
    "71218393ce864c3da61a4c2ee328b645": {
     "model_module": "@jupyter-widgets/base",
     "model_module_version": "1.2.0",
     "model_name": "LayoutModel",
     "state": {
      "_model_module": "@jupyter-widgets/base",
      "_model_module_version": "1.2.0",
      "_model_name": "LayoutModel",
      "_view_count": null,
      "_view_module": "@jupyter-widgets/base",
      "_view_module_version": "1.2.0",
      "_view_name": "LayoutView",
      "align_content": null,
      "align_items": null,
      "align_self": null,
      "border": null,
      "bottom": null,
      "display": null,
      "flex": null,
      "flex_flow": null,
      "grid_area": null,
      "grid_auto_columns": null,
      "grid_auto_flow": null,
      "grid_auto_rows": null,
      "grid_column": null,
      "grid_gap": null,
      "grid_row": null,
      "grid_template_areas": null,
      "grid_template_columns": null,
      "grid_template_rows": null,
      "height": null,
      "justify_content": null,
      "justify_items": null,
      "left": null,
      "margin": null,
      "max_height": null,
      "max_width": null,
      "min_height": null,
      "min_width": null,
      "object_fit": null,
      "object_position": null,
      "order": null,
      "overflow": null,
      "overflow_x": null,
      "overflow_y": null,
      "padding": null,
      "right": null,
      "top": null,
      "visibility": null,
      "width": null
     }
    },
    "7158632c178d4a4bbc663f73a45b166f": {
     "model_module": "@jupyter-widgets/controls",
     "model_module_version": "1.5.0",
     "model_name": "DescriptionStyleModel",
     "state": {
      "_model_module": "@jupyter-widgets/controls",
      "_model_module_version": "1.5.0",
      "_model_name": "DescriptionStyleModel",
      "_view_count": null,
      "_view_module": "@jupyter-widgets/base",
      "_view_module_version": "1.2.0",
      "_view_name": "StyleView",
      "description_width": ""
     }
    },
    "74706860ed154c168281c1cc27d2f2ff": {
     "model_module": "@jupyter-widgets/controls",
     "model_module_version": "1.5.0",
     "model_name": "HTMLModel",
     "state": {
      "_dom_classes": [],
      "_model_module": "@jupyter-widgets/controls",
      "_model_module_version": "1.5.0",
      "_model_name": "HTMLModel",
      "_view_count": null,
      "_view_module": "@jupyter-widgets/controls",
      "_view_module_version": "1.5.0",
      "_view_name": "HTMLView",
      "description": "",
      "description_tooltip": null,
      "layout": "IPY_MODEL_6cafab720af042c1b8ccd4e798701ef6",
      "placeholder": "​",
      "style": "IPY_MODEL_250c551636954346a88284444718f557",
      "value": " 957/957 [00:00&lt;00:00, 19.2kB/s]"
     }
    },
    "7502190765a94069997c8d2c5fca1373": {
     "model_module": "@jupyter-widgets/base",
     "model_module_version": "1.2.0",
     "model_name": "LayoutModel",
     "state": {
      "_model_module": "@jupyter-widgets/base",
      "_model_module_version": "1.2.0",
      "_model_name": "LayoutModel",
      "_view_count": null,
      "_view_module": "@jupyter-widgets/base",
      "_view_module_version": "1.2.0",
      "_view_name": "LayoutView",
      "align_content": null,
      "align_items": null,
      "align_self": null,
      "border": null,
      "bottom": null,
      "display": null,
      "flex": null,
      "flex_flow": null,
      "grid_area": null,
      "grid_auto_columns": null,
      "grid_auto_flow": null,
      "grid_auto_rows": null,
      "grid_column": null,
      "grid_gap": null,
      "grid_row": null,
      "grid_template_areas": null,
      "grid_template_columns": null,
      "grid_template_rows": null,
      "height": null,
      "justify_content": null,
      "justify_items": null,
      "left": null,
      "margin": null,
      "max_height": null,
      "max_width": null,
      "min_height": null,
      "min_width": null,
      "object_fit": null,
      "object_position": null,
      "order": null,
      "overflow": null,
      "overflow_x": null,
      "overflow_y": null,
      "padding": null,
      "right": null,
      "top": null,
      "visibility": null,
      "width": null
     }
    },
    "75c5f077d2b946a185ccb6f26cae8f95": {
     "model_module": "@jupyter-widgets/controls",
     "model_module_version": "1.5.0",
     "model_name": "ProgressStyleModel",
     "state": {
      "_model_module": "@jupyter-widgets/controls",
      "_model_module_version": "1.5.0",
      "_model_name": "ProgressStyleModel",
      "_view_count": null,
      "_view_module": "@jupyter-widgets/base",
      "_view_module_version": "1.2.0",
      "_view_name": "StyleView",
      "bar_color": null,
      "description_width": ""
     }
    },
    "78bffbdd0f8643f8a2c6ae1a8d875d18": {
     "model_module": "@jupyter-widgets/base",
     "model_module_version": "1.2.0",
     "model_name": "LayoutModel",
     "state": {
      "_model_module": "@jupyter-widgets/base",
      "_model_module_version": "1.2.0",
      "_model_name": "LayoutModel",
      "_view_count": null,
      "_view_module": "@jupyter-widgets/base",
      "_view_module_version": "1.2.0",
      "_view_name": "LayoutView",
      "align_content": null,
      "align_items": null,
      "align_self": null,
      "border": null,
      "bottom": null,
      "display": null,
      "flex": null,
      "flex_flow": null,
      "grid_area": null,
      "grid_auto_columns": null,
      "grid_auto_flow": null,
      "grid_auto_rows": null,
      "grid_column": null,
      "grid_gap": null,
      "grid_row": null,
      "grid_template_areas": null,
      "grid_template_columns": null,
      "grid_template_rows": null,
      "height": null,
      "justify_content": null,
      "justify_items": null,
      "left": null,
      "margin": null,
      "max_height": null,
      "max_width": null,
      "min_height": null,
      "min_width": null,
      "object_fit": null,
      "object_position": null,
      "order": null,
      "overflow": null,
      "overflow_x": null,
      "overflow_y": null,
      "padding": null,
      "right": null,
      "top": null,
      "visibility": null,
      "width": null
     }
    },
    "79e35126155544ca8f778d876cbc7e46": {
     "model_module": "@jupyter-widgets/controls",
     "model_module_version": "1.5.0",
     "model_name": "HBoxModel",
     "state": {
      "_dom_classes": [],
      "_model_module": "@jupyter-widgets/controls",
      "_model_module_version": "1.5.0",
      "_model_name": "HBoxModel",
      "_view_count": null,
      "_view_module": "@jupyter-widgets/controls",
      "_view_module_version": "1.5.0",
      "_view_name": "HBoxView",
      "box_style": "",
      "children": [
       "IPY_MODEL_4e593b3747954e7891a89569bd026c0d",
       "IPY_MODEL_fe7463dfcf134972af216cb2550293d7",
       "IPY_MODEL_dba923c99979487a9e8e27649eab4382"
      ],
      "layout": "IPY_MODEL_829e328248b94511acf27c0c5a6ebfba"
     }
    },
    "7a13d4f1fa264f4f94e9ff81fc201721": {
     "model_module": "@jupyter-widgets/controls",
     "model_module_version": "1.5.0",
     "model_name": "FloatProgressModel",
     "state": {
      "_dom_classes": [],
      "_model_module": "@jupyter-widgets/controls",
      "_model_module_version": "1.5.0",
      "_model_name": "FloatProgressModel",
      "_view_count": null,
      "_view_module": "@jupyter-widgets/controls",
      "_view_module_version": "1.5.0",
      "_view_name": "ProgressView",
      "bar_style": "success",
      "description": "",
      "description_tooltip": null,
      "layout": "IPY_MODEL_f069ac666dea4d5ea04055f26a2aeab0",
      "max": 262,
      "min": 0,
      "orientation": "horizontal",
      "style": "IPY_MODEL_65a1de8ef7e64a1bbacfd2c50fcfba3a",
      "value": 262
     }
    },
    "7d626efa30374d538daf55eb63be16ab": {
     "model_module": "@jupyter-widgets/controls",
     "model_module_version": "1.5.0",
     "model_name": "HBoxModel",
     "state": {
      "_dom_classes": [],
      "_model_module": "@jupyter-widgets/controls",
      "_model_module_version": "1.5.0",
      "_model_name": "HBoxModel",
      "_view_count": null,
      "_view_module": "@jupyter-widgets/controls",
      "_view_module_version": "1.5.0",
      "_view_name": "HBoxView",
      "box_style": "",
      "children": [
       "IPY_MODEL_533dc0a9d9a44d8cb3d8f701095e5904",
       "IPY_MODEL_e0a6f925b70d45249c63f98db2e11f29",
       "IPY_MODEL_320acf1cea1c47c399d85d4dace37039"
      ],
      "layout": "IPY_MODEL_663a6e5985874f7a928317a359e50d7d"
     }
    },
    "7ff18894be604ef2ba404e7ce07ecd1b": {
     "model_module": "@jupyter-widgets/controls",
     "model_module_version": "1.5.0",
     "model_name": "LabelModel",
     "state": {
      "_dom_classes": [],
      "_model_module": "@jupyter-widgets/controls",
      "_model_module_version": "1.5.0",
      "_model_name": "LabelModel",
      "_view_count": null,
      "_view_module": "@jupyter-widgets/controls",
      "_view_module_version": "1.5.0",
      "_view_name": "LabelView",
      "description": "",
      "description_tooltip": null,
      "layout": "IPY_MODEL_413388f37d2b4becbf09ced0ceac0137",
      "placeholder": "​",
      "style": "IPY_MODEL_8cb2b5ca7c8b4247a408fd8d6bb6e947",
      "value": "Token is valid (permission: read)."
     }
    },
    "829e328248b94511acf27c0c5a6ebfba": {
     "model_module": "@jupyter-widgets/base",
     "model_module_version": "1.2.0",
     "model_name": "LayoutModel",
     "state": {
      "_model_module": "@jupyter-widgets/base",
      "_model_module_version": "1.2.0",
      "_model_name": "LayoutModel",
      "_view_count": null,
      "_view_module": "@jupyter-widgets/base",
      "_view_module_version": "1.2.0",
      "_view_name": "LayoutView",
      "align_content": null,
      "align_items": null,
      "align_self": null,
      "border": null,
      "bottom": null,
      "display": null,
      "flex": null,
      "flex_flow": null,
      "grid_area": null,
      "grid_auto_columns": null,
      "grid_auto_flow": null,
      "grid_auto_rows": null,
      "grid_column": null,
      "grid_gap": null,
      "grid_row": null,
      "grid_template_areas": null,
      "grid_template_columns": null,
      "grid_template_rows": null,
      "height": null,
      "justify_content": null,
      "justify_items": null,
      "left": null,
      "margin": null,
      "max_height": null,
      "max_width": null,
      "min_height": null,
      "min_width": null,
      "object_fit": null,
      "object_position": null,
      "order": null,
      "overflow": null,
      "overflow_x": null,
      "overflow_y": null,
      "padding": null,
      "right": null,
      "top": null,
      "visibility": null,
      "width": null
     }
    },
    "8375b6c5c206499a80c4052f7612d86c": {
     "model_module": "@jupyter-widgets/base",
     "model_module_version": "1.2.0",
     "model_name": "LayoutModel",
     "state": {
      "_model_module": "@jupyter-widgets/base",
      "_model_module_version": "1.2.0",
      "_model_name": "LayoutModel",
      "_view_count": null,
      "_view_module": "@jupyter-widgets/base",
      "_view_module_version": "1.2.0",
      "_view_name": "LayoutView",
      "align_content": null,
      "align_items": null,
      "align_self": null,
      "border": null,
      "bottom": null,
      "display": null,
      "flex": null,
      "flex_flow": null,
      "grid_area": null,
      "grid_auto_columns": null,
      "grid_auto_flow": null,
      "grid_auto_rows": null,
      "grid_column": null,
      "grid_gap": null,
      "grid_row": null,
      "grid_template_areas": null,
      "grid_template_columns": null,
      "grid_template_rows": null,
      "height": null,
      "justify_content": null,
      "justify_items": null,
      "left": null,
      "margin": null,
      "max_height": null,
      "max_width": null,
      "min_height": null,
      "min_width": null,
      "object_fit": null,
      "object_position": null,
      "order": null,
      "overflow": null,
      "overflow_x": null,
      "overflow_y": null,
      "padding": null,
      "right": null,
      "top": null,
      "visibility": null,
      "width": null
     }
    },
    "84a7d391e63d43d096e0b57ec8a85602": {
     "model_module": "@jupyter-widgets/base",
     "model_module_version": "1.2.0",
     "model_name": "LayoutModel",
     "state": {
      "_model_module": "@jupyter-widgets/base",
      "_model_module_version": "1.2.0",
      "_model_name": "LayoutModel",
      "_view_count": null,
      "_view_module": "@jupyter-widgets/base",
      "_view_module_version": "1.2.0",
      "_view_name": "LayoutView",
      "align_content": null,
      "align_items": null,
      "align_self": null,
      "border": null,
      "bottom": null,
      "display": null,
      "flex": null,
      "flex_flow": null,
      "grid_area": null,
      "grid_auto_columns": null,
      "grid_auto_flow": null,
      "grid_auto_rows": null,
      "grid_column": null,
      "grid_gap": null,
      "grid_row": null,
      "grid_template_areas": null,
      "grid_template_columns": null,
      "grid_template_rows": null,
      "height": null,
      "justify_content": null,
      "justify_items": null,
      "left": null,
      "margin": null,
      "max_height": null,
      "max_width": null,
      "min_height": null,
      "min_width": null,
      "object_fit": null,
      "object_position": null,
      "order": null,
      "overflow": null,
      "overflow_x": null,
      "overflow_y": null,
      "padding": null,
      "right": null,
      "top": null,
      "visibility": null,
      "width": null
     }
    },
    "87a6b58d6d884dfe8954a4f7b824d0d1": {
     "model_module": "@jupyter-widgets/controls",
     "model_module_version": "1.5.0",
     "model_name": "DescriptionStyleModel",
     "state": {
      "_model_module": "@jupyter-widgets/controls",
      "_model_module_version": "1.5.0",
      "_model_name": "DescriptionStyleModel",
      "_view_count": null,
      "_view_module": "@jupyter-widgets/base",
      "_view_module_version": "1.2.0",
      "_view_name": "StyleView",
      "description_width": ""
     }
    },
    "88821b530cdc4dc68364c7cfbfae5005": {
     "model_module": "@jupyter-widgets/controls",
     "model_module_version": "1.5.0",
     "model_name": "DescriptionStyleModel",
     "state": {
      "_model_module": "@jupyter-widgets/controls",
      "_model_module_version": "1.5.0",
      "_model_name": "DescriptionStyleModel",
      "_view_count": null,
      "_view_module": "@jupyter-widgets/base",
      "_view_module_version": "1.2.0",
      "_view_name": "StyleView",
      "description_width": ""
     }
    },
    "8956231c21734791979a739bfcc0d6eb": {
     "model_module": "@jupyter-widgets/controls",
     "model_module_version": "1.5.0",
     "model_name": "ProgressStyleModel",
     "state": {
      "_model_module": "@jupyter-widgets/controls",
      "_model_module_version": "1.5.0",
      "_model_name": "ProgressStyleModel",
      "_view_count": null,
      "_view_module": "@jupyter-widgets/base",
      "_view_module_version": "1.2.0",
      "_view_name": "StyleView",
      "bar_color": null,
      "description_width": ""
     }
    },
    "8c5e12a7f2a8421c8b3f1c29b0b5fed7": {
     "model_module": "@jupyter-widgets/base",
     "model_module_version": "1.2.0",
     "model_name": "LayoutModel",
     "state": {
      "_model_module": "@jupyter-widgets/base",
      "_model_module_version": "1.2.0",
      "_model_name": "LayoutModel",
      "_view_count": null,
      "_view_module": "@jupyter-widgets/base",
      "_view_module_version": "1.2.0",
      "_view_name": "LayoutView",
      "align_content": null,
      "align_items": null,
      "align_self": null,
      "border": null,
      "bottom": null,
      "display": null,
      "flex": null,
      "flex_flow": null,
      "grid_area": null,
      "grid_auto_columns": null,
      "grid_auto_flow": null,
      "grid_auto_rows": null,
      "grid_column": null,
      "grid_gap": null,
      "grid_row": null,
      "grid_template_areas": null,
      "grid_template_columns": null,
      "grid_template_rows": null,
      "height": null,
      "justify_content": null,
      "justify_items": null,
      "left": null,
      "margin": null,
      "max_height": null,
      "max_width": null,
      "min_height": null,
      "min_width": null,
      "object_fit": null,
      "object_position": null,
      "order": null,
      "overflow": null,
      "overflow_x": null,
      "overflow_y": null,
      "padding": null,
      "right": null,
      "top": null,
      "visibility": null,
      "width": null
     }
    },
    "8cb2b5ca7c8b4247a408fd8d6bb6e947": {
     "model_module": "@jupyter-widgets/controls",
     "model_module_version": "1.5.0",
     "model_name": "DescriptionStyleModel",
     "state": {
      "_model_module": "@jupyter-widgets/controls",
      "_model_module_version": "1.5.0",
      "_model_name": "DescriptionStyleModel",
      "_view_count": null,
      "_view_module": "@jupyter-widgets/base",
      "_view_module_version": "1.2.0",
      "_view_name": "StyleView",
      "description_width": ""
     }
    },
    "92f3e25c5bcc4bd7a6ec053b9cd4a221": {
     "model_module": "@jupyter-widgets/controls",
     "model_module_version": "1.5.0",
     "model_name": "ProgressStyleModel",
     "state": {
      "_model_module": "@jupyter-widgets/controls",
      "_model_module_version": "1.5.0",
      "_model_name": "ProgressStyleModel",
      "_view_count": null,
      "_view_module": "@jupyter-widgets/base",
      "_view_module_version": "1.2.0",
      "_view_name": "StyleView",
      "bar_color": null,
      "description_width": ""
     }
    },
    "951cfe7cdc524ec2877356e57a3fdda3": {
     "model_module": "@jupyter-widgets/controls",
     "model_module_version": "1.5.0",
     "model_name": "LabelModel",
     "state": {
      "_dom_classes": [],
      "_model_module": "@jupyter-widgets/controls",
      "_model_module_version": "1.5.0",
      "_model_name": "LabelModel",
      "_view_count": null,
      "_view_module": "@jupyter-widgets/controls",
      "_view_module_version": "1.5.0",
      "_view_name": "LabelView",
      "description": "",
      "description_tooltip": null,
      "layout": "IPY_MODEL_2a43cb2844bb46a6902c6dad329a8425",
      "placeholder": "​",
      "style": "IPY_MODEL_41c2b9f8f79246d5b9e6e1a2528cb9e4",
      "value": "Your token has been saved in your configured git credential helpers (store)."
     }
    },
    "95d9fd555e6c400eb75ed1a4f5fe0feb": {
     "model_module": "@jupyter-widgets/base",
     "model_module_version": "1.2.0",
     "model_name": "LayoutModel",
     "state": {
      "_model_module": "@jupyter-widgets/base",
      "_model_module_version": "1.2.0",
      "_model_name": "LayoutModel",
      "_view_count": null,
      "_view_module": "@jupyter-widgets/base",
      "_view_module_version": "1.2.0",
      "_view_name": "LayoutView",
      "align_content": null,
      "align_items": null,
      "align_self": null,
      "border": null,
      "bottom": null,
      "display": null,
      "flex": null,
      "flex_flow": null,
      "grid_area": null,
      "grid_auto_columns": null,
      "grid_auto_flow": null,
      "grid_auto_rows": null,
      "grid_column": null,
      "grid_gap": null,
      "grid_row": null,
      "grid_template_areas": null,
      "grid_template_columns": null,
      "grid_template_rows": null,
      "height": null,
      "justify_content": null,
      "justify_items": null,
      "left": null,
      "margin": null,
      "max_height": null,
      "max_width": null,
      "min_height": null,
      "min_width": null,
      "object_fit": null,
      "object_position": null,
      "order": null,
      "overflow": null,
      "overflow_x": null,
      "overflow_y": null,
      "padding": null,
      "right": null,
      "top": null,
      "visibility": null,
      "width": null
     }
    },
    "961875de06444a4a93b459dddd66c507": {
     "model_module": "@jupyter-widgets/controls",
     "model_module_version": "1.5.0",
     "model_name": "HTMLModel",
     "state": {
      "_dom_classes": [],
      "_model_module": "@jupyter-widgets/controls",
      "_model_module_version": "1.5.0",
      "_model_name": "HTMLModel",
      "_view_count": null,
      "_view_module": "@jupyter-widgets/controls",
      "_view_module_version": "1.5.0",
      "_view_name": "HTMLView",
      "description": "",
      "description_tooltip": null,
      "layout": "IPY_MODEL_c3d8b58223954e488cb69bb8854338c0",
      "placeholder": "​",
      "style": "IPY_MODEL_9cb8d318735e463f80a15a84fd24138a",
      "value": "\n<b>Pro Tip:</b> If you don't already have one, you can create a dedicated\n'notebooks' token with 'write' access, that you can then easily reuse for all\nnotebooks. </center>"
     }
    },
    "96988f713bb649198746a8129903aa18": {
     "model_module": "@jupyter-widgets/controls",
     "model_module_version": "1.5.0",
     "model_name": "FloatProgressModel",
     "state": {
      "_dom_classes": [],
      "_model_module": "@jupyter-widgets/controls",
      "_model_module_version": "1.5.0",
      "_model_name": "FloatProgressModel",
      "_view_count": null,
      "_view_module": "@jupyter-widgets/controls",
      "_view_module_version": "1.5.0",
      "_view_name": "ProgressView",
      "bar_style": "success",
      "description": "",
      "description_tooltip": null,
      "layout": "IPY_MODEL_42e9a90c41b04e0081125229e57620f3",
      "max": 1739,
      "min": 0,
      "orientation": "horizontal",
      "style": "IPY_MODEL_75c5f077d2b946a185ccb6f26cae8f95",
      "value": 1739
     }
    },
    "97b7a0371e1b4d65b4e35e7066cb58de": {
     "model_module": "@jupyter-widgets/controls",
     "model_module_version": "1.5.0",
     "model_name": "DescriptionStyleModel",
     "state": {
      "_model_module": "@jupyter-widgets/controls",
      "_model_module_version": "1.5.0",
      "_model_name": "DescriptionStyleModel",
      "_view_count": null,
      "_view_module": "@jupyter-widgets/base",
      "_view_module_version": "1.2.0",
      "_view_name": "StyleView",
      "description_width": ""
     }
    },
    "98071d363b4b44f5a013ab97ca0e9829": {
     "model_module": "@jupyter-widgets/controls",
     "model_module_version": "1.5.0",
     "model_name": "LabelModel",
     "state": {
      "_dom_classes": [],
      "_model_module": "@jupyter-widgets/controls",
      "_model_module_version": "1.5.0",
      "_model_name": "LabelModel",
      "_view_count": null,
      "_view_module": "@jupyter-widgets/controls",
      "_view_module_version": "1.5.0",
      "_view_name": "LabelView",
      "description": "",
      "description_tooltip": null,
      "layout": "IPY_MODEL_8c5e12a7f2a8421c8b3f1c29b0b5fed7",
      "placeholder": "​",
      "style": "IPY_MODEL_d6c7bca91a054164833f7f445e326750",
      "value": "Login successful"
     }
    },
    "9a66393ae05640dbb5f4cce0b5c0b56c": {
     "model_module": "@jupyter-widgets/controls",
     "model_module_version": "1.5.0",
     "model_name": "FloatProgressModel",
     "state": {
      "_dom_classes": [],
      "_model_module": "@jupyter-widgets/controls",
      "_model_module_version": "1.5.0",
      "_model_name": "FloatProgressModel",
      "_view_count": null,
      "_view_module": "@jupyter-widgets/controls",
      "_view_module_version": "1.5.0",
      "_view_name": "ProgressView",
      "bar_style": "success",
      "description": "",
      "description_tooltip": null,
      "layout": "IPY_MODEL_78bffbdd0f8643f8a2c6ae1a8d875d18",
      "max": 1188,
      "min": 0,
      "orientation": "horizontal",
      "style": "IPY_MODEL_44ac0a0a2ec44147ab62fa514e27a96f",
      "value": 1188
     }
    },
    "9cb8d318735e463f80a15a84fd24138a": {
     "model_module": "@jupyter-widgets/controls",
     "model_module_version": "1.5.0",
     "model_name": "DescriptionStyleModel",
     "state": {
      "_model_module": "@jupyter-widgets/controls",
      "_model_module_version": "1.5.0",
      "_model_name": "DescriptionStyleModel",
      "_view_count": null,
      "_view_module": "@jupyter-widgets/base",
      "_view_module_version": "1.2.0",
      "_view_name": "StyleView",
      "description_width": ""
     }
    },
    "9f0a1751d84645e18a5b93d5f154f915": {
     "model_module": "@jupyter-widgets/controls",
     "model_module_version": "1.5.0",
     "model_name": "DescriptionStyleModel",
     "state": {
      "_model_module": "@jupyter-widgets/controls",
      "_model_module_version": "1.5.0",
      "_model_name": "DescriptionStyleModel",
      "_view_count": null,
      "_view_module": "@jupyter-widgets/base",
      "_view_module_version": "1.2.0",
      "_view_name": "StyleView",
      "description_width": ""
     }
    },
    "a66f4ef10ad2454d8b98762e080cbbe4": {
     "model_module": "@jupyter-widgets/controls",
     "model_module_version": "1.5.0",
     "model_name": "ButtonModel",
     "state": {
      "_dom_classes": [],
      "_model_module": "@jupyter-widgets/controls",
      "_model_module_version": "1.5.0",
      "_model_name": "ButtonModel",
      "_view_count": null,
      "_view_module": "@jupyter-widgets/controls",
      "_view_module_version": "1.5.0",
      "_view_name": "ButtonView",
      "button_style": "",
      "description": "Login",
      "disabled": false,
      "icon": "",
      "layout": "IPY_MODEL_e711a41b1fb44e9a9b1507a972e753c1",
      "style": "IPY_MODEL_ab2e4abdb7e742c6b509e9e449c5d7cd",
      "tooltip": ""
     }
    },
    "ab2e4abdb7e742c6b509e9e449c5d7cd": {
     "model_module": "@jupyter-widgets/controls",
     "model_module_version": "1.5.0",
     "model_name": "ButtonStyleModel",
     "state": {
      "_model_module": "@jupyter-widgets/controls",
      "_model_module_version": "1.5.0",
      "_model_name": "ButtonStyleModel",
      "_view_count": null,
      "_view_module": "@jupyter-widgets/base",
      "_view_module_version": "1.2.0",
      "_view_name": "StyleView",
      "button_color": null,
      "font_weight": ""
     }
    },
    "acbc23f141e14d4496822228e13a21a3": {
     "model_module": "@jupyter-widgets/controls",
     "model_module_version": "1.5.0",
     "model_name": "DescriptionStyleModel",
     "state": {
      "_model_module": "@jupyter-widgets/controls",
      "_model_module_version": "1.5.0",
      "_model_name": "DescriptionStyleModel",
      "_view_count": null,
      "_view_module": "@jupyter-widgets/base",
      "_view_module_version": "1.2.0",
      "_view_name": "StyleView",
      "description_width": ""
     }
    },
    "adc9e54d06fe4950879dd0560fae3d84": {
     "model_module": "@jupyter-widgets/controls",
     "model_module_version": "1.5.0",
     "model_name": "DescriptionStyleModel",
     "state": {
      "_model_module": "@jupyter-widgets/controls",
      "_model_module_version": "1.5.0",
      "_model_name": "DescriptionStyleModel",
      "_view_count": null,
      "_view_module": "@jupyter-widgets/base",
      "_view_module_version": "1.2.0",
      "_view_name": "StyleView",
      "description_width": ""
     }
    },
    "af2bf3d84c3f407f849f68dbb2b01dc1": {
     "model_module": "@jupyter-widgets/controls",
     "model_module_version": "1.5.0",
     "model_name": "FloatProgressModel",
     "state": {
      "_dom_classes": [],
      "_model_module": "@jupyter-widgets/controls",
      "_model_module_version": "1.5.0",
      "_model_name": "FloatProgressModel",
      "_view_count": null,
      "_view_module": "@jupyter-widgets/controls",
      "_view_module_version": "1.5.0",
      "_view_name": "ProgressView",
      "bar_style": "success",
      "description": "",
      "description_tooltip": null,
      "layout": "IPY_MODEL_05ccc1b121e44229bf2c21d848db7ab3",
      "max": 957,
      "min": 0,
      "orientation": "horizontal",
      "style": "IPY_MODEL_ca7f9c1a821a4731b2fe2559db12aa98",
      "value": 957
     }
    },
    "b03cd8adf59c48b193c0aee4300fafdf": {
     "model_module": "@jupyter-widgets/controls",
     "model_module_version": "1.5.0",
     "model_name": "DescriptionStyleModel",
     "state": {
      "_model_module": "@jupyter-widgets/controls",
      "_model_module_version": "1.5.0",
      "_model_name": "DescriptionStyleModel",
      "_view_count": null,
      "_view_module": "@jupyter-widgets/base",
      "_view_module_version": "1.2.0",
      "_view_name": "StyleView",
      "description_width": ""
     }
    },
    "b066a6946b2d4d509fcd2419a91ee80f": {
     "model_module": "@jupyter-widgets/controls",
     "model_module_version": "1.5.0",
     "model_name": "ProgressStyleModel",
     "state": {
      "_model_module": "@jupyter-widgets/controls",
      "_model_module_version": "1.5.0",
      "_model_name": "ProgressStyleModel",
      "_view_count": null,
      "_view_module": "@jupyter-widgets/base",
      "_view_module_version": "1.2.0",
      "_view_name": "StyleView",
      "bar_color": null,
      "description_width": ""
     }
    },
    "b2d3b366c2a7412e8f2ecb21e1df496e": {
     "model_module": "@jupyter-widgets/controls",
     "model_module_version": "1.5.0",
     "model_name": "HTMLModel",
     "state": {
      "_dom_classes": [],
      "_model_module": "@jupyter-widgets/controls",
      "_model_module_version": "1.5.0",
      "_model_name": "HTMLModel",
      "_view_count": null,
      "_view_module": "@jupyter-widgets/controls",
      "_view_module_version": "1.5.0",
      "_view_name": "HTMLView",
      "description": "",
      "description_tooltip": null,
      "layout": "IPY_MODEL_84a7d391e63d43d096e0b57ec8a85602",
      "placeholder": "​",
      "style": "IPY_MODEL_adc9e54d06fe4950879dd0560fae3d84",
      "value": "vocab.json: 100%"
     }
    },
    "b62604c379784e5fad5768a6b2eadf95": {
     "model_module": "@jupyter-widgets/base",
     "model_module_version": "1.2.0",
     "model_name": "LayoutModel",
     "state": {
      "_model_module": "@jupyter-widgets/base",
      "_model_module_version": "1.2.0",
      "_model_name": "LayoutModel",
      "_view_count": null,
      "_view_module": "@jupyter-widgets/base",
      "_view_module_version": "1.2.0",
      "_view_name": "LayoutView",
      "align_content": null,
      "align_items": null,
      "align_self": null,
      "border": null,
      "bottom": null,
      "display": null,
      "flex": null,
      "flex_flow": null,
      "grid_area": null,
      "grid_auto_columns": null,
      "grid_auto_flow": null,
      "grid_auto_rows": null,
      "grid_column": null,
      "grid_gap": null,
      "grid_row": null,
      "grid_template_areas": null,
      "grid_template_columns": null,
      "grid_template_rows": null,
      "height": null,
      "justify_content": null,
      "justify_items": null,
      "left": null,
      "margin": null,
      "max_height": null,
      "max_width": null,
      "min_height": null,
      "min_width": null,
      "object_fit": null,
      "object_position": null,
      "order": null,
      "overflow": null,
      "overflow_x": null,
      "overflow_y": null,
      "padding": null,
      "right": null,
      "top": null,
      "visibility": null,
      "width": null
     }
    },
    "b7db20cd972c48d0a2b92f2ed9dea157": {
     "model_module": "@jupyter-widgets/controls",
     "model_module_version": "1.5.0",
     "model_name": "DescriptionStyleModel",
     "state": {
      "_model_module": "@jupyter-widgets/controls",
      "_model_module_version": "1.5.0",
      "_model_name": "DescriptionStyleModel",
      "_view_count": null,
      "_view_module": "@jupyter-widgets/base",
      "_view_module_version": "1.2.0",
      "_view_name": "StyleView",
      "description_width": ""
     }
    },
    "baddbd75869242c387fc71d9baf41faf": {
     "model_module": "@jupyter-widgets/base",
     "model_module_version": "1.2.0",
     "model_name": "LayoutModel",
     "state": {
      "_model_module": "@jupyter-widgets/base",
      "_model_module_version": "1.2.0",
      "_model_name": "LayoutModel",
      "_view_count": null,
      "_view_module": "@jupyter-widgets/base",
      "_view_module_version": "1.2.0",
      "_view_name": "LayoutView",
      "align_content": null,
      "align_items": null,
      "align_self": null,
      "border": null,
      "bottom": null,
      "display": null,
      "flex": null,
      "flex_flow": null,
      "grid_area": null,
      "grid_auto_columns": null,
      "grid_auto_flow": null,
      "grid_auto_rows": null,
      "grid_column": null,
      "grid_gap": null,
      "grid_row": null,
      "grid_template_areas": null,
      "grid_template_columns": null,
      "grid_template_rows": null,
      "height": null,
      "justify_content": null,
      "justify_items": null,
      "left": null,
      "margin": null,
      "max_height": null,
      "max_width": null,
      "min_height": null,
      "min_width": null,
      "object_fit": null,
      "object_position": null,
      "order": null,
      "overflow": null,
      "overflow_x": null,
      "overflow_y": null,
      "padding": null,
      "right": null,
      "top": null,
      "visibility": null,
      "width": null
     }
    },
    "c3ba6337ade14a97ac0f0b3ec7b59d8e": {
     "model_module": "@jupyter-widgets/base",
     "model_module_version": "1.2.0",
     "model_name": "LayoutModel",
     "state": {
      "_model_module": "@jupyter-widgets/base",
      "_model_module_version": "1.2.0",
      "_model_name": "LayoutModel",
      "_view_count": null,
      "_view_module": "@jupyter-widgets/base",
      "_view_module_version": "1.2.0",
      "_view_name": "LayoutView",
      "align_content": null,
      "align_items": null,
      "align_self": null,
      "border": null,
      "bottom": null,
      "display": null,
      "flex": null,
      "flex_flow": null,
      "grid_area": null,
      "grid_auto_columns": null,
      "grid_auto_flow": null,
      "grid_auto_rows": null,
      "grid_column": null,
      "grid_gap": null,
      "grid_row": null,
      "grid_template_areas": null,
      "grid_template_columns": null,
      "grid_template_rows": null,
      "height": null,
      "justify_content": null,
      "justify_items": null,
      "left": null,
      "margin": null,
      "max_height": null,
      "max_width": null,
      "min_height": null,
      "min_width": null,
      "object_fit": null,
      "object_position": null,
      "order": null,
      "overflow": null,
      "overflow_x": null,
      "overflow_y": null,
      "padding": null,
      "right": null,
      "top": null,
      "visibility": null,
      "width": null
     }
    },
    "c3d8b58223954e488cb69bb8854338c0": {
     "model_module": "@jupyter-widgets/base",
     "model_module_version": "1.2.0",
     "model_name": "LayoutModel",
     "state": {
      "_model_module": "@jupyter-widgets/base",
      "_model_module_version": "1.2.0",
      "_model_name": "LayoutModel",
      "_view_count": null,
      "_view_module": "@jupyter-widgets/base",
      "_view_module_version": "1.2.0",
      "_view_name": "LayoutView",
      "align_content": null,
      "align_items": null,
      "align_self": null,
      "border": null,
      "bottom": null,
      "display": null,
      "flex": null,
      "flex_flow": null,
      "grid_area": null,
      "grid_auto_columns": null,
      "grid_auto_flow": null,
      "grid_auto_rows": null,
      "grid_column": null,
      "grid_gap": null,
      "grid_row": null,
      "grid_template_areas": null,
      "grid_template_columns": null,
      "grid_template_rows": null,
      "height": null,
      "justify_content": null,
      "justify_items": null,
      "left": null,
      "margin": null,
      "max_height": null,
      "max_width": null,
      "min_height": null,
      "min_width": null,
      "object_fit": null,
      "object_position": null,
      "order": null,
      "overflow": null,
      "overflow_x": null,
      "overflow_y": null,
      "padding": null,
      "right": null,
      "top": null,
      "visibility": null,
      "width": null
     }
    },
    "ca7f9c1a821a4731b2fe2559db12aa98": {
     "model_module": "@jupyter-widgets/controls",
     "model_module_version": "1.5.0",
     "model_name": "ProgressStyleModel",
     "state": {
      "_model_module": "@jupyter-widgets/controls",
      "_model_module_version": "1.5.0",
      "_model_name": "ProgressStyleModel",
      "_view_count": null,
      "_view_module": "@jupyter-widgets/base",
      "_view_module_version": "1.2.0",
      "_view_name": "StyleView",
      "bar_color": null,
      "description_width": ""
     }
    },
    "cdd3103fc3304652a7b7c91ec48d9094": {
     "model_module": "@jupyter-widgets/controls",
     "model_module_version": "1.5.0",
     "model_name": "DescriptionStyleModel",
     "state": {
      "_model_module": "@jupyter-widgets/controls",
      "_model_module_version": "1.5.0",
      "_model_name": "DescriptionStyleModel",
      "_view_count": null,
      "_view_module": "@jupyter-widgets/base",
      "_view_module_version": "1.2.0",
      "_view_name": "StyleView",
      "description_width": ""
     }
    },
    "ceacfc05599e421d958fd00eee9afb4d": {
     "model_module": "@jupyter-widgets/controls",
     "model_module_version": "1.5.0",
     "model_name": "FloatProgressModel",
     "state": {
      "_dom_classes": [],
      "_model_module": "@jupyter-widgets/controls",
      "_model_module_version": "1.5.0",
      "_model_name": "FloatProgressModel",
      "_view_count": null,
      "_view_module": "@jupyter-widgets/controls",
      "_view_module_version": "1.5.0",
      "_view_name": "ProgressView",
      "bar_style": "success",
      "description": "",
      "description_tooltip": null,
      "layout": "IPY_MODEL_0d038beb756f4c28a0f72f3433c97b24",
      "max": 20,
      "min": 0,
      "orientation": "horizontal",
      "style": "IPY_MODEL_b066a6946b2d4d509fcd2419a91ee80f",
      "value": 20
     }
    },
    "cf97931688e54eeaa5e4435b4e083cd7": {
     "model_module": "@jupyter-widgets/controls",
     "model_module_version": "1.5.0",
     "model_name": "ProgressStyleModel",
     "state": {
      "_model_module": "@jupyter-widgets/controls",
      "_model_module_version": "1.5.0",
      "_model_name": "ProgressStyleModel",
      "_view_count": null,
      "_view_module": "@jupyter-widgets/base",
      "_view_module_version": "1.2.0",
      "_view_name": "StyleView",
      "bar_color": null,
      "description_width": ""
     }
    },
    "d2843f20372b4584aa77dd1fbfd7feb4": {
     "model_module": "@jupyter-widgets/controls",
     "model_module_version": "1.5.0",
     "model_name": "HTMLModel",
     "state": {
      "_dom_classes": [],
      "_model_module": "@jupyter-widgets/controls",
      "_model_module_version": "1.5.0",
      "_model_name": "HTMLModel",
      "_view_count": null,
      "_view_module": "@jupyter-widgets/controls",
      "_view_module_version": "1.5.0",
      "_view_name": "HTMLView",
      "description": "",
      "description_tooltip": null,
      "layout": "IPY_MODEL_fb1e184302a2430793cb33a0e1d01837",
      "placeholder": "​",
      "style": "IPY_MODEL_64b01b8e1a694347b8afb72a4ff5768c",
      "value": "tokenizer_config.json: 100%"
     }
    },
    "d6c7bca91a054164833f7f445e326750": {
     "model_module": "@jupyter-widgets/controls",
     "model_module_version": "1.5.0",
     "model_name": "DescriptionStyleModel",
     "state": {
      "_model_module": "@jupyter-widgets/controls",
      "_model_module_version": "1.5.0",
      "_model_name": "DescriptionStyleModel",
      "_view_count": null,
      "_view_module": "@jupyter-widgets/base",
      "_view_module_version": "1.2.0",
      "_view_name": "StyleView",
      "description_width": ""
     }
    },
    "d7bf28b9429b4e98803cf4fa9594f60d": {
     "model_module": "@jupyter-widgets/controls",
     "model_module_version": "1.5.0",
     "model_name": "DescriptionStyleModel",
     "state": {
      "_model_module": "@jupyter-widgets/controls",
      "_model_module_version": "1.5.0",
      "_model_name": "DescriptionStyleModel",
      "_view_count": null,
      "_view_module": "@jupyter-widgets/base",
      "_view_module_version": "1.2.0",
      "_view_name": "StyleView",
      "description_width": ""
     }
    },
    "d96d48933e1547c08d005e6f7da299bc": {
     "model_module": "@jupyter-widgets/controls",
     "model_module_version": "1.5.0",
     "model_name": "HBoxModel",
     "state": {
      "_dom_classes": [],
      "_model_module": "@jupyter-widgets/controls",
      "_model_module_version": "1.5.0",
      "_model_name": "HBoxModel",
      "_view_count": null,
      "_view_module": "@jupyter-widgets/controls",
      "_view_module_version": "1.5.0",
      "_view_name": "HBoxView",
      "box_style": "",
      "children": [
       "IPY_MODEL_269fd2aed5d0467689c6bfdb20c5680f",
       "IPY_MODEL_af2bf3d84c3f407f849f68dbb2b01dc1",
       "IPY_MODEL_74706860ed154c168281c1cc27d2f2ff"
      ],
      "layout": "IPY_MODEL_25599c4ca99444658c1749a953e4b9ee"
     }
    },
    "da81e8005b094b278c237c63350e2fde": {
     "model_module": "@jupyter-widgets/controls",
     "model_module_version": "1.5.0",
     "model_name": "HTMLModel",
     "state": {
      "_dom_classes": [],
      "_model_module": "@jupyter-widgets/controls",
      "_model_module_version": "1.5.0",
      "_model_name": "HTMLModel",
      "_view_count": null,
      "_view_module": "@jupyter-widgets/controls",
      "_view_module_version": "1.5.0",
      "_view_name": "HTMLView",
      "description": "",
      "description_tooltip": null,
      "layout": "IPY_MODEL_e3a47971c92e49b495316d6df71b0384",
      "placeholder": "​",
      "style": "IPY_MODEL_6743efaa1822476c9e7f8ebf5b3bff3e",
      "value": " 558M/558M [00:26&lt;00:00, 19.3MB/s]"
     }
    },
    "dba923c99979487a9e8e27649eab4382": {
     "model_module": "@jupyter-widgets/controls",
     "model_module_version": "1.5.0",
     "model_name": "HTMLModel",
     "state": {
      "_dom_classes": [],
      "_model_module": "@jupyter-widgets/controls",
      "_model_module_version": "1.5.0",
      "_model_name": "HTMLModel",
      "_view_count": null,
      "_view_module": "@jupyter-widgets/controls",
      "_view_module_version": "1.5.0",
      "_view_name": "HTMLView",
      "description": "",
      "description_tooltip": null,
      "layout": "IPY_MODEL_4e22fbbfb74b4cd0858997e65179da90",
      "placeholder": "​",
      "style": "IPY_MODEL_63f72044af4a46028519f56d3f4c3293",
      "value": " 71/71 [00:00&lt;00:00, 109.51 examples/s]"
     }
    },
    "dc2e952040ec46c1a435e933418d31b9": {
     "model_module": "@jupyter-widgets/base",
     "model_module_version": "1.2.0",
     "model_name": "LayoutModel",
     "state": {
      "_model_module": "@jupyter-widgets/base",
      "_model_module_version": "1.2.0",
      "_model_name": "LayoutModel",
      "_view_count": null,
      "_view_module": "@jupyter-widgets/base",
      "_view_module_version": "1.2.0",
      "_view_name": "LayoutView",
      "align_content": null,
      "align_items": null,
      "align_self": null,
      "border": null,
      "bottom": null,
      "display": null,
      "flex": null,
      "flex_flow": null,
      "grid_area": null,
      "grid_auto_columns": null,
      "grid_auto_flow": null,
      "grid_auto_rows": null,
      "grid_column": null,
      "grid_gap": null,
      "grid_row": null,
      "grid_template_areas": null,
      "grid_template_columns": null,
      "grid_template_rows": null,
      "height": null,
      "justify_content": null,
      "justify_items": null,
      "left": null,
      "margin": null,
      "max_height": null,
      "max_width": null,
      "min_height": null,
      "min_width": null,
      "object_fit": null,
      "object_position": null,
      "order": null,
      "overflow": null,
      "overflow_x": null,
      "overflow_y": null,
      "padding": null,
      "right": null,
      "top": null,
      "visibility": null,
      "width": null
     }
    },
    "dc45083e7251479db1392dc56e4bb5bb": {
     "model_module": "@jupyter-widgets/controls",
     "model_module_version": "1.5.0",
     "model_name": "HBoxModel",
     "state": {
      "_dom_classes": [],
      "_model_module": "@jupyter-widgets/controls",
      "_model_module_version": "1.5.0",
      "_model_name": "HBoxModel",
      "_view_count": null,
      "_view_module": "@jupyter-widgets/controls",
      "_view_module_version": "1.5.0",
      "_view_name": "HBoxView",
      "box_style": "",
      "children": [
       "IPY_MODEL_4d186e1dfe4f4f008bc53ca0a59a8d92",
       "IPY_MODEL_19e92debb7544a0885c3a2cea3de1f92",
       "IPY_MODEL_0d4a9e0518634860997e8fc4e16e1a90"
      ],
      "layout": "IPY_MODEL_3152729a6fd24620906d4df5cb18e1e6"
     }
    },
    "de9c5a61e70c4e2096d48805665f80a8": {
     "model_module": "@jupyter-widgets/controls",
     "model_module_version": "1.5.0",
     "model_name": "DescriptionStyleModel",
     "state": {
      "_model_module": "@jupyter-widgets/controls",
      "_model_module_version": "1.5.0",
      "_model_name": "DescriptionStyleModel",
      "_view_count": null,
      "_view_module": "@jupyter-widgets/base",
      "_view_module_version": "1.2.0",
      "_view_name": "StyleView",
      "description_width": ""
     }
    },
    "ded05e4b07aa44208223cab55f6421ec": {
     "model_module": "@jupyter-widgets/base",
     "model_module_version": "1.2.0",
     "model_name": "LayoutModel",
     "state": {
      "_model_module": "@jupyter-widgets/base",
      "_model_module_version": "1.2.0",
      "_model_name": "LayoutModel",
      "_view_count": null,
      "_view_module": "@jupyter-widgets/base",
      "_view_module_version": "1.2.0",
      "_view_name": "LayoutView",
      "align_content": null,
      "align_items": null,
      "align_self": null,
      "border": null,
      "bottom": null,
      "display": null,
      "flex": null,
      "flex_flow": null,
      "grid_area": null,
      "grid_auto_columns": null,
      "grid_auto_flow": null,
      "grid_auto_rows": null,
      "grid_column": null,
      "grid_gap": null,
      "grid_row": null,
      "grid_template_areas": null,
      "grid_template_columns": null,
      "grid_template_rows": null,
      "height": null,
      "justify_content": null,
      "justify_items": null,
      "left": null,
      "margin": null,
      "max_height": null,
      "max_width": null,
      "min_height": null,
      "min_width": null,
      "object_fit": null,
      "object_position": null,
      "order": null,
      "overflow": null,
      "overflow_x": null,
      "overflow_y": null,
      "padding": null,
      "right": null,
      "top": null,
      "visibility": null,
      "width": null
     }
    },
    "df6ff03c18ed4615874101bb7cd10f23": {
     "model_module": "@jupyter-widgets/controls",
     "model_module_version": "1.5.0",
     "model_name": "DescriptionStyleModel",
     "state": {
      "_model_module": "@jupyter-widgets/controls",
      "_model_module_version": "1.5.0",
      "_model_name": "DescriptionStyleModel",
      "_view_count": null,
      "_view_module": "@jupyter-widgets/base",
      "_view_module_version": "1.2.0",
      "_view_name": "StyleView",
      "description_width": ""
     }
    },
    "e0a6f925b70d45249c63f98db2e11f29": {
     "model_module": "@jupyter-widgets/controls",
     "model_module_version": "1.5.0",
     "model_name": "FloatProgressModel",
     "state": {
      "_dom_classes": [],
      "_model_module": "@jupyter-widgets/controls",
      "_model_module_version": "1.5.0",
      "_model_name": "FloatProgressModel",
      "_view_count": null,
      "_view_module": "@jupyter-widgets/controls",
      "_view_module_version": "1.5.0",
      "_view_name": "ProgressView",
      "bar_style": "success",
      "description": "",
      "description_tooltip": null,
      "layout": "IPY_MODEL_ded05e4b07aa44208223cab55f6421ec",
      "max": 456318,
      "min": 0,
      "orientation": "horizontal",
      "style": "IPY_MODEL_2cd74ca6600445b2bf400e317c4e4511",
      "value": 456318
     }
    },
    "e1124eca48d045c99a95aee91f26bc6a": {
     "model_module": "@jupyter-widgets/controls",
     "model_module_version": "1.5.0",
     "model_name": "HTMLModel",
     "state": {
      "_dom_classes": [],
      "_model_module": "@jupyter-widgets/controls",
      "_model_module_version": "1.5.0",
      "_model_name": "HTMLModel",
      "_view_count": null,
      "_view_module": "@jupyter-widgets/controls",
      "_view_module_version": "1.5.0",
      "_view_name": "HTMLView",
      "description": "",
      "description_tooltip": null,
      "layout": "IPY_MODEL_21ce9cf1df4a48a6b10aecc4a944fdda",
      "placeholder": "​",
      "style": "IPY_MODEL_7158632c178d4a4bbc663f73a45b166f",
      "value": " 1.19k/1.19k [00:00&lt;00:00, 87.3kB/s]"
     }
    },
    "e3a47971c92e49b495316d6df71b0384": {
     "model_module": "@jupyter-widgets/base",
     "model_module_version": "1.2.0",
     "model_name": "LayoutModel",
     "state": {
      "_model_module": "@jupyter-widgets/base",
      "_model_module_version": "1.2.0",
      "_model_name": "LayoutModel",
      "_view_count": null,
      "_view_module": "@jupyter-widgets/base",
      "_view_module_version": "1.2.0",
      "_view_name": "LayoutView",
      "align_content": null,
      "align_items": null,
      "align_self": null,
      "border": null,
      "bottom": null,
      "display": null,
      "flex": null,
      "flex_flow": null,
      "grid_area": null,
      "grid_auto_columns": null,
      "grid_auto_flow": null,
      "grid_auto_rows": null,
      "grid_column": null,
      "grid_gap": null,
      "grid_row": null,
      "grid_template_areas": null,
      "grid_template_columns": null,
      "grid_template_rows": null,
      "height": null,
      "justify_content": null,
      "justify_items": null,
      "left": null,
      "margin": null,
      "max_height": null,
      "max_width": null,
      "min_height": null,
      "min_width": null,
      "object_fit": null,
      "object_position": null,
      "order": null,
      "overflow": null,
      "overflow_x": null,
      "overflow_y": null,
      "padding": null,
      "right": null,
      "top": null,
      "visibility": null,
      "width": null
     }
    },
    "e426f249bcca49c8b328ed7b1d4337eb": {
     "model_module": "@jupyter-widgets/controls",
     "model_module_version": "1.5.0",
     "model_name": "DescriptionStyleModel",
     "state": {
      "_model_module": "@jupyter-widgets/controls",
      "_model_module_version": "1.5.0",
      "_model_name": "DescriptionStyleModel",
      "_view_count": null,
      "_view_module": "@jupyter-widgets/base",
      "_view_module_version": "1.2.0",
      "_view_name": "StyleView",
      "description_width": ""
     }
    },
    "e711a41b1fb44e9a9b1507a972e753c1": {
     "model_module": "@jupyter-widgets/base",
     "model_module_version": "1.2.0",
     "model_name": "LayoutModel",
     "state": {
      "_model_module": "@jupyter-widgets/base",
      "_model_module_version": "1.2.0",
      "_model_name": "LayoutModel",
      "_view_count": null,
      "_view_module": "@jupyter-widgets/base",
      "_view_module_version": "1.2.0",
      "_view_name": "LayoutView",
      "align_content": null,
      "align_items": null,
      "align_self": null,
      "border": null,
      "bottom": null,
      "display": null,
      "flex": null,
      "flex_flow": null,
      "grid_area": null,
      "grid_auto_columns": null,
      "grid_auto_flow": null,
      "grid_auto_rows": null,
      "grid_column": null,
      "grid_gap": null,
      "grid_row": null,
      "grid_template_areas": null,
      "grid_template_columns": null,
      "grid_template_rows": null,
      "height": null,
      "justify_content": null,
      "justify_items": null,
      "left": null,
      "margin": null,
      "max_height": null,
      "max_width": null,
      "min_height": null,
      "min_width": null,
      "object_fit": null,
      "object_position": null,
      "order": null,
      "overflow": null,
      "overflow_x": null,
      "overflow_y": null,
      "padding": null,
      "right": null,
      "top": null,
      "visibility": null,
      "width": null
     }
    },
    "ea86967a482e49048bc3c857d4e2261e": {
     "model_module": "@jupyter-widgets/controls",
     "model_module_version": "1.5.0",
     "model_name": "HTMLModel",
     "state": {
      "_dom_classes": [],
      "_model_module": "@jupyter-widgets/controls",
      "_model_module_version": "1.5.0",
      "_model_name": "HTMLModel",
      "_view_count": null,
      "_view_module": "@jupyter-widgets/controls",
      "_view_module_version": "1.5.0",
      "_view_name": "HTMLView",
      "description": "",
      "description_tooltip": null,
      "layout": "IPY_MODEL_baddbd75869242c387fc71d9baf41faf",
      "placeholder": "​",
      "style": "IPY_MODEL_fd5c242bb286476db19431b69acdc8d0",
      "value": " 999k/999k [00:00&lt;00:00, 4.09MB/s]"
     }
    },
    "ebb595d018a8407a8637b28ee4e165ea": {
     "model_module": "@jupyter-widgets/controls",
     "model_module_version": "1.5.0",
     "model_name": "FloatProgressModel",
     "state": {
      "_dom_classes": [],
      "_model_module": "@jupyter-widgets/controls",
      "_model_module_version": "1.5.0",
      "_model_name": "FloatProgressModel",
      "_view_count": null,
      "_view_module": "@jupyter-widgets/controls",
      "_view_module_version": "1.5.0",
      "_view_name": "ProgressView",
      "bar_style": "success",
      "description": "",
      "description_tooltip": null,
      "layout": "IPY_MODEL_2a8162defbfc4ec1918dcce26a2d52e1",
      "max": 557912620,
      "min": 0,
      "orientation": "horizontal",
      "style": "IPY_MODEL_92f3e25c5bcc4bd7a6ec053b9cd4a221",
      "value": 557912620
     }
    },
    "ed1c76783f4b41f38a81304b4767e5ff": {
     "model_module": "@jupyter-widgets/base",
     "model_module_version": "1.2.0",
     "model_name": "LayoutModel",
     "state": {
      "_model_module": "@jupyter-widgets/base",
      "_model_module_version": "1.2.0",
      "_model_name": "LayoutModel",
      "_view_count": null,
      "_view_module": "@jupyter-widgets/base",
      "_view_module_version": "1.2.0",
      "_view_name": "LayoutView",
      "align_content": null,
      "align_items": null,
      "align_self": null,
      "border": null,
      "bottom": null,
      "display": null,
      "flex": null,
      "flex_flow": null,
      "grid_area": null,
      "grid_auto_columns": null,
      "grid_auto_flow": null,
      "grid_auto_rows": null,
      "grid_column": null,
      "grid_gap": null,
      "grid_row": null,
      "grid_template_areas": null,
      "grid_template_columns": null,
      "grid_template_rows": null,
      "height": null,
      "justify_content": null,
      "justify_items": null,
      "left": null,
      "margin": null,
      "max_height": null,
      "max_width": null,
      "min_height": null,
      "min_width": null,
      "object_fit": null,
      "object_position": null,
      "order": null,
      "overflow": null,
      "overflow_x": null,
      "overflow_y": null,
      "padding": null,
      "right": null,
      "top": null,
      "visibility": null,
      "width": null
     }
    },
    "eed78b71423d4571a8fd0582b2950d0b": {
     "model_module": "@jupyter-widgets/base",
     "model_module_version": "1.2.0",
     "model_name": "LayoutModel",
     "state": {
      "_model_module": "@jupyter-widgets/base",
      "_model_module_version": "1.2.0",
      "_model_name": "LayoutModel",
      "_view_count": null,
      "_view_module": "@jupyter-widgets/base",
      "_view_module_version": "1.2.0",
      "_view_name": "LayoutView",
      "align_content": null,
      "align_items": null,
      "align_self": null,
      "border": null,
      "bottom": null,
      "display": null,
      "flex": null,
      "flex_flow": null,
      "grid_area": null,
      "grid_auto_columns": null,
      "grid_auto_flow": null,
      "grid_auto_rows": null,
      "grid_column": null,
      "grid_gap": null,
      "grid_row": null,
      "grid_template_areas": null,
      "grid_template_columns": null,
      "grid_template_rows": null,
      "height": null,
      "justify_content": null,
      "justify_items": null,
      "left": null,
      "margin": null,
      "max_height": null,
      "max_width": null,
      "min_height": null,
      "min_width": null,
      "object_fit": null,
      "object_position": null,
      "order": null,
      "overflow": null,
      "overflow_x": null,
      "overflow_y": null,
      "padding": null,
      "right": null,
      "top": null,
      "visibility": null,
      "width": null
     }
    },
    "f069ac666dea4d5ea04055f26a2aeab0": {
     "model_module": "@jupyter-widgets/base",
     "model_module_version": "1.2.0",
     "model_name": "LayoutModel",
     "state": {
      "_model_module": "@jupyter-widgets/base",
      "_model_module_version": "1.2.0",
      "_model_name": "LayoutModel",
      "_view_count": null,
      "_view_module": "@jupyter-widgets/base",
      "_view_module_version": "1.2.0",
      "_view_name": "LayoutView",
      "align_content": null,
      "align_items": null,
      "align_self": null,
      "border": null,
      "bottom": null,
      "display": null,
      "flex": null,
      "flex_flow": null,
      "grid_area": null,
      "grid_auto_columns": null,
      "grid_auto_flow": null,
      "grid_auto_rows": null,
      "grid_column": null,
      "grid_gap": null,
      "grid_row": null,
      "grid_template_areas": null,
      "grid_template_columns": null,
      "grid_template_rows": null,
      "height": null,
      "justify_content": null,
      "justify_items": null,
      "left": null,
      "margin": null,
      "max_height": null,
      "max_width": null,
      "min_height": null,
      "min_width": null,
      "object_fit": null,
      "object_position": null,
      "order": null,
      "overflow": null,
      "overflow_x": null,
      "overflow_y": null,
      "padding": null,
      "right": null,
      "top": null,
      "visibility": null,
      "width": null
     }
    },
    "f81bb409036f4cbfb298c646b387be31": {
     "model_module": "@jupyter-widgets/controls",
     "model_module_version": "1.5.0",
     "model_name": "HBoxModel",
     "state": {
      "_dom_classes": [],
      "_model_module": "@jupyter-widgets/controls",
      "_model_module_version": "1.5.0",
      "_model_name": "HBoxModel",
      "_view_count": null,
      "_view_module": "@jupyter-widgets/controls",
      "_view_module_version": "1.5.0",
      "_view_name": "HBoxView",
      "box_style": "",
      "children": [
       "IPY_MODEL_624e6a473c0845a39ad7e6bccb14d289",
       "IPY_MODEL_ebb595d018a8407a8637b28ee4e165ea",
       "IPY_MODEL_da81e8005b094b278c237c63350e2fde"
      ],
      "layout": "IPY_MODEL_2b6fb3637e604d998a549de4ac981628"
     }
    },
    "fb1e184302a2430793cb33a0e1d01837": {
     "model_module": "@jupyter-widgets/base",
     "model_module_version": "1.2.0",
     "model_name": "LayoutModel",
     "state": {
      "_model_module": "@jupyter-widgets/base",
      "_model_module_version": "1.2.0",
      "_model_name": "LayoutModel",
      "_view_count": null,
      "_view_module": "@jupyter-widgets/base",
      "_view_module_version": "1.2.0",
      "_view_name": "LayoutView",
      "align_content": null,
      "align_items": null,
      "align_self": null,
      "border": null,
      "bottom": null,
      "display": null,
      "flex": null,
      "flex_flow": null,
      "grid_area": null,
      "grid_auto_columns": null,
      "grid_auto_flow": null,
      "grid_auto_rows": null,
      "grid_column": null,
      "grid_gap": null,
      "grid_row": null,
      "grid_template_areas": null,
      "grid_template_columns": null,
      "grid_template_rows": null,
      "height": null,
      "justify_content": null,
      "justify_items": null,
      "left": null,
      "margin": null,
      "max_height": null,
      "max_width": null,
      "min_height": null,
      "min_width": null,
      "object_fit": null,
      "object_position": null,
      "order": null,
      "overflow": null,
      "overflow_x": null,
      "overflow_y": null,
      "padding": null,
      "right": null,
      "top": null,
      "visibility": null,
      "width": null
     }
    },
    "fc96bac337694bb18f6a8739b316ba12": {
     "model_module": "@jupyter-widgets/base",
     "model_module_version": "1.2.0",
     "model_name": "LayoutModel",
     "state": {
      "_model_module": "@jupyter-widgets/base",
      "_model_module_version": "1.2.0",
      "_model_name": "LayoutModel",
      "_view_count": null,
      "_view_module": "@jupyter-widgets/base",
      "_view_module_version": "1.2.0",
      "_view_name": "LayoutView",
      "align_content": null,
      "align_items": null,
      "align_self": null,
      "border": null,
      "bottom": null,
      "display": null,
      "flex": null,
      "flex_flow": null,
      "grid_area": null,
      "grid_auto_columns": null,
      "grid_auto_flow": null,
      "grid_auto_rows": null,
      "grid_column": null,
      "grid_gap": null,
      "grid_row": null,
      "grid_template_areas": null,
      "grid_template_columns": null,
      "grid_template_rows": null,
      "height": null,
      "justify_content": null,
      "justify_items": null,
      "left": null,
      "margin": null,
      "max_height": null,
      "max_width": null,
      "min_height": null,
      "min_width": null,
      "object_fit": null,
      "object_position": null,
      "order": null,
      "overflow": null,
      "overflow_x": null,
      "overflow_y": null,
      "padding": null,
      "right": null,
      "top": null,
      "visibility": null,
      "width": null
     }
    },
    "fd5c242bb286476db19431b69acdc8d0": {
     "model_module": "@jupyter-widgets/controls",
     "model_module_version": "1.5.0",
     "model_name": "DescriptionStyleModel",
     "state": {
      "_model_module": "@jupyter-widgets/controls",
      "_model_module_version": "1.5.0",
      "_model_name": "DescriptionStyleModel",
      "_view_count": null,
      "_view_module": "@jupyter-widgets/base",
      "_view_module_version": "1.2.0",
      "_view_name": "StyleView",
      "description_width": ""
     }
    },
    "fdc78ce08457480ba78d571a501ce119": {
     "model_module": "@jupyter-widgets/base",
     "model_module_version": "1.2.0",
     "model_name": "LayoutModel",
     "state": {
      "_model_module": "@jupyter-widgets/base",
      "_model_module_version": "1.2.0",
      "_model_name": "LayoutModel",
      "_view_count": null,
      "_view_module": "@jupyter-widgets/base",
      "_view_module_version": "1.2.0",
      "_view_name": "LayoutView",
      "align_content": null,
      "align_items": null,
      "align_self": null,
      "border": null,
      "bottom": null,
      "display": null,
      "flex": null,
      "flex_flow": null,
      "grid_area": null,
      "grid_auto_columns": null,
      "grid_auto_flow": null,
      "grid_auto_rows": null,
      "grid_column": null,
      "grid_gap": null,
      "grid_row": null,
      "grid_template_areas": null,
      "grid_template_columns": null,
      "grid_template_rows": null,
      "height": null,
      "justify_content": null,
      "justify_items": null,
      "left": null,
      "margin": null,
      "max_height": null,
      "max_width": null,
      "min_height": null,
      "min_width": null,
      "object_fit": null,
      "object_position": null,
      "order": null,
      "overflow": null,
      "overflow_x": null,
      "overflow_y": null,
      "padding": null,
      "right": null,
      "top": null,
      "visibility": null,
      "width": null
     }
    },
    "fe7463dfcf134972af216cb2550293d7": {
     "model_module": "@jupyter-widgets/controls",
     "model_module_version": "1.5.0",
     "model_name": "FloatProgressModel",
     "state": {
      "_dom_classes": [],
      "_model_module": "@jupyter-widgets/controls",
      "_model_module_version": "1.5.0",
      "_model_name": "FloatProgressModel",
      "_view_count": null,
      "_view_module": "@jupyter-widgets/controls",
      "_view_module_version": "1.5.0",
      "_view_name": "ProgressView",
      "bar_style": "success",
      "description": "",
      "description_tooltip": null,
      "layout": "IPY_MODEL_1dee5db504a04444a7483c540737cbc2",
      "max": 71,
      "min": 0,
      "orientation": "horizontal",
      "style": "IPY_MODEL_8956231c21734791979a739bfcc0d6eb",
      "value": 71
     }
    }
   }
  }
 },
 "nbformat": 4,
 "nbformat_minor": 5
}
